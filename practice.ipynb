{
 "cells": [
  {
   "cell_type": "code",
   "execution_count": 40,
   "metadata": {},
   "outputs": [],
   "source": [
    "import pandas as pd\n",
    "import numpy as np\n",
    "import matplotlib.pyplot as plt\n",
    "import seaborn as sns\n",
    "import plotly.express as px"
   ]
  },
  {
   "cell_type": "code",
   "execution_count": 29,
   "metadata": {},
   "outputs": [],
   "source": [
    "Data=pd.read_excel(\"amazon.xlsx\",header = 0,index_col=\"date\",na_values=0)\n",
    "df=Data.copy()\n",
    "df.dropna(inplace=True)\n",
    "df=df[df['number']>10]\n",
    "state=df['state'].unique()"
   ]
  },
  {
   "cell_type": "code",
   "execution_count": 30,
   "metadata": {},
   "outputs": [
    {
     "data": {
      "text/html": [
       "<div>\n",
       "<style scoped>\n",
       "    .dataframe tbody tr th:only-of-type {\n",
       "        vertical-align: middle;\n",
       "    }\n",
       "\n",
       "    .dataframe tbody tr th {\n",
       "        vertical-align: top;\n",
       "    }\n",
       "\n",
       "    .dataframe thead th {\n",
       "        text-align: right;\n",
       "    }\n",
       "</style>\n",
       "<table border=\"1\" class=\"dataframe\">\n",
       "  <thead>\n",
       "    <tr style=\"text-align: right;\">\n",
       "      <th></th>\n",
       "      <th>year</th>\n",
       "      <th>state</th>\n",
       "      <th>month</th>\n",
       "      <th>number</th>\n",
       "      <th>month_year</th>\n",
       "    </tr>\n",
       "    <tr>\n",
       "      <th>date</th>\n",
       "      <th></th>\n",
       "      <th></th>\n",
       "      <th></th>\n",
       "      <th></th>\n",
       "      <th></th>\n",
       "    </tr>\n",
       "  </thead>\n",
       "  <tbody>\n",
       "    <tr>\n",
       "      <th>2005-01-01</th>\n",
       "      <td>2005</td>\n",
       "      <td>Acre</td>\n",
       "      <td>Jan</td>\n",
       "      <td>12.0</td>\n",
       "      <td>2005-01-01</td>\n",
       "    </tr>\n",
       "    <tr>\n",
       "      <th>2016-01-01</th>\n",
       "      <td>2016</td>\n",
       "      <td>Acre</td>\n",
       "      <td>Jan</td>\n",
       "      <td>12.0</td>\n",
       "      <td>2016-01-01</td>\n",
       "    </tr>\n",
       "    <tr>\n",
       "      <th>2000-01-01</th>\n",
       "      <td>2000</td>\n",
       "      <td>Acre</td>\n",
       "      <td>March</td>\n",
       "      <td>11.0</td>\n",
       "      <td>2000-03-01</td>\n",
       "    </tr>\n",
       "    <tr>\n",
       "      <th>2013-01-01</th>\n",
       "      <td>2013</td>\n",
       "      <td>Acre</td>\n",
       "      <td>Apr</td>\n",
       "      <td>19.0</td>\n",
       "      <td>2013-04-01</td>\n",
       "    </tr>\n",
       "    <tr>\n",
       "      <th>2016-01-01</th>\n",
       "      <td>2016</td>\n",
       "      <td>Acre</td>\n",
       "      <td>May</td>\n",
       "      <td>21.0</td>\n",
       "      <td>2016-05-01</td>\n",
       "    </tr>\n",
       "  </tbody>\n",
       "</table>\n",
       "</div>"
      ],
      "text/plain": [
       "            year state  month  number month_year\n",
       "date                                            \n",
       "2005-01-01  2005  Acre    Jan    12.0 2005-01-01\n",
       "2016-01-01  2016  Acre    Jan    12.0 2016-01-01\n",
       "2000-01-01  2000  Acre  March    11.0 2000-03-01\n",
       "2013-01-01  2013  Acre    Apr    19.0 2013-04-01\n",
       "2016-01-01  2016  Acre    May    21.0 2016-05-01"
      ]
     },
     "execution_count": 30,
     "metadata": {},
     "output_type": "execute_result"
    }
   ],
   "source": [
    "df['month'].replace({'Janeiro' : 'Jan', 'Fevereiro' : 'Feb', 'Março' : 'March',\n",
    "                    'Abril' : 'Apr', 'Maio' : 'May', 'Junho' : 'June', \n",
    "                     'Julho' : 'July', 'Agosto' : 'Aug', 'Setembro' : 'Sep',\n",
    "                     'Outubro' : 'Oct', 'Novembro' : 'Nov', 'Dezembro' : 'Dec'\n",
    "                    }, inplace = True)\n",
    "df['month_year'] = pd.to_datetime(df['month'] + '.' + df['year'].astype('str'))\n",
    "df.head()"
   ]
  },
  {
   "cell_type": "code",
   "execution_count": 31,
   "metadata": {},
   "outputs": [
    {
     "name": "stdout",
     "output_type": "stream",
     "text": [
      "691635\n"
     ]
    },
    {
     "data": {
      "text/html": [
       "<div>\n",
       "<style scoped>\n",
       "    .dataframe tbody tr th:only-of-type {\n",
       "        vertical-align: middle;\n",
       "    }\n",
       "\n",
       "    .dataframe tbody tr th {\n",
       "        vertical-align: top;\n",
       "    }\n",
       "\n",
       "    .dataframe thead th {\n",
       "        text-align: right;\n",
       "    }\n",
       "</style>\n",
       "<table border=\"1\" class=\"dataframe\">\n",
       "  <thead>\n",
       "    <tr style=\"text-align: right;\">\n",
       "      <th></th>\n",
       "      <th>state</th>\n",
       "      <th>number</th>\n",
       "    </tr>\n",
       "  </thead>\n",
       "  <tbody>\n",
       "    <tr>\n",
       "      <th>0</th>\n",
       "      <td>Mato Grosso</td>\n",
       "      <td>95819.749</td>\n",
       "    </tr>\n",
       "    <tr>\n",
       "      <th>1</th>\n",
       "      <td>Paraiba</td>\n",
       "      <td>52027.000</td>\n",
       "    </tr>\n",
       "    <tr>\n",
       "      <th>2</th>\n",
       "      <td>Sao Paulo</td>\n",
       "      <td>51103.000</td>\n",
       "    </tr>\n",
       "    <tr>\n",
       "      <th>3</th>\n",
       "      <td>Bahia</td>\n",
       "      <td>44547.000</td>\n",
       "    </tr>\n",
       "    <tr>\n",
       "      <th>4</th>\n",
       "      <td>Rio</td>\n",
       "      <td>44292.000</td>\n",
       "    </tr>\n",
       "  </tbody>\n",
       "</table>\n",
       "</div>"
      ],
      "text/plain": [
       "         state     number\n",
       "0  Mato Grosso  95819.749\n",
       "1      Paraiba  52027.000\n",
       "2    Sao Paulo  51103.000\n",
       "3        Bahia  44547.000\n",
       "4          Rio  44292.000"
      ]
     },
     "execution_count": 31,
     "metadata": {},
     "output_type": "execute_result"
    }
   ],
   "source": [
    "group_by_state = df .groupby('state', as_index = False).agg({'number' : 'sum'}).sort_values('number', ascending = False,inplace=False).reset_index().drop('index', axis = 1)\n",
    "tot_sum=int(group_by_state['number'].sum())\n",
    "print(tot_sum)\n",
    "group_by_state.head()"
   ]
  },
  {
   "cell_type": "code",
   "execution_count": 32,
   "metadata": {},
   "outputs": [],
   "source": [
    "grp_stt=group_by_state['state'].to_list()\n",
    "grp_sum=group_by_state['number'].to_list()"
   ]
  },
  {
   "cell_type": "code",
   "execution_count": 33,
   "metadata": {},
   "outputs": [],
   "source": [
    "months = df.month.unique()\n",
    "months_num = np.arange(1,13)"
   ]
  },
  {
   "cell_type": "code",
   "execution_count": 34,
   "metadata": {},
   "outputs": [],
   "source": [
    "months_transform = {mon:mon_num for mon, mon_num in zip(months, months_num)}\n",
    "df['month_num'] = df['month'].map(months_transform)"
   ]
  },
  {
   "cell_type": "code",
   "execution_count": 35,
   "metadata": {},
   "outputs": [
    {
     "data": {
      "image/png": "[encoded data removed]",
      "text/plain": [
       "<Figure size 1500x1300 with 1 Axes>"
      ]
     },
     "metadata": {},
     "output_type": "display_data"
    }
   ],
   "source": [
    "sns.set_style('darkgrid')\n",
    "fig,ax=plt.subplots(figsize=(15,13))\n",
    "plt.barh(grp_stt,grp_sum,color='red')\n",
    "plt.ylabel('States',fontsize=20)\n",
    "plt.yticks(size=13,weight=\"bold\")\n",
    "plt.xlabel(\"No. of fires each state (1998 to 2017)\",size=20)\n",
    "plt.xticks(size=13,weight=\"bold\")\n",
    "ax.bar_label(ax.containers[0],weight=\"bold\",size=12)\n",
    "plt.style.use('ggplot')\n",
    "plt.show()"
   ]
  },
  {
   "cell_type": "code",
   "execution_count": 36,
   "metadata": {},
   "outputs": [
    {
     "data": {
      "image/png": "[encoded data removed]",
      "text/plain": [
       "<Figure size 1300x600 with 1 Axes>"
      ]
     },
     "metadata": {},
     "output_type": "display_data"
    }
   ],
   "source": [
    "# calculation for grouping by year\n",
    "\n",
    "group_by_year = df.groupby('year', as_index = False).agg({'number' : 'sum'}).reset_index().drop('index', axis = 1)\n",
    "\n",
    "# viz\n",
    "\n",
    "fig = plt.figure(figsize = (13, 6))\n",
    "ax = fig.add_axes([0, 0, 1, 1])\n",
    "\n",
    "sns.lineplot(x = group_by_year['year'], y = group_by_year['number'], lw = 3)\n",
    "plt.scatter(x = group_by_year['year'] , y = group_by_year['number'], color = 'black', zorder = 3, lw = 2)\n",
    "\n",
    "# Scatter plt for five major states where fire is more than avg.\n",
    "\n",
    "major_five_stts=group_by_year[['year','number']].nlargest(5,columns='number').sort_values(by='number',ascending=True)\n",
    "x_year=major_five_stts['year'].to_list()\n",
    "y_number=major_five_stts['number'].to_list()\n",
    "plt.scatter(x =x_year  , y =y_number , color = 'firebrick', zorder = 3, lw = 12)\n",
    "plt.axhline(y = group_by_year['number'].mean(), color = 'firebrick', ls = '--', lw = 2,label='')\n",
    "plt.axhline(y = 35000, color = 'k', ls = '-', lw = 2,label='')\n",
    "\n",
    "# ticks\n",
    "\n",
    "ax.xaxis.set_major_locator(plt.MaxNLocator(12))\n",
    "ax.set_xlim(1996.5, 2018)\n",
    "plt.yticks(range(0, 45001, 5000))\n",
    "plt.tick_params(direction='out', length=6, width=3, colors='black', grid_color='black', labelsize = 16)\n",
    "\n",
    "# labels\n",
    "\n",
    "plt.xlabel('Year', color = 'black', fontsize = 16, fontweight = 'bold')\n",
    "plt.ylabel('No. of fires', color = 'black', fontsize = 16, fontweight = 'bold')\n",
    "\n",
    "# title\n",
    "\n",
    "plt.title('Number of fires by year', color = 'black', fontsize = 20,\n",
    "fontweight = 'bold')\n",
    "plt.grid(False)\n",
    "plt.show()"
   ]
  },
  {
   "cell_type": "code",
   "execution_count": 37,
   "metadata": {},
   "outputs": [],
   "source": [
    "latitude={\n",
    "    'Acre':-9.02,'Alagoas':-9.57,'Amapa':02.05,'Amazonas':-5.00 ,'Bahia':-12.00,'Ceara':-5.00,\n",
    "          \n",
    "          'Distrito Federal':-15.45,'Espirito Santo':-20.00,'Goias':-15.55,'Maranhao':-5.00,'Mato Grosso':-14.00\n",
    "          \n",
    "          ,'Minas Gerais':-18.50,'Para':-3.20,'Paraiba':-7.00,'Pernambuco':-8.00,'Piau':-7.00,'Rio':-22.90,\n",
    "          \n",
    "          'Rondonia':-11.00,'Roraima':-2.00,'Santa Catarina':-27.25,'Sao Paulo':-23.32,'Sergipe':-10.30,\n",
    "         \n",
    "         'Tocantins':-10.00\n",
    "         }\n",
    "\n",
    "longitude={\n",
    "    'Acre':-70.8120,'Alagoas':-36.7820,'Amapa':-50.50,'Amazonas':-65.00,'Bahia':-42.00,'Ceara':-40.00,\n",
    "    \n",
    "    'Distrito Federal':-47.45,'Espirito Santo':-40.45,'Goias':-50.10,'Maranhao':-46.00,'Mato Grosso':-55.00,\n",
    "    \n",
    "    'Minas Gerais':-46.00,'Pará':-52.00,'Paraiba':-36.00,'Pernambuco':-37.00,'Piau':-73.00, 'Rio':-43.17,\n",
    "    \n",
    "    'Rondonia':-63.00,'Roraima':-61.30,'Santa Catarina':-48.30,'Sao Paulo':-46.37,'Sergipe':-37.30,\n",
    "    \n",
    "    'Tocantins':-48.00\n",
    "}\n",
    "df['latitude'] = df['state'].map(latitude)\n",
    "df['longitude'] = df['state'].map(longitude)"
   ]
  },
  {
   "cell_type": "code",
   "execution_count": 41,
   "metadata": {},
   "outputs": [
    {
     "data": {
      "application/vnd.plotly.v1+json": {
       "config": {
        "plotlyServerURL": "https://plot.ly"
       },
       "data": [
        {
         "geo": "geo",
         "hovertemplate": "<b>%{hovertext}</b><br><br>state=Mato Grosso<br>number=%{marker.size}<br>latitude=%{lat}<br>longitude=%{lon}<extra></extra>",
         "hovertext": [
          "Mato Grosso"
         ],
         "lat": [
          -14
         ],
         "legendgroup": "Mato Grosso",
         "lon": [
          -55
         ],
         "marker": {
          "color": "#636efa",
          "size": [
           6919.9220000000005
          ],
          "sizemode": "area",
          "sizeref": 17.299805000000003,
          "symbol": "circle"
         },
         "mode": "markers",
         "name": "Mato Grosso",
         "showlegend": true,
         "type": "scattergeo"
        },
        {
         "geo": "geo",
         "hovertemplate": "<b>%{hovertext}</b><br><br>state=Rio<br>number=%{marker.size}<br>latitude=%{lat}<br>longitude=%{lon}<extra></extra>",
         "hovertext": [
          "Rio"
         ],
         "lat": [
          -22.9
         ],
         "legendgroup": "Rio",
         "lon": [
          -43.17
         ],
         "marker": {
          "color": "#EF553B",
          "size": [
           3391
          ],
          "sizemode": "area",
          "sizeref": 17.299805000000003,
          "symbol": "circle"
         },
         "mode": "markers",
         "name": "Rio",
         "showlegend": true,
         "type": "scattergeo"
        },
        {
         "geo": "geo",
         "hovertemplate": "<b>%{hovertext}</b><br><br>state=Sao Paulo<br>number=%{marker.size}<br>latitude=%{lat}<br>longitude=%{lon}<extra></extra>",
         "hovertext": [
          "Sao Paulo"
         ],
         "lat": [
          -23.32
         ],
         "legendgroup": "Sao Paulo",
         "lon": [
          -46.37
         ],
         "marker": {
          "color": "#00cc96",
          "size": [
           3306
          ],
          "sizemode": "area",
          "sizeref": 17.299805000000003,
          "symbol": "circle"
         },
         "mode": "markers",
         "name": "Sao Paulo",
         "showlegend": true,
         "type": "scattergeo"
        },
        {
         "geo": "geo",
         "hovertemplate": "<b>%{hovertext}</b><br><br>state=Bahia<br>number=%{marker.size}<br>latitude=%{lat}<br>longitude=%{lon}<extra></extra>",
         "hovertext": [
          "Bahia"
         ],
         "lat": [
          -12
         ],
         "legendgroup": "Bahia",
         "lon": [
          -42
         ],
         "marker": {
          "color": "#ab63fa",
          "size": [
           3062
          ],
          "sizemode": "area",
          "sizeref": 17.299805000000003,
          "symbol": "circle"
         },
         "mode": "markers",
         "name": "Bahia",
         "showlegend": true,
         "type": "scattergeo"
        },
        {
         "geo": "geo",
         "hovertemplate": "<b>%{hovertext}</b><br><br>state=Paraiba<br>number=%{marker.size}<br>latitude=%{lat}<br>longitude=%{lon}<extra></extra>",
         "hovertext": [
          "Paraiba"
         ],
         "lat": [
          -7
         ],
         "legendgroup": "Paraiba",
         "lon": [
          -36
         ],
         "marker": {
          "color": "#FFA15A",
          "size": [
           2782
          ],
          "sizemode": "area",
          "sizeref": 17.299805000000003,
          "symbol": "circle"
         },
         "mode": "markers",
         "name": "Paraiba",
         "showlegend": true,
         "type": "scattergeo"
        },
        {
         "geo": "geo",
         "hovertemplate": "<b>%{hovertext}</b><br><br>state=Pernambuco<br>number=%{marker.size}<br>latitude=%{lat}<br>longitude=%{lon}<extra></extra>",
         "hovertext": [
          "Pernambuco"
         ],
         "lat": [
          -8
         ],
         "legendgroup": "Pernambuco",
         "lon": [
          -37
         ],
         "marker": {
          "color": "#19d3f3",
          "size": [
           2407
          ],
          "sizemode": "area",
          "sizeref": 17.299805000000003,
          "symbol": "circle"
         },
         "mode": "markers",
         "name": "Pernambuco",
         "showlegend": true,
         "type": "scattergeo"
        },
        {
         "geo": "geo",
         "hovertemplate": "<b>%{hovertext}</b><br><br>state=Goias<br>number=%{marker.size}<br>latitude=%{lat}<br>longitude=%{lon}<extra></extra>",
         "hovertext": [
          "Goias"
         ],
         "lat": [
          -15.55
         ],
         "legendgroup": "Goias",
         "lon": [
          -50.1
         ],
         "marker": {
          "color": "#FF6692",
          "size": [
           2076
          ],
          "sizemode": "area",
          "sizeref": 17.299805000000003,
          "symbol": "circle"
         },
         "mode": "markers",
         "name": "Goias",
         "showlegend": true,
         "type": "scattergeo"
        },
        {
         "geo": "geo",
         "hovertemplate": "<b>%{hovertext}</b><br><br>state=Piau<br>number=%{marker.size}<br>latitude=%{lat}<br>longitude=%{lon}<extra></extra>",
         "hovertext": [
          "Piau"
         ],
         "lat": [
          -7
         ],
         "legendgroup": "Piau",
         "lon": [
          -73
         ],
         "marker": {
          "color": "#B6E880",
          "size": [
           1954
          ],
          "sizemode": "area",
          "sizeref": 17.299805000000003,
          "symbol": "circle"
         },
         "mode": "markers",
         "name": "Piau",
         "showlegend": true,
         "type": "scattergeo"
        },
        {
         "geo": "geo",
         "hovertemplate": "<b>%{hovertext}</b><br><br>state=Minas Gerais<br>number=%{marker.size}<br>latitude=%{lat}<br>longitude=%{lon}<extra></extra>",
         "hovertext": [
          "Minas Gerais"
         ],
         "lat": [
          -18.5
         ],
         "legendgroup": "Minas Gerais",
         "lon": [
          -46
         ],
         "marker": {
          "color": "#FF97FF",
          "size": [
           1810
          ],
          "sizemode": "area",
          "sizeref": 17.299805000000003,
          "symbol": "circle"
         },
         "mode": "markers",
         "name": "Minas Gerais",
         "showlegend": true,
         "type": "scattergeo"
        },
        {
         "geo": "geo",
         "hovertemplate": "<b>%{hovertext}</b><br><br>state=Roraima<br>number=%{marker.size}<br>latitude=%{lat}<br>longitude=%{lon}<extra></extra>",
         "hovertext": [
          "Roraima"
         ],
         "lat": [
          -2
         ],
         "legendgroup": "Roraima",
         "lon": [
          -61.3
         ],
         "marker": {
          "color": "#FECB52",
          "size": [
           1780
          ],
          "sizemode": "area",
          "sizeref": 17.299805000000003,
          "symbol": "circle"
         },
         "mode": "markers",
         "name": "Roraima",
         "showlegend": true,
         "type": "scattergeo"
        },
        {
         "geo": "geo",
         "hovertemplate": "<b>%{hovertext}</b><br><br>state=Amapa<br>number=%{marker.size}<br>latitude=%{lat}<br>longitude=%{lon}<extra></extra>",
         "hovertext": [
          "Amapa"
         ],
         "lat": [
          2.05
         ],
         "legendgroup": "Amapa",
         "lon": [
          -50.5
         ],
         "marker": {
          "color": "#636efa",
          "size": [
           1649
          ],
          "sizemode": "area",
          "sizeref": 17.299805000000003,
          "symbol": "circle"
         },
         "mode": "markers",
         "name": "Amapa",
         "showlegend": true,
         "type": "scattergeo"
        },
        {
         "geo": "geo",
         "hovertemplate": "<b>%{hovertext}</b><br><br>state=Santa Catarina<br>number=%{marker.size}<br>latitude=%{lat}<br>longitude=%{lon}<extra></extra>",
         "hovertext": [
          "Santa Catarina"
         ],
         "lat": [
          -27.25
         ],
         "legendgroup": "Santa Catarina",
         "lon": [
          -48.3
         ],
         "marker": {
          "color": "#EF553B",
          "size": [
           1606
          ],
          "sizemode": "area",
          "sizeref": 17.299805000000003,
          "symbol": "circle"
         },
         "mode": "markers",
         "name": "Santa Catarina",
         "showlegend": true,
         "type": "scattergeo"
        },
        {
         "geo": "geo",
         "hovertemplate": "<b>%{hovertext}</b><br><br>state=Tocantins<br>number=%{marker.size}<br>latitude=%{lat}<br>longitude=%{lon}<extra></extra>",
         "hovertext": [
          "Tocantins"
         ],
         "lat": [
          -10
         ],
         "legendgroup": "Tocantins",
         "lon": [
          -48
         ],
         "marker": {
          "color": "#00cc96",
          "size": [
           1575
          ],
          "sizemode": "area",
          "sizeref": 17.299805000000003,
          "symbol": "circle"
         },
         "mode": "markers",
         "name": "Tocantins",
         "showlegend": true,
         "type": "scattergeo"
        },
        {
         "geo": "geo",
         "hovertemplate": "<b>%{hovertext}</b><br><br>state=Amazonas<br>number=%{marker.size}<br>latitude=%{lat}<br>longitude=%{lon}<extra></extra>",
         "hovertext": [
          "Amazonas"
         ],
         "lat": [
          -5
         ],
         "legendgroup": "Amazonas",
         "lon": [
          -65
         ],
         "marker": {
          "color": "#ab63fa",
          "size": [
           1516
          ],
          "sizemode": "area",
          "sizeref": 17.299805000000003,
          "symbol": "circle"
         },
         "mode": "markers",
         "name": "Amazonas",
         "showlegend": true,
         "type": "scattergeo"
        },
        {
         "geo": "geo",
         "hovertemplate": "<b>%{hovertext}</b><br><br>state=Rondonia<br>number=%{marker.size}<br>latitude=%{lat}<br>longitude=%{lon}<extra></extra>",
         "hovertext": [
          "Rondonia"
         ],
         "lat": [
          -11
         ],
         "legendgroup": "Rondonia",
         "lon": [
          -63
         ],
         "marker": {
          "color": "#FFA15A",
          "size": [
           1426
          ],
          "sizemode": "area",
          "sizeref": 17.299805000000003,
          "symbol": "circle"
         },
         "mode": "markers",
         "name": "Rondonia",
         "showlegend": true,
         "type": "scattergeo"
        },
        {
         "geo": "geo",
         "hovertemplate": "<b>%{hovertext}</b><br><br>state=Pará<br>number=%{marker.size}<br>latitude=%{lat}<br>longitude=%{lon}<extra></extra>",
         "hovertext": [
          "Pará"
         ],
         "lat": [
          null
         ],
         "legendgroup": "Pará",
         "lon": [
          -52
         ],
         "marker": {
          "color": "#19d3f3",
          "size": [
           1039
          ],
          "sizemode": "area",
          "sizeref": 17.299805000000003,
          "symbol": "circle"
         },
         "mode": "markers",
         "name": "Pará",
         "showlegend": true,
         "type": "scattergeo"
        },
        {
         "geo": "geo",
         "hovertemplate": "<b>%{hovertext}</b><br><br>state=Maranhao<br>number=%{marker.size}<br>latitude=%{lat}<br>longitude=%{lon}<extra></extra>",
         "hovertext": [
          "Maranhao"
         ],
         "lat": [
          -5
         ],
         "legendgroup": "Maranhao",
         "lon": [
          -46
         ],
         "marker": {
          "color": "#FF6692",
          "size": [
           940
          ],
          "sizemode": "area",
          "sizeref": 17.299805000000003,
          "symbol": "circle"
         },
         "mode": "markers",
         "name": "Maranhao",
         "showlegend": true,
         "type": "scattergeo"
        },
        {
         "geo": "geo",
         "hovertemplate": "<b>%{hovertext}</b><br><br>state=Acre<br>number=%{marker.size}<br>latitude=%{lat}<br>longitude=%{lon}<extra></extra>",
         "hovertext": [
          "Acre"
         ],
         "lat": [
          -9.02
         ],
         "legendgroup": "Acre",
         "lon": [
          -70.812
         ],
         "marker": {
          "color": "#B6E880",
          "size": [
           923
          ],
          "sizemode": "area",
          "sizeref": 17.299805000000003,
          "symbol": "circle"
         },
         "mode": "markers",
         "name": "Acre",
         "showlegend": true,
         "type": "scattergeo"
        },
        {
         "geo": "geo",
         "hovertemplate": "<b>%{hovertext}</b><br><br>state=Ceara<br>number=%{marker.size}<br>latitude=%{lat}<br>longitude=%{lon}<extra></extra>",
         "hovertext": [
          "Ceara"
         ],
         "lat": [
          -5
         ],
         "legendgroup": "Ceara",
         "lon": [
          -40
         ],
         "marker": {
          "color": "#FF97FF",
          "size": [
           771
          ],
          "sizemode": "area",
          "sizeref": 17.299805000000003,
          "symbol": "circle"
         },
         "mode": "markers",
         "name": "Ceara",
         "showlegend": true,
         "type": "scattergeo"
        },
        {
         "geo": "geo",
         "hovertemplate": "<b>%{hovertext}</b><br><br>state=Espirito Santo<br>number=%{marker.size}<br>latitude=%{lat}<br>longitude=%{lon}<extra></extra>",
         "hovertext": [
          "Espirito Santo"
         ],
         "lat": [
          -20
         ],
         "legendgroup": "Espirito Santo",
         "lon": [
          -40.45
         ],
         "marker": {
          "color": "#FECB52",
          "size": [
           703
          ],
          "sizemode": "area",
          "sizeref": 17.299805000000003,
          "symbol": "circle"
         },
         "mode": "markers",
         "name": "Espirito Santo",
         "showlegend": true,
         "type": "scattergeo"
        },
        {
         "geo": "geo",
         "hovertemplate": "<b>%{hovertext}</b><br><br>state=Sergipe<br>number=%{marker.size}<br>latitude=%{lat}<br>longitude=%{lon}<extra></extra>",
         "hovertext": [
          "Sergipe"
         ],
         "lat": [
          -10.3
         ],
         "legendgroup": "Sergipe",
         "lon": [
          -37.3
         ],
         "marker": {
          "color": "#636efa",
          "size": [
           394
          ],
          "sizemode": "area",
          "sizeref": 17.299805000000003,
          "symbol": "circle"
         },
         "mode": "markers",
         "name": "Sergipe",
         "showlegend": true,
         "type": "scattergeo"
        },
        {
         "geo": "geo",
         "hovertemplate": "<b>%{hovertext}</b><br><br>state=Alagoas<br>number=%{marker.size}<br>latitude=%{lat}<br>longitude=%{lon}<extra></extra>",
         "hovertext": [
          "Alagoas"
         ],
         "lat": [
          -9.57
         ],
         "legendgroup": "Alagoas",
         "lon": [
          -36.782
         ],
         "marker": {
          "color": "#EF553B",
          "size": [
           278
          ],
          "sizemode": "area",
          "sizeref": 17.299805000000003,
          "symbol": "circle"
         },
         "mode": "markers",
         "name": "Alagoas",
         "showlegend": true,
         "type": "scattergeo"
        },
        {
         "geo": "geo",
         "hovertemplate": "<b>%{hovertext}</b><br><br>state=Distrito Federal<br>number=%{marker.size}<br>latitude=%{lat}<br>longitude=%{lon}<extra></extra>",
         "hovertext": [
          "Distrito Federal"
         ],
         "lat": [
          -15.45
         ],
         "legendgroup": "Distrito Federal",
         "lon": [
          -47.45
         ],
         "marker": {
          "color": "#00cc96",
          "size": [
           95
          ],
          "sizemode": "area",
          "sizeref": 17.299805000000003,
          "symbol": "circle"
         },
         "mode": "markers",
         "name": "Distrito Federal",
         "showlegend": true,
         "type": "scattergeo"
        }
       ],
       "layout": {
        "geo": {
         "center": {},
         "domain": {
          "x": [
           0,
           1
          ],
          "y": [
           0,
           1
          ]
         },
         "projection": {
          "type": "hammer"
         },
         "scope": "south america"
        },
        "legend": {
         "itemsizing": "constant",
         "title": {
          "text": "state"
         },
         "tracegroupgap": 0
        },
        "margin": {
         "t": 60
        },
        "template": {
         "data": {
          "bar": [
           {
            "error_x": {
             "color": "#2a3f5f"
            },
            "error_y": {
             "color": "#2a3f5f"
            },
            "marker": {
             "line": {
              "color": "#E5ECF6",
              "width": 0.5
             },
             "pattern": {
              "fillmode": "overlay",
              "size": 10,
              "solidity": 0.2
             }
            },
            "type": "bar"
           }
          ],
          "barpolar": [
           {
            "marker": {
             "line": {
              "color": "#E5ECF6",
              "width": 0.5
             },
             "pattern": {
              "fillmode": "overlay",
              "size": 10,
              "solidity": 0.2
             }
            },
            "type": "barpolar"
           }
          ],
          "carpet": [
           {
            "aaxis": {
             "endlinecolor": "#2a3f5f",
             "gridcolor": "white",
             "linecolor": "white",
             "minorgridcolor": "white",
             "startlinecolor": "#2a3f5f"
            },
            "baxis": {
             "endlinecolor": "#2a3f5f",
             "gridcolor": "white",
             "linecolor": "white",
             "minorgridcolor": "white",
             "startlinecolor": "#2a3f5f"
            },
            "type": "carpet"
           }
          ],
          "choropleth": [
           {
            "colorbar": {
             "outlinewidth": 0,
             "ticks": ""
            },
            "type": "choropleth"
           }
          ],
          "contour": [
           {
            "colorbar": {
             "outlinewidth": 0,
             "ticks": ""
            },
            "colorscale": [
             [
              0,
              "#0d0887"
             ],
             [
              0.1111111111111111,
              "#46039f"
             ],
             [
              0.2222222222222222,
              "#7201a8"
             ],
             [
              0.3333333333333333,
              "#9c179e"
             ],
             [
              0.4444444444444444,
              "#bd3786"
             ],
             [
              0.5555555555555556,
              "#d8576b"
             ],
             [
              0.6666666666666666,
              "#ed7953"
             ],
             [
              0.7777777777777778,
              "#fb9f3a"
             ],
             [
              0.8888888888888888,
              "#fdca26"
             ],
             [
              1,
              "#f0f921"
             ]
            ],
            "type": "contour"
           }
          ],
          "contourcarpet": [
           {
            "colorbar": {
             "outlinewidth": 0,
             "ticks": ""
            },
            "type": "contourcarpet"
           }
          ],
          "heatmap": [
           {
            "colorbar": {
             "outlinewidth": 0,
             "ticks": ""
            },
            "colorscale": [
             [
              0,
              "#0d0887"
             ],
             [
              0.1111111111111111,
              "#46039f"
             ],
             [
              0.2222222222222222,
              "#7201a8"
             ],
             [
              0.3333333333333333,
              "#9c179e"
             ],
             [
              0.4444444444444444,
              "#bd3786"
             ],
             [
              0.5555555555555556,
              "#d8576b"
             ],
             [
              0.6666666666666666,
              "#ed7953"
             ],
             [
              0.7777777777777778,
              "#fb9f3a"
             ],
             [
              0.8888888888888888,
              "#fdca26"
             ],
             [
              1,
              "#f0f921"
             ]
            ],
            "type": "heatmap"
           }
          ],
          "heatmapgl": [
           {
            "colorbar": {
             "outlinewidth": 0,
             "ticks": ""
            },
            "colorscale": [
             [
              0,
              "#0d0887"
             ],
             [
              0.1111111111111111,
              "#46039f"
             ],
             [
              0.2222222222222222,
              "#7201a8"
             ],
             [
              0.3333333333333333,
              "#9c179e"
             ],
             [
              0.4444444444444444,
              "#bd3786"
             ],
             [
              0.5555555555555556,
              "#d8576b"
             ],
             [
              0.6666666666666666,
              "#ed7953"
             ],
             [
              0.7777777777777778,
              "#fb9f3a"
             ],
             [
              0.8888888888888888,
              "#fdca26"
             ],
             [
              1,
              "#f0f921"
             ]
            ],
            "type": "heatmapgl"
           }
          ],
          "histogram": [
           {
            "marker": {
             "pattern": {
              "fillmode": "overlay",
              "size": 10,
              "solidity": 0.2
             }
            },
            "type": "histogram"
           }
          ],
          "histogram2d": [
           {
            "colorbar": {
             "outlinewidth": 0,
             "ticks": ""
            },
            "colorscale": [
             [
              0,
              "#0d0887"
             ],
             [
              0.1111111111111111,
              "#46039f"
             ],
             [
              0.2222222222222222,
              "#7201a8"
             ],
             [
              0.3333333333333333,
              "#9c179e"
             ],
             [
              0.4444444444444444,
              "#bd3786"
             ],
             [
              0.5555555555555556,
              "#d8576b"
             ],
             [
              0.6666666666666666,
              "#ed7953"
             ],
             [
              0.7777777777777778,
              "#fb9f3a"
             ],
             [
              0.8888888888888888,
              "#fdca26"
             ],
             [
              1,
              "#f0f921"
             ]
            ],
            "type": "histogram2d"
           }
          ],
          "histogram2dcontour": [
           {
            "colorbar": {
             "outlinewidth": 0,
             "ticks": ""
            },
            "colorscale": [
             [
              0,
              "#0d0887"
             ],
             [
              0.1111111111111111,
              "#46039f"
             ],
             [
              0.2222222222222222,
              "#7201a8"
             ],
             [
              0.3333333333333333,
              "#9c179e"
             ],
             [
              0.4444444444444444,
              "#bd3786"
             ],
             [
              0.5555555555555556,
              "#d8576b"
             ],
             [
              0.6666666666666666,
              "#ed7953"
             ],
             [
              0.7777777777777778,
              "#fb9f3a"
             ],
             [
              0.8888888888888888,
              "#fdca26"
             ],
             [
              1,
              "#f0f921"
             ]
            ],
            "type": "histogram2dcontour"
           }
          ],
          "mesh3d": [
           {
            "colorbar": {
             "outlinewidth": 0,
             "ticks": ""
            },
            "type": "mesh3d"
           }
          ],
          "parcoords": [
           {
            "line": {
             "colorbar": {
              "outlinewidth": 0,
              "ticks": ""
             }
            },
            "type": "parcoords"
           }
          ],
          "pie": [
           {
            "automargin": true,
            "type": "pie"
           }
          ],
          "scatter": [
           {
            "fillpattern": {
             "fillmode": "overlay",
             "size": 10,
             "solidity": 0.2
            },
            "type": "scatter"
           }
          ],
          "scatter3d": [
           {
            "line": {
             "colorbar": {
              "outlinewidth": 0,
              "ticks": ""
             }
            },
            "marker": {
             "colorbar": {
              "outlinewidth": 0,
              "ticks": ""
             }
            },
            "type": "scatter3d"
           }
          ],
          "scattercarpet": [
           {
            "marker": {
             "colorbar": {
              "outlinewidth": 0,
              "ticks": ""
             }
            },
            "type": "scattercarpet"
           }
          ],
          "scattergeo": [
           {
            "marker": {
             "colorbar": {
              "outlinewidth": 0,
              "ticks": ""
             }
            },
            "type": "scattergeo"
           }
          ],
          "scattergl": [
           {
            "marker": {
             "colorbar": {
              "outlinewidth": 0,
              "ticks": ""
             }
            },
            "type": "scattergl"
           }
          ],
          "scattermapbox": [
           {
            "marker": {
             "colorbar": {
              "outlinewidth": 0,
              "ticks": ""
             }
            },
            "type": "scattermapbox"
           }
          ],
          "scatterpolar": [
           {
            "marker": {
             "colorbar": {
              "outlinewidth": 0,
              "ticks": ""
             }
            },
            "type": "scatterpolar"
           }
          ],
          "scatterpolargl": [
           {
            "marker": {
             "colorbar": {
              "outlinewidth": 0,
              "ticks": ""
             }
            },
            "type": "scatterpolargl"
           }
          ],
          "scatterternary": [
           {
            "marker": {
             "colorbar": {
              "outlinewidth": 0,
              "ticks": ""
             }
            },
            "type": "scatterternary"
           }
          ],
          "surface": [
           {
            "colorbar": {
             "outlinewidth": 0,
             "ticks": ""
            },
            "colorscale": [
             [
              0,
              "#0d0887"
             ],
             [
              0.1111111111111111,
              "#46039f"
             ],
             [
              0.2222222222222222,
              "#7201a8"
             ],
             [
              0.3333333333333333,
              "#9c179e"
             ],
             [
              0.4444444444444444,
              "#bd3786"
             ],
             [
              0.5555555555555556,
              "#d8576b"
             ],
             [
              0.6666666666666666,
              "#ed7953"
             ],
             [
              0.7777777777777778,
              "#fb9f3a"
             ],
             [
              0.8888888888888888,
              "#fdca26"
             ],
             [
              1,
              "#f0f921"
             ]
            ],
            "type": "surface"
           }
          ],
          "table": [
           {
            "cells": {
             "fill": {
              "color": "#EBF0F8"
             },
             "line": {
              "color": "white"
             }
            },
            "header": {
             "fill": {
              "color": "#C8D4E3"
             },
             "line": {
              "color": "white"
             }
            },
            "type": "table"
           }
          ]
         },
         "layout": {
          "annotationdefaults": {
           "arrowcolor": "#2a3f5f",
           "arrowhead": 0,
           "arrowwidth": 1
          },
          "autotypenumbers": "strict",
          "coloraxis": {
           "colorbar": {
            "outlinewidth": 0,
            "ticks": ""
           }
          },
          "colorscale": {
           "diverging": [
            [
             0,
             "#8e0152"
            ],
            [
             0.1,
             "#c51b7d"
            ],
            [
             0.2,
             "#de77ae"
            ],
            [
             0.3,
             "#f1b6da"
            ],
            [
             0.4,
             "#fde0ef"
            ],
            [
             0.5,
             "#f7f7f7"
            ],
            [
             0.6,
             "#e6f5d0"
            ],
            [
             0.7,
             "#b8e186"
            ],
            [
             0.8,
             "#7fbc41"
            ],
            [
             0.9,
             "#4d9221"
            ],
            [
             1,
             "#276419"
            ]
           ],
           "sequential": [
            [
             0,
             "#0d0887"
            ],
            [
             0.1111111111111111,
             "#46039f"
            ],
            [
             0.2222222222222222,
             "#7201a8"
            ],
            [
             0.3333333333333333,
             "#9c179e"
            ],
            [
             0.4444444444444444,
             "#bd3786"
            ],
            [
             0.5555555555555556,
             "#d8576b"
            ],
            [
             0.6666666666666666,
             "#ed7953"
            ],
            [
             0.7777777777777778,
             "#fb9f3a"
            ],
            [
             0.8888888888888888,
             "#fdca26"
            ],
            [
             1,
             "#f0f921"
            ]
           ],
           "sequentialminus": [
            [
             0,
             "#0d0887"
            ],
            [
             0.1111111111111111,
             "#46039f"
            ],
            [
             0.2222222222222222,
             "#7201a8"
            ],
            [
             0.3333333333333333,
             "#9c179e"
            ],
            [
             0.4444444444444444,
             "#bd3786"
            ],
            [
             0.5555555555555556,
             "#d8576b"
            ],
            [
             0.6666666666666666,
             "#ed7953"
            ],
            [
             0.7777777777777778,
             "#fb9f3a"
            ],
            [
             0.8888888888888888,
             "#fdca26"
            ],
            [
             1,
             "#f0f921"
            ]
           ]
          },
          "colorway": [
           "#636efa",
           "#EF553B",
           "#00cc96",
           "#ab63fa",
           "#FFA15A",
           "#19d3f3",
           "#FF6692",
           "#B6E880",
           "#FF97FF",
           "#FECB52"
          ],
          "font": {
           "color": "#2a3f5f"
          },
          "geo": {
           "bgcolor": "white",
           "lakecolor": "white",
           "landcolor": "#E5ECF6",
           "showlakes": true,
           "showland": true,
           "subunitcolor": "white"
          },
          "hoverlabel": {
           "align": "left"
          },
          "hovermode": "closest",
          "mapbox": {
           "style": "light"
          },
          "paper_bgcolor": "white",
          "plot_bgcolor": "#E5ECF6",
          "polar": {
           "angularaxis": {
            "gridcolor": "white",
            "linecolor": "white",
            "ticks": ""
           },
           "bgcolor": "#E5ECF6",
           "radialaxis": {
            "gridcolor": "white",
            "linecolor": "white",
            "ticks": ""
           }
          },
          "scene": {
           "xaxis": {
            "backgroundcolor": "#E5ECF6",
            "gridcolor": "white",
            "gridwidth": 2,
            "linecolor": "white",
            "showbackground": true,
            "ticks": "",
            "zerolinecolor": "white"
           },
           "yaxis": {
            "backgroundcolor": "#E5ECF6",
            "gridcolor": "white",
            "gridwidth": 2,
            "linecolor": "white",
            "showbackground": true,
            "ticks": "",
            "zerolinecolor": "white"
           },
           "zaxis": {
            "backgroundcolor": "#E5ECF6",
            "gridcolor": "white",
            "gridwidth": 2,
            "linecolor": "white",
            "showbackground": true,
            "ticks": "",
            "zerolinecolor": "white"
           }
          },
          "shapedefaults": {
           "line": {
            "color": "#2a3f5f"
           }
          },
          "ternary": {
           "aaxis": {
            "gridcolor": "white",
            "linecolor": "white",
            "ticks": ""
           },
           "baxis": {
            "gridcolor": "white",
            "linecolor": "white",
            "ticks": ""
           },
           "bgcolor": "#E5ECF6",
           "caxis": {
            "gridcolor": "white",
            "linecolor": "white",
            "ticks": ""
           }
          },
          "title": {
           "x": 0.05
          },
          "xaxis": {
           "automargin": true,
           "gridcolor": "white",
           "linecolor": "white",
           "ticks": "",
           "title": {
            "standoff": 15
           },
           "zerolinecolor": "white",
           "zerolinewidth": 2
          },
          "yaxis": {
           "automargin": true,
           "gridcolor": "white",
           "linecolor": "white",
           "ticks": "",
           "title": {
            "standoff": 15
           },
           "zerolinecolor": "white",
           "zerolinewidth": 2
          }
         }
        },
        "title": {
         "font": {
          "color": "black",
          "size": 24
         },
         "text": "Fires in 2003 by state",
         "x": 0.2
        }
       }
      }
     },
     "metadata": {},
     "output_type": "display_data"
    }
   ],
   "source": [
    "# calculations\n",
    "by_state_2003 = df \\\n",
    "    .query('year == 2003') \\\n",
    "    .groupby('state', as_index = False) \\\n",
    "    .agg({'number' : 'sum'}) \\\n",
    "    .sort_values('number', ascending = False)\n",
    "by_state_2003['latitude'] = by_state_2003['state'].map(latitude)\n",
    "by_state_2003['longitude'] = by_state_2003['state'].map(longitude)\n",
    "\n",
    "# viz\n",
    "fig = px.scatter_geo(data_frame= by_state_2003, scope='south america',lat = 'latitude',lon = 'longitude',\n",
    "                     size= 'number' , color = 'state', projection= 'hammer', hover_name = 'state')\n",
    "fig.update_layout(title = dict(\n",
    "    text='Fires in 2003 by state',\n",
    "    x=0.2,\n",
    "    font=dict(\n",
    "        color='black',\n",
    "        size=24)))\n",
    "fig.show()"
   ]
  }
 ],
 "metadata": {
  "kernelspec": {
   "display_name": "Python 3",
   "language": "python",
   "name": "python3"
  },
  "language_info": {
   "codemirror_mode": {
    "name": "ipython",
    "version": 3
   },
   "file_extension": ".py",
   "mimetype": "text/x-python",
   "name": "python",
   "nbconvert_exporter": "python",
   "pygments_lexer": "ipython3",
   "version": "3.10.7"
  },
  "orig_nbformat": 4,
  "vscode": {
   "interpreter": {
    "hash": "26de051ba29f2982a8de78e945f0abaf191376122a1563185a90213a26c5da77"
   }
  }
 },
 "nbformat": 4,
 "nbformat_minor": 2
}
