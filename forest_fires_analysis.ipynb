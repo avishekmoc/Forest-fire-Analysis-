{
 "cells": [
  {
   "cell_type": "markdown",
   "metadata": {},
   "source": [
    "#                           PROJECT TOPIC\n",
    "## Wildfires in Brazil"
   ]
  },
  {
   "cell_type": "markdown",
   "metadata": {},
   "source": [
    "### Problem Statement\n",
    "Wildfires in Brazil Amazon\n",
    "Our Topic of Project is to show the the wildfires\n",
    "Calamity happened in the states of Brazil. Through the\n",
    "Data Analysis on the wildfires data taken from\n",
    "kaggle ,we can tell the cause of the wildfires and what\n",
    "measure government or UN bodies must take prevent\n",
    "these wildfires. Objectives:- Forest Fires are a serious problem for the prevention of\n",
    "the tropical forest. Understanding the frequency of the\n",
    "forest fires in the time series can help to take action to\n",
    "prevent them\n",
    "\n",
    "### Steps to followed for analysis and visualization:-\n",
    "##### i. Firt we took data as csv or excel format\n",
    "##### ii. We import the data as dataframe format with the help of pandas module.\n",
    "##### iii. Then clean the data such as , NA values , values having errors or any data type issues\n",
    "##### iv. Then do some calculations to get some useful data to represent it visualy the data.\n",
    "##### v. We import some modules e.g. matplotlib, plotly , seaborn for the visualization purpose to draw bar graph, line , scatter plot etc.\n",
    "##### vi. finally visualize the data with the help of corresponding figures and chart by using functions and classes of modules.  \n",
    "### SOURCE \n",
    "https://www.kaggle.com/datasets/gustavomodelli/forest-fires-in-brazil"
   ]
  },
  {
   "cell_type": "markdown",
   "metadata": {},
   "source": [
    "#### Data :\n",
    "##### Year , State , month , number (no. of fires) , Date(date of fire).\n",
    "##### these are the columns present in the data sets.\n",
    "#### Here , we're going to analyze the data by state ,by year, max fires in year state wise by period and by \"season\" and so on.\n"
   ]
  },
  {
   "cell_type": "markdown",
   "metadata": {},
   "source": [
    "here we imported the the useful modules "
   ]
  },
  {
   "cell_type": "code",
   "execution_count": 123,
   "metadata": {},
   "outputs": [],
   "source": [
    "import pandas as pd\n",
    "import numpy as np\n",
    "import cv2\n",
    "import matplotlib.pyplot as plt\n",
    "from matplotlib.colors import to_rgba\n",
    "import seaborn as sns\n",
    "import plotly.express as px"
   ]
  },
  {
   "cell_type": "markdown",
   "metadata": {},
   "source": [
    "Reading data from excel file"
   ]
  },
  {
   "cell_type": "code",
   "execution_count": 124,
   "metadata": {},
   "outputs": [
    {
     "data": {
      "text/html": [
       "<div>\n",
       "<style scoped>\n",
       "    .dataframe tbody tr th:only-of-type {\n",
       "        vertical-align: middle;\n",
       "    }\n",
       "\n",
       "    .dataframe tbody tr th {\n",
       "        vertical-align: top;\n",
       "    }\n",
       "\n",
       "    .dataframe thead th {\n",
       "        text-align: right;\n",
       "    }\n",
       "</style>\n",
       "<table border=\"1\" class=\"dataframe\">\n",
       "  <thead>\n",
       "    <tr style=\"text-align: right;\">\n",
       "      <th></th>\n",
       "      <th>year</th>\n",
       "      <th>state</th>\n",
       "      <th>month</th>\n",
       "      <th>number</th>\n",
       "    </tr>\n",
       "  </thead>\n",
       "  <tbody>\n",
       "    <tr>\n",
       "      <th>0</th>\n",
       "      <td>1998</td>\n",
       "      <td>Acre</td>\n",
       "      <td>January</td>\n",
       "      <td>NaN</td>\n",
       "    </tr>\n",
       "    <tr>\n",
       "      <th>1</th>\n",
       "      <td>1999</td>\n",
       "      <td>Acre</td>\n",
       "      <td>January</td>\n",
       "      <td>NaN</td>\n",
       "    </tr>\n",
       "    <tr>\n",
       "      <th>2</th>\n",
       "      <td>2000</td>\n",
       "      <td>Acre</td>\n",
       "      <td>January</td>\n",
       "      <td>NaN</td>\n",
       "    </tr>\n",
       "    <tr>\n",
       "      <th>3</th>\n",
       "      <td>2001</td>\n",
       "      <td>Acre</td>\n",
       "      <td>January</td>\n",
       "      <td>NaN</td>\n",
       "    </tr>\n",
       "    <tr>\n",
       "      <th>4</th>\n",
       "      <td>2002</td>\n",
       "      <td>Acre</td>\n",
       "      <td>January</td>\n",
       "      <td>NaN</td>\n",
       "    </tr>\n",
       "    <tr>\n",
       "      <th>5</th>\n",
       "      <td>2003</td>\n",
       "      <td>Acre</td>\n",
       "      <td>January</td>\n",
       "      <td>10.0</td>\n",
       "    </tr>\n",
       "    <tr>\n",
       "      <th>6</th>\n",
       "      <td>2004</td>\n",
       "      <td>Acre</td>\n",
       "      <td>January</td>\n",
       "      <td>NaN</td>\n",
       "    </tr>\n",
       "    <tr>\n",
       "      <th>7</th>\n",
       "      <td>2005</td>\n",
       "      <td>Acre</td>\n",
       "      <td>January</td>\n",
       "      <td>12.0</td>\n",
       "    </tr>\n",
       "    <tr>\n",
       "      <th>8</th>\n",
       "      <td>2006</td>\n",
       "      <td>Acre</td>\n",
       "      <td>January</td>\n",
       "      <td>4.0</td>\n",
       "    </tr>\n",
       "    <tr>\n",
       "      <th>9</th>\n",
       "      <td>2007</td>\n",
       "      <td>Acre</td>\n",
       "      <td>January</td>\n",
       "      <td>NaN</td>\n",
       "    </tr>\n",
       "  </tbody>\n",
       "</table>\n",
       "</div>"
      ],
      "text/plain": [
       "   year state    month  number\n",
       "0  1998  Acre  January     NaN\n",
       "1  1999  Acre  January     NaN\n",
       "2  2000  Acre  January     NaN\n",
       "3  2001  Acre  January     NaN\n",
       "4  2002  Acre  January     NaN\n",
       "5  2003  Acre  January    10.0\n",
       "6  2004  Acre  January     NaN\n",
       "7  2005  Acre  January    12.0\n",
       "8  2006  Acre  January     4.0\n",
       "9  2007  Acre  January     NaN"
      ]
     },
     "execution_count": 124,
     "metadata": {},
     "output_type": "execute_result"
    }
   ],
   "source": [
    "Data=pd.read_excel(\"amazon.xlsx\",header = 0,na_values=0)\n",
    "df=Data.copy()\n",
    "df.drop('date',axis=1,inplace=True)\n",
    "df.head(10)"
   ]
  },
  {
   "cell_type": "markdown",
   "metadata": {},
   "source": [
    "Here we remove the NA values and the values which is less than 10 to make data consistent"
   ]
  },
  {
   "cell_type": "code",
   "execution_count": 125,
   "metadata": {},
   "outputs": [
    {
     "data": {
      "text/html": [
       "<div>\n",
       "<style scoped>\n",
       "    .dataframe tbody tr th:only-of-type {\n",
       "        vertical-align: middle;\n",
       "    }\n",
       "\n",
       "    .dataframe tbody tr th {\n",
       "        vertical-align: top;\n",
       "    }\n",
       "\n",
       "    .dataframe thead th {\n",
       "        text-align: right;\n",
       "    }\n",
       "</style>\n",
       "<table border=\"1\" class=\"dataframe\">\n",
       "  <thead>\n",
       "    <tr style=\"text-align: right;\">\n",
       "      <th></th>\n",
       "      <th>year</th>\n",
       "      <th>state</th>\n",
       "      <th>month</th>\n",
       "      <th>number</th>\n",
       "    </tr>\n",
       "  </thead>\n",
       "  <tbody>\n",
       "    <tr>\n",
       "      <th>7</th>\n",
       "      <td>2005</td>\n",
       "      <td>Acre</td>\n",
       "      <td>January</td>\n",
       "      <td>12</td>\n",
       "    </tr>\n",
       "    <tr>\n",
       "      <th>18</th>\n",
       "      <td>2016</td>\n",
       "      <td>Acre</td>\n",
       "      <td>January</td>\n",
       "      <td>12</td>\n",
       "    </tr>\n",
       "    <tr>\n",
       "      <th>42</th>\n",
       "      <td>2000</td>\n",
       "      <td>Acre</td>\n",
       "      <td>March</td>\n",
       "      <td>11</td>\n",
       "    </tr>\n",
       "    <tr>\n",
       "      <th>75</th>\n",
       "      <td>2013</td>\n",
       "      <td>Acre</td>\n",
       "      <td>April</td>\n",
       "      <td>19</td>\n",
       "    </tr>\n",
       "    <tr>\n",
       "      <th>98</th>\n",
       "      <td>2016</td>\n",
       "      <td>Acre</td>\n",
       "      <td>May</td>\n",
       "      <td>21</td>\n",
       "    </tr>\n",
       "  </tbody>\n",
       "</table>\n",
       "</div>"
      ],
      "text/plain": [
       "    year state    month  number\n",
       "7   2005  Acre  January      12\n",
       "18  2016  Acre  January      12\n",
       "42  2000  Acre    March      11\n",
       "75  2013  Acre    April      19\n",
       "98  2016  Acre      May      21"
      ]
     },
     "execution_count": 125,
     "metadata": {},
     "output_type": "execute_result"
    }
   ],
   "source": [
    "df.dropna(inplace=True)\n",
    "df=df[df['number']>10]\n",
    "df=df.astype({'number':'int','year':'str'})\n",
    "state=df['state'].unique()\n",
    "df.head()"
   ]
  },
  {
   "cell_type": "markdown",
   "metadata": {},
   "source": [
    "Resetting the indexes "
   ]
  },
  {
   "cell_type": "code",
   "execution_count": 126,
   "metadata": {},
   "outputs": [],
   "source": [
    "df.reset_index(drop=True,inplace=True)"
   ]
  },
  {
   "cell_type": "markdown",
   "metadata": {},
   "source": [
    "Now , we have to calculate the data in a proper way to represent it"
   ]
  },
  {
   "cell_type": "markdown",
   "metadata": {},
   "source": [
    "Here in this case we want to calculate the number of fires  as per the states"
   ]
  },
  {
   "cell_type": "code",
   "execution_count": 127,
   "metadata": {},
   "outputs": [
    {
     "data": {
      "text/html": [
       "<div>\n",
       "<style scoped>\n",
       "    .dataframe tbody tr th:only-of-type {\n",
       "        vertical-align: middle;\n",
       "    }\n",
       "\n",
       "    .dataframe tbody tr th {\n",
       "        vertical-align: top;\n",
       "    }\n",
       "\n",
       "    .dataframe thead th {\n",
       "        text-align: right;\n",
       "    }\n",
       "</style>\n",
       "<table border=\"1\" class=\"dataframe\">\n",
       "  <thead>\n",
       "    <tr style=\"text-align: right;\">\n",
       "      <th></th>\n",
       "      <th>state</th>\n",
       "      <th>number</th>\n",
       "    </tr>\n",
       "  </thead>\n",
       "  <tbody>\n",
       "    <tr>\n",
       "      <th>0</th>\n",
       "      <td>Sergipe</td>\n",
       "      <td>2939</td>\n",
       "    </tr>\n",
       "    <tr>\n",
       "      <th>1</th>\n",
       "      <td>Distrito Federal</td>\n",
       "      <td>3315</td>\n",
       "    </tr>\n",
       "    <tr>\n",
       "      <th>2</th>\n",
       "      <td>Alagoas</td>\n",
       "      <td>4355</td>\n",
       "    </tr>\n",
       "    <tr>\n",
       "      <th>3</th>\n",
       "      <td>Espirito Santo</td>\n",
       "      <td>6095</td>\n",
       "    </tr>\n",
       "    <tr>\n",
       "      <th>4</th>\n",
       "      <td>Acre</td>\n",
       "      <td>18165</td>\n",
       "    </tr>\n",
       "  </tbody>\n",
       "</table>\n",
       "</div>"
      ],
      "text/plain": [
       "              state  number\n",
       "0           Sergipe    2939\n",
       "1  Distrito Federal    3315\n",
       "2           Alagoas    4355\n",
       "3    Espirito Santo    6095\n",
       "4              Acre   18165"
      ]
     },
     "execution_count": 127,
     "metadata": {},
     "output_type": "execute_result"
    }
   ],
   "source": [
    "group_by_state = df .groupby('state', as_index = False).agg({'number' : 'sum'}).sort_values('number', ascending = True,inplace=False).reset_index(drop=True)\n",
    "max_sum=group_by_state['number'].max()\n",
    "group_by_state.head()"
   ]
  },
  {
   "cell_type": "code",
   "execution_count": 128,
   "metadata": {},
   "outputs": [],
   "source": [
    "grp_stt=group_by_state['state'].to_list()\n",
    "grp_sum=group_by_state['number'].to_list()"
   ]
  },
  {
   "cell_type": "code",
   "execution_count": 129,
   "metadata": {},
   "outputs": [
    {
     "data": {
      "text/html": [
       "<div>\n",
       "<style scoped>\n",
       "    .dataframe tbody tr th:only-of-type {\n",
       "        vertical-align: middle;\n",
       "    }\n",
       "\n",
       "    .dataframe tbody tr th {\n",
       "        vertical-align: top;\n",
       "    }\n",
       "\n",
       "    .dataframe thead th {\n",
       "        text-align: right;\n",
       "    }\n",
       "</style>\n",
       "<table border=\"1\" class=\"dataframe\">\n",
       "  <thead>\n",
       "    <tr style=\"text-align: right;\">\n",
       "      <th></th>\n",
       "      <th>year</th>\n",
       "      <th>state</th>\n",
       "      <th>month</th>\n",
       "      <th>number</th>\n",
       "    </tr>\n",
       "  </thead>\n",
       "  <tbody>\n",
       "    <tr>\n",
       "      <th>0</th>\n",
       "      <td>2005</td>\n",
       "      <td>Acre</td>\n",
       "      <td>January</td>\n",
       "      <td>12</td>\n",
       "    </tr>\n",
       "    <tr>\n",
       "      <th>1</th>\n",
       "      <td>2016</td>\n",
       "      <td>Acre</td>\n",
       "      <td>January</td>\n",
       "      <td>12</td>\n",
       "    </tr>\n",
       "    <tr>\n",
       "      <th>2</th>\n",
       "      <td>2000</td>\n",
       "      <td>Acre</td>\n",
       "      <td>March</td>\n",
       "      <td>11</td>\n",
       "    </tr>\n",
       "    <tr>\n",
       "      <th>3</th>\n",
       "      <td>2013</td>\n",
       "      <td>Acre</td>\n",
       "      <td>April</td>\n",
       "      <td>19</td>\n",
       "    </tr>\n",
       "    <tr>\n",
       "      <th>4</th>\n",
       "      <td>2016</td>\n",
       "      <td>Acre</td>\n",
       "      <td>May</td>\n",
       "      <td>21</td>\n",
       "    </tr>\n",
       "  </tbody>\n",
       "</table>\n",
       "</div>"
      ],
      "text/plain": [
       "   year state    month  number\n",
       "0  2005  Acre  January      12\n",
       "1  2016  Acre  January      12\n",
       "2  2000  Acre    March      11\n",
       "3  2013  Acre    April      19\n",
       "4  2016  Acre      May      21"
      ]
     },
     "execution_count": 129,
     "metadata": {},
     "output_type": "execute_result"
    }
   ],
   "source": [
    "df.head()"
   ]
  },
  {
   "cell_type": "markdown",
   "metadata": {},
   "source": [
    "we add up a column for month num which defines the months in numeric form"
   ]
  },
  {
   "cell_type": "code",
   "execution_count": 130,
   "metadata": {},
   "outputs": [
    {
     "data": {
      "text/plain": [
       "array(['January', 'February', 'March', 'April', 'May', 'June', 'July',\n",
       "       'August', 'September', 'October', 'November', 'December'],\n",
       "      dtype=object)"
      ]
     },
     "metadata": {},
     "output_type": "display_data"
    }
   ],
   "source": [
    "months = Data.month.unique()\n",
    "display(months)\n",
    "months_num = np.arange(1,13)"
   ]
  },
  {
   "cell_type": "code",
   "execution_count": 131,
   "metadata": {},
   "outputs": [],
   "source": [
    "months_transform = {mon:mon_num for mon, mon_num in zip(months, months_num)}\n",
    "df['month_num'] = df['month'].map(months_transform)"
   ]
  },
  {
   "cell_type": "code",
   "execution_count": 132,
   "metadata": {},
   "outputs": [
    {
     "data": {
      "text/html": [
       "<div>\n",
       "<style scoped>\n",
       "    .dataframe tbody tr th:only-of-type {\n",
       "        vertical-align: middle;\n",
       "    }\n",
       "\n",
       "    .dataframe tbody tr th {\n",
       "        vertical-align: top;\n",
       "    }\n",
       "\n",
       "    .dataframe thead th {\n",
       "        text-align: right;\n",
       "    }\n",
       "</style>\n",
       "<table border=\"1\" class=\"dataframe\">\n",
       "  <thead>\n",
       "    <tr style=\"text-align: right;\">\n",
       "      <th></th>\n",
       "      <th>year</th>\n",
       "      <th>state</th>\n",
       "      <th>month</th>\n",
       "      <th>number</th>\n",
       "      <th>month_num</th>\n",
       "    </tr>\n",
       "  </thead>\n",
       "  <tbody>\n",
       "    <tr>\n",
       "      <th>0</th>\n",
       "      <td>2005</td>\n",
       "      <td>Acre</td>\n",
       "      <td>January</td>\n",
       "      <td>12</td>\n",
       "      <td>1</td>\n",
       "    </tr>\n",
       "    <tr>\n",
       "      <th>1</th>\n",
       "      <td>2016</td>\n",
       "      <td>Acre</td>\n",
       "      <td>January</td>\n",
       "      <td>12</td>\n",
       "      <td>1</td>\n",
       "    </tr>\n",
       "    <tr>\n",
       "      <th>2</th>\n",
       "      <td>2000</td>\n",
       "      <td>Acre</td>\n",
       "      <td>March</td>\n",
       "      <td>11</td>\n",
       "      <td>3</td>\n",
       "    </tr>\n",
       "    <tr>\n",
       "      <th>3</th>\n",
       "      <td>2013</td>\n",
       "      <td>Acre</td>\n",
       "      <td>April</td>\n",
       "      <td>19</td>\n",
       "      <td>4</td>\n",
       "    </tr>\n",
       "    <tr>\n",
       "      <th>4</th>\n",
       "      <td>2016</td>\n",
       "      <td>Acre</td>\n",
       "      <td>May</td>\n",
       "      <td>21</td>\n",
       "      <td>5</td>\n",
       "    </tr>\n",
       "  </tbody>\n",
       "</table>\n",
       "</div>"
      ],
      "text/plain": [
       "   year state    month  number  month_num\n",
       "0  2005  Acre  January      12          1\n",
       "1  2016  Acre  January      12          1\n",
       "2  2000  Acre    March      11          3\n",
       "3  2013  Acre    April      19          4\n",
       "4  2016  Acre      May      21          5"
      ]
     },
     "execution_count": 132,
     "metadata": {},
     "output_type": "execute_result"
    }
   ],
   "source": [
    "df.head()"
   ]
  },
  {
   "cell_type": "markdown",
   "metadata": {},
   "source": [
    "Here we add up two more columns named longitude & latitude for mapping the coordinates on geographical through which we can visualize data in more dynamic way"
   ]
  },
  {
   "cell_type": "code",
   "execution_count": 133,
   "metadata": {},
   "outputs": [],
   "source": [
    "latitude={\n",
    "    'Acre':-9.02,'Alagoas':-9.57,'Amapa':-2.05,'Amazonas':-5.00 ,'Bahia':-12.00,'Ceara':-5.00,\n",
    "          \n",
    "          'Distrito Federal':-15.45,'Espirito Santo':-20.00,'Goias':-15.55,'Maranhao':-5.00,'Mato Grosso':-14.00\n",
    "          \n",
    "          ,'Minas Gerais':-18.50,'Pará':-3.20,'Paraiba':-7.00,'Pernambuco':-8.00,'Piau':-7.00,'Rio':-22.90,\n",
    "          \n",
    "          'Rondonia':-11.00,'Roraima':-2.00,'Santa Catarina':-27.25,'Sao Paulo':-23.32,'Sergipe':-10.30,\n",
    "         \n",
    "         'Tocantins':-10.00\n",
    "         }\n",
    "\n",
    "longitude={\n",
    "    'Acre':-70.8120,'Alagoas':-36.7820,'Amapa':-50.50,'Amazonas':-65.00,'Bahia':-42.00,'Ceara':-40.00,\n",
    "    \n",
    "    'Distrito Federal':-47.45,'Espirito Santo':-40.45,'Goias':-50.10,'Maranhao':-46.00,'Mato Grosso':-55.00,\n",
    "    \n",
    "    'Minas Gerais':-46.00,'Pará':-52.00,'Paraiba':-36.00,'Pernambuco':-37.00,'Piau':-73.00, 'Rio':-43.17,\n",
    "    \n",
    "    'Rondonia':-63.00,'Roraima':-61.30,'Santa Catarina':-48.30,'Sao Paulo':-46.37,'Sergipe':-37.30,\n",
    "    \n",
    "    'Tocantins':-48.00\n",
    "}\n",
    "df['latitude'] = df['state'].map(latitude)\n",
    "df['longitude'] = df['state'].map(longitude)"
   ]
  },
  {
   "cell_type": "markdown",
   "metadata": {},
   "source": [
    "#### mapping the latitude and longitude as per the states of the brazil for the later  vizualization purpose"
   ]
  },
  {
   "cell_type": "code",
   "execution_count": 134,
   "metadata": {},
   "outputs": [
    {
     "data": {
      "text/html": [
       "<div>\n",
       "<style scoped>\n",
       "    .dataframe tbody tr th:only-of-type {\n",
       "        vertical-align: middle;\n",
       "    }\n",
       "\n",
       "    .dataframe tbody tr th {\n",
       "        vertical-align: top;\n",
       "    }\n",
       "\n",
       "    .dataframe thead th {\n",
       "        text-align: right;\n",
       "    }\n",
       "</style>\n",
       "<table border=\"1\" class=\"dataframe\">\n",
       "  <thead>\n",
       "    <tr style=\"text-align: right;\">\n",
       "      <th></th>\n",
       "      <th>year</th>\n",
       "      <th>state</th>\n",
       "      <th>month</th>\n",
       "      <th>number</th>\n",
       "      <th>month_num</th>\n",
       "      <th>latitude</th>\n",
       "      <th>longitude</th>\n",
       "    </tr>\n",
       "  </thead>\n",
       "  <tbody>\n",
       "    <tr>\n",
       "      <th>0</th>\n",
       "      <td>2005</td>\n",
       "      <td>Acre</td>\n",
       "      <td>January</td>\n",
       "      <td>12</td>\n",
       "      <td>1</td>\n",
       "      <td>-9.02</td>\n",
       "      <td>-70.812</td>\n",
       "    </tr>\n",
       "    <tr>\n",
       "      <th>1</th>\n",
       "      <td>2016</td>\n",
       "      <td>Acre</td>\n",
       "      <td>January</td>\n",
       "      <td>12</td>\n",
       "      <td>1</td>\n",
       "      <td>-9.02</td>\n",
       "      <td>-70.812</td>\n",
       "    </tr>\n",
       "    <tr>\n",
       "      <th>2</th>\n",
       "      <td>2000</td>\n",
       "      <td>Acre</td>\n",
       "      <td>March</td>\n",
       "      <td>11</td>\n",
       "      <td>3</td>\n",
       "      <td>-9.02</td>\n",
       "      <td>-70.812</td>\n",
       "    </tr>\n",
       "    <tr>\n",
       "      <th>3</th>\n",
       "      <td>2013</td>\n",
       "      <td>Acre</td>\n",
       "      <td>April</td>\n",
       "      <td>19</td>\n",
       "      <td>4</td>\n",
       "      <td>-9.02</td>\n",
       "      <td>-70.812</td>\n",
       "    </tr>\n",
       "    <tr>\n",
       "      <th>4</th>\n",
       "      <td>2016</td>\n",
       "      <td>Acre</td>\n",
       "      <td>May</td>\n",
       "      <td>21</td>\n",
       "      <td>5</td>\n",
       "      <td>-9.02</td>\n",
       "      <td>-70.812</td>\n",
       "    </tr>\n",
       "  </tbody>\n",
       "</table>\n",
       "</div>"
      ],
      "text/plain": [
       "   year state    month  number  month_num  latitude  longitude\n",
       "0  2005  Acre  January      12          1     -9.02    -70.812\n",
       "1  2016  Acre  January      12          1     -9.02    -70.812\n",
       "2  2000  Acre    March      11          3     -9.02    -70.812\n",
       "3  2013  Acre    April      19          4     -9.02    -70.812\n",
       "4  2016  Acre      May      21          5     -9.02    -70.812"
      ]
     },
     "execution_count": 134,
     "metadata": {},
     "output_type": "execute_result"
    }
   ],
   "source": [
    "df.head()"
   ]
  },
  {
   "cell_type": "code",
   "execution_count": 135,
   "metadata": {},
   "outputs": [
    {
     "data": {
      "image/png": "[encoded data removed]",
      "text/plain": [
       "<Figure size 800x500 with 1 Axes>"
      ]
     },
     "metadata": {},
     "output_type": "display_data"
    },
    {
     "data": {
      "application/vnd.plotly.v1+json": {
       "config": {
        "plotlyServerURL": "https://plot.ly"
       },
       "data": [
        {
         "geo": "geo",
         "hovertemplate": "<b>%{hovertext}</b><br><br>state=Mato Grosso<br>number=%{marker.size}<br>latitude=%{lat}<br>longitude=%{lon}<extra></extra>",
         "hovertext": [
          "Mato Grosso"
         ],
         "lat": [
          -14
         ],
         "legendgroup": "Mato Grosso",
         "lon": [
          -55
         ],
         "marker": {
          "color": "#636efa",
          "size": [
           95809
          ],
          "sizemode": "area",
          "sizeref": 239.5225,
          "symbol": "circle"
         },
         "mode": "markers",
         "name": "Mato Grosso",
         "showlegend": true,
         "type": "scattergeo"
        },
        {
         "geo": "geo",
         "hovertemplate": "<b>%{hovertext}</b><br><br>state=Paraiba<br>number=%{marker.size}<br>latitude=%{lat}<br>longitude=%{lon}<extra></extra>",
         "hovertext": [
          "Paraiba"
         ],
         "lat": [
          -7
         ],
         "legendgroup": "Paraiba",
         "lon": [
          -36
         ],
         "marker": {
          "color": "#EF553B",
          "size": [
           52027
          ],
          "sizemode": "area",
          "sizeref": 239.5225,
          "symbol": "circle"
         },
         "mode": "markers",
         "name": "Paraiba",
         "showlegend": true,
         "type": "scattergeo"
        },
        {
         "geo": "geo",
         "hovertemplate": "<b>%{hovertext}</b><br><br>state=Sao Paulo<br>number=%{marker.size}<br>latitude=%{lat}<br>longitude=%{lon}<extra></extra>",
         "hovertext": [
          "Sao Paulo"
         ],
         "lat": [
          -23.32
         ],
         "legendgroup": "Sao Paulo",
         "lon": [
          -46.37
         ],
         "marker": {
          "color": "#00cc96",
          "size": [
           51103
          ],
          "sizemode": "area",
          "sizeref": 239.5225,
          "symbol": "circle"
         },
         "mode": "markers",
         "name": "Sao Paulo",
         "showlegend": true,
         "type": "scattergeo"
        },
        {
         "geo": "geo",
         "hovertemplate": "<b>%{hovertext}</b><br><br>state=Bahia<br>number=%{marker.size}<br>latitude=%{lat}<br>longitude=%{lon}<extra></extra>",
         "hovertext": [
          "Bahia"
         ],
         "lat": [
          -12
         ],
         "legendgroup": "Bahia",
         "lon": [
          -42
         ],
         "marker": {
          "color": "#ab63fa",
          "size": [
           44547
          ],
          "sizemode": "area",
          "sizeref": 239.5225,
          "symbol": "circle"
         },
         "mode": "markers",
         "name": "Bahia",
         "showlegend": true,
         "type": "scattergeo"
        },
        {
         "geo": "geo",
         "hovertemplate": "<b>%{hovertext}</b><br><br>state=Rio<br>number=%{marker.size}<br>latitude=%{lat}<br>longitude=%{lon}<extra></extra>",
         "hovertext": [
          "Rio"
         ],
         "lat": [
          -22.9
         ],
         "legendgroup": "Rio",
         "lon": [
          -43.17
         ],
         "marker": {
          "color": "#FFA15A",
          "size": [
           44292
          ],
          "sizemode": "area",
          "sizeref": 239.5225,
          "symbol": "circle"
         },
         "mode": "markers",
         "name": "Rio",
         "showlegend": true,
         "type": "scattergeo"
        },
        {
         "geo": "geo",
         "hovertemplate": "<b>%{hovertext}</b><br><br>state=Piau<br>number=%{marker.size}<br>latitude=%{lat}<br>longitude=%{lon}<extra></extra>",
         "hovertext": [
          "Piau"
         ],
         "lat": [
          -7
         ],
         "legendgroup": "Piau",
         "lon": [
          -73
         ],
         "marker": {
          "color": "#19d3f3",
          "size": [
           37584
          ],
          "sizemode": "area",
          "sizeref": 239.5225,
          "symbol": "circle"
         },
         "mode": "markers",
         "name": "Piau",
         "showlegend": true,
         "type": "scattergeo"
        },
        {
         "geo": "geo",
         "hovertemplate": "<b>%{hovertext}</b><br><br>state=Goias<br>number=%{marker.size}<br>latitude=%{lat}<br>longitude=%{lon}<extra></extra>",
         "hovertext": [
          "Goias"
         ],
         "lat": [
          -15.55
         ],
         "legendgroup": "Goias",
         "lon": [
          -50.1
         ],
         "marker": {
          "color": "#FF6692",
          "size": [
           37541
          ],
          "sizemode": "area",
          "sizeref": 239.5225,
          "symbol": "circle"
         },
         "mode": "markers",
         "name": "Goias",
         "showlegend": true,
         "type": "scattergeo"
        },
        {
         "geo": "geo",
         "hovertemplate": "<b>%{hovertext}</b><br><br>state=Minas Gerais<br>number=%{marker.size}<br>latitude=%{lat}<br>longitude=%{lon}<extra></extra>",
         "hovertext": [
          "Minas Gerais"
         ],
         "lat": [
          -18.5
         ],
         "legendgroup": "Minas Gerais",
         "lon": [
          -46
         ],
         "marker": {
          "color": "#B6E880",
          "size": [
           37331
          ],
          "sizemode": "area",
          "sizeref": 239.5225,
          "symbol": "circle"
         },
         "mode": "markers",
         "name": "Minas Gerais",
         "showlegend": true,
         "type": "scattergeo"
        },
        {
         "geo": "geo",
         "hovertemplate": "<b>%{hovertext}</b><br><br>state=Tocantins<br>number=%{marker.size}<br>latitude=%{lat}<br>longitude=%{lon}<extra></extra>",
         "hovertext": [
          "Tocantins"
         ],
         "lat": [
          -10
         ],
         "legendgroup": "Tocantins",
         "lon": [
          -48
         ],
         "marker": {
          "color": "#FF97FF",
          "size": [
           33435
          ],
          "sizemode": "area",
          "sizeref": 239.5225,
          "symbol": "circle"
         },
         "mode": "markers",
         "name": "Tocantins",
         "showlegend": true,
         "type": "scattergeo"
        },
        {
         "geo": "geo",
         "hovertemplate": "<b>%{hovertext}</b><br><br>state=Amazonas<br>number=%{marker.size}<br>latitude=%{lat}<br>longitude=%{lon}<extra></extra>",
         "hovertext": [
          "Amazonas"
         ],
         "lat": [
          -5
         ],
         "legendgroup": "Amazonas",
         "lon": [
          -65
         ],
         "marker": {
          "color": "#FECB52",
          "size": [
           30318
          ],
          "sizemode": "area",
          "sizeref": 239.5225,
          "symbol": "circle"
         },
         "mode": "markers",
         "name": "Amazonas",
         "showlegend": true,
         "type": "scattergeo"
        },
        {
         "geo": "geo",
         "hovertemplate": "<b>%{hovertext}</b><br><br>state=Ceara<br>number=%{marker.size}<br>latitude=%{lat}<br>longitude=%{lon}<extra></extra>",
         "hovertext": [
          "Ceara"
         ],
         "lat": [
          -5
         ],
         "legendgroup": "Ceara",
         "lon": [
          -40
         ],
         "marker": {
          "color": "#636efa",
          "size": [
           30118
          ],
          "sizemode": "area",
          "sizeref": 239.5225,
          "symbol": "circle"
         },
         "mode": "markers",
         "name": "Ceara",
         "showlegend": true,
         "type": "scattergeo"
        },
        {
         "geo": "geo",
         "hovertemplate": "<b>%{hovertext}</b><br><br>state=Maranhao<br>number=%{marker.size}<br>latitude=%{lat}<br>longitude=%{lon}<extra></extra>",
         "hovertext": [
          "Maranhao"
         ],
         "lat": [
          -5
         ],
         "legendgroup": "Maranhao",
         "lon": [
          -46
         ],
         "marker": {
          "color": "#EF553B",
          "size": [
           24703
          ],
          "sizemode": "area",
          "sizeref": 239.5225,
          "symbol": "circle"
         },
         "mode": "markers",
         "name": "Maranhao",
         "showlegend": true,
         "type": "scattergeo"
        },
        {
         "geo": "geo",
         "hovertemplate": "<b>%{hovertext}</b><br><br>state=Santa Catarina<br>number=%{marker.size}<br>latitude=%{lat}<br>longitude=%{lon}<extra></extra>",
         "hovertext": [
          "Santa Catarina"
         ],
         "lat": [
          -27.25
         ],
         "legendgroup": "Santa Catarina",
         "lon": [
          -48.3
         ],
         "marker": {
          "color": "#00cc96",
          "size": [
           24202
          ],
          "sizemode": "area",
          "sizeref": 239.5225,
          "symbol": "circle"
         },
         "mode": "markers",
         "name": "Santa Catarina",
         "showlegend": true,
         "type": "scattergeo"
        },
        {
         "geo": "geo",
         "hovertemplate": "<b>%{hovertext}</b><br><br>state=Pernambuco<br>number=%{marker.size}<br>latitude=%{lat}<br>longitude=%{lon}<extra></extra>",
         "hovertext": [
          "Pernambuco"
         ],
         "lat": [
          -8
         ],
         "legendgroup": "Pernambuco",
         "lon": [
          -37
         ],
         "marker": {
          "color": "#ab63fa",
          "size": [
           24194
          ],
          "sizemode": "area",
          "sizeref": 239.5225,
          "symbol": "circle"
         },
         "mode": "markers",
         "name": "Pernambuco",
         "showlegend": true,
         "type": "scattergeo"
        },
        {
         "geo": "geo",
         "hovertemplate": "<b>%{hovertext}</b><br><br>state=Roraima<br>number=%{marker.size}<br>latitude=%{lat}<br>longitude=%{lon}<extra></extra>",
         "hovertext": [
          "Roraima"
         ],
         "lat": [
          -2
         ],
         "legendgroup": "Roraima",
         "lon": [
          -61.3
         ],
         "marker": {
          "color": "#FFA15A",
          "size": [
           24136
          ],
          "sizemode": "area",
          "sizeref": 239.5225,
          "symbol": "circle"
         },
         "mode": "markers",
         "name": "Roraima",
         "showlegend": true,
         "type": "scattergeo"
        },
        {
         "geo": "geo",
         "hovertemplate": "<b>%{hovertext}</b><br><br>state=Pará<br>number=%{marker.size}<br>latitude=%{lat}<br>longitude=%{lon}<extra></extra>",
         "hovertext": [
          "Pará"
         ],
         "lat": [
          -3.2
         ],
         "legendgroup": "Pará",
         "lon": [
          -52
         ],
         "marker": {
          "color": "#19d3f3",
          "size": [
           23957
          ],
          "sizemode": "area",
          "sizeref": 239.5225,
          "symbol": "circle"
         },
         "mode": "markers",
         "name": "Pará",
         "showlegend": true,
         "type": "scattergeo"
        },
        {
         "geo": "geo",
         "hovertemplate": "<b>%{hovertext}</b><br><br>state=Amapa<br>number=%{marker.size}<br>latitude=%{lat}<br>longitude=%{lon}<extra></extra>",
         "hovertext": [
          "Amapa"
         ],
         "lat": [
          -2.05
         ],
         "legendgroup": "Amapa",
         "lon": [
          -50.5
         ],
         "marker": {
          "color": "#FF6692",
          "size": [
           21630
          ],
          "sizemode": "area",
          "sizeref": 239.5225,
          "symbol": "circle"
         },
         "mode": "markers",
         "name": "Amapa",
         "showlegend": true,
         "type": "scattergeo"
        },
        {
         "geo": "geo",
         "hovertemplate": "<b>%{hovertext}</b><br><br>state=Rondonia<br>number=%{marker.size}<br>latitude=%{lat}<br>longitude=%{lon}<extra></extra>",
         "hovertext": [
          "Rondonia"
         ],
         "lat": [
          -11
         ],
         "legendgroup": "Rondonia",
         "lon": [
          -63
         ],
         "marker": {
          "color": "#B6E880",
          "size": [
           19821
          ],
          "sizemode": "area",
          "sizeref": 239.5225,
          "symbol": "circle"
         },
         "mode": "markers",
         "name": "Rondonia",
         "showlegend": true,
         "type": "scattergeo"
        },
        {
         "geo": "geo",
         "hovertemplate": "<b>%{hovertext}</b><br><br>state=Acre<br>number=%{marker.size}<br>latitude=%{lat}<br>longitude=%{lon}<extra></extra>",
         "hovertext": [
          "Acre"
         ],
         "lat": [
          -9.02
         ],
         "legendgroup": "Acre",
         "lon": [
          -70.812
         ],
         "marker": {
          "color": "#FF97FF",
          "size": [
           18165
          ],
          "sizemode": "area",
          "sizeref": 239.5225,
          "symbol": "circle"
         },
         "mode": "markers",
         "name": "Acre",
         "showlegend": true,
         "type": "scattergeo"
        },
        {
         "geo": "geo",
         "hovertemplate": "<b>%{hovertext}</b><br><br>state=Espirito Santo<br>number=%{marker.size}<br>latitude=%{lat}<br>longitude=%{lon}<extra></extra>",
         "hovertext": [
          "Espirito Santo"
         ],
         "lat": [
          -20
         ],
         "legendgroup": "Espirito Santo",
         "lon": [
          -40.45
         ],
         "marker": {
          "color": "#FECB52",
          "size": [
           6095
          ],
          "sizemode": "area",
          "sizeref": 239.5225,
          "symbol": "circle"
         },
         "mode": "markers",
         "name": "Espirito Santo",
         "showlegend": true,
         "type": "scattergeo"
        },
        {
         "geo": "geo",
         "hovertemplate": "<b>%{hovertext}</b><br><br>state=Alagoas<br>number=%{marker.size}<br>latitude=%{lat}<br>longitude=%{lon}<extra></extra>",
         "hovertext": [
          "Alagoas"
         ],
         "lat": [
          -9.57
         ],
         "legendgroup": "Alagoas",
         "lon": [
          -36.782
         ],
         "marker": {
          "color": "#636efa",
          "size": [
           4355
          ],
          "sizemode": "area",
          "sizeref": 239.5225,
          "symbol": "circle"
         },
         "mode": "markers",
         "name": "Alagoas",
         "showlegend": true,
         "type": "scattergeo"
        },
        {
         "geo": "geo",
         "hovertemplate": "<b>%{hovertext}</b><br><br>state=Distrito Federal<br>number=%{marker.size}<br>latitude=%{lat}<br>longitude=%{lon}<extra></extra>",
         "hovertext": [
          "Distrito Federal"
         ],
         "lat": [
          -15.45
         ],
         "legendgroup": "Distrito Federal",
         "lon": [
          -47.45
         ],
         "marker": {
          "color": "#EF553B",
          "size": [
           3315
          ],
          "sizemode": "area",
          "sizeref": 239.5225,
          "symbol": "circle"
         },
         "mode": "markers",
         "name": "Distrito Federal",
         "showlegend": true,
         "type": "scattergeo"
        },
        {
         "geo": "geo",
         "hovertemplate": "<b>%{hovertext}</b><br><br>state=Sergipe<br>number=%{marker.size}<br>latitude=%{lat}<br>longitude=%{lon}<extra></extra>",
         "hovertext": [
          "Sergipe"
         ],
         "lat": [
          -10.3
         ],
         "legendgroup": "Sergipe",
         "lon": [
          -37.3
         ],
         "marker": {
          "color": "#00cc96",
          "size": [
           2939
          ],
          "sizemode": "area",
          "sizeref": 239.5225,
          "symbol": "circle"
         },
         "mode": "markers",
         "name": "Sergipe",
         "showlegend": true,
         "type": "scattergeo"
        }
       ],
       "layout": {
        "geo": {
         "center": {},
         "domain": {
          "x": [
           0,
           1
          ],
          "y": [
           0,
           1
          ]
         },
         "projection": {
          "type": "hammer"
         },
         "scope": "south america"
        },
        "legend": {
         "itemsizing": "constant",
         "title": {
          "text": "state"
         },
         "tracegroupgap": 0
        },
        "margin": {
         "t": 60
        },
        "template": {
         "data": {
          "bar": [
           {
            "error_x": {
             "color": "#2a3f5f"
            },
            "error_y": {
             "color": "#2a3f5f"
            },
            "marker": {
             "line": {
              "color": "#E5ECF6",
              "width": 0.5
             },
             "pattern": {
              "fillmode": "overlay",
              "size": 10,
              "solidity": 0.2
             }
            },
            "type": "bar"
           }
          ],
          "barpolar": [
           {
            "marker": {
             "line": {
              "color": "#E5ECF6",
              "width": 0.5
             },
             "pattern": {
              "fillmode": "overlay",
              "size": 10,
              "solidity": 0.2
             }
            },
            "type": "barpolar"
           }
          ],
          "carpet": [
           {
            "aaxis": {
             "endlinecolor": "#2a3f5f",
             "gridcolor": "white",
             "linecolor": "white",
             "minorgridcolor": "white",
             "startlinecolor": "#2a3f5f"
            },
            "baxis": {
             "endlinecolor": "#2a3f5f",
             "gridcolor": "white",
             "linecolor": "white",
             "minorgridcolor": "white",
             "startlinecolor": "#2a3f5f"
            },
            "type": "carpet"
           }
          ],
          "choropleth": [
           {
            "colorbar": {
             "outlinewidth": 0,
             "ticks": ""
            },
            "type": "choropleth"
           }
          ],
          "contour": [
           {
            "colorbar": {
             "outlinewidth": 0,
             "ticks": ""
            },
            "colorscale": [
             [
              0,
              "#0d0887"
             ],
             [
              0.1111111111111111,
              "#46039f"
             ],
             [
              0.2222222222222222,
              "#7201a8"
             ],
             [
              0.3333333333333333,
              "#9c179e"
             ],
             [
              0.4444444444444444,
              "#bd3786"
             ],
             [
              0.5555555555555556,
              "#d8576b"
             ],
             [
              0.6666666666666666,
              "#ed7953"
             ],
             [
              0.7777777777777778,
              "#fb9f3a"
             ],
             [
              0.8888888888888888,
              "#fdca26"
             ],
             [
              1,
              "#f0f921"
             ]
            ],
            "type": "contour"
           }
          ],
          "contourcarpet": [
           {
            "colorbar": {
             "outlinewidth": 0,
             "ticks": ""
            },
            "type": "contourcarpet"
           }
          ],
          "heatmap": [
           {
            "colorbar": {
             "outlinewidth": 0,
             "ticks": ""
            },
            "colorscale": [
             [
              0,
              "#0d0887"
             ],
             [
              0.1111111111111111,
              "#46039f"
             ],
             [
              0.2222222222222222,
              "#7201a8"
             ],
             [
              0.3333333333333333,
              "#9c179e"
             ],
             [
              0.4444444444444444,
              "#bd3786"
             ],
             [
              0.5555555555555556,
              "#d8576b"
             ],
             [
              0.6666666666666666,
              "#ed7953"
             ],
             [
              0.7777777777777778,
              "#fb9f3a"
             ],
             [
              0.8888888888888888,
              "#fdca26"
             ],
             [
              1,
              "#f0f921"
             ]
            ],
            "type": "heatmap"
           }
          ],
          "heatmapgl": [
           {
            "colorbar": {
             "outlinewidth": 0,
             "ticks": ""
            },
            "colorscale": [
             [
              0,
              "#0d0887"
             ],
             [
              0.1111111111111111,
              "#46039f"
             ],
             [
              0.2222222222222222,
              "#7201a8"
             ],
             [
              0.3333333333333333,
              "#9c179e"
             ],
             [
              0.4444444444444444,
              "#bd3786"
             ],
             [
              0.5555555555555556,
              "#d8576b"
             ],
             [
              0.6666666666666666,
              "#ed7953"
             ],
             [
              0.7777777777777778,
              "#fb9f3a"
             ],
             [
              0.8888888888888888,
              "#fdca26"
             ],
             [
              1,
              "#f0f921"
             ]
            ],
            "type": "heatmapgl"
           }
          ],
          "histogram": [
           {
            "marker": {
             "pattern": {
              "fillmode": "overlay",
              "size": 10,
              "solidity": 0.2
             }
            },
            "type": "histogram"
           }
          ],
          "histogram2d": [
           {
            "colorbar": {
             "outlinewidth": 0,
             "ticks": ""
            },
            "colorscale": [
             [
              0,
              "#0d0887"
             ],
             [
              0.1111111111111111,
              "#46039f"
             ],
             [
              0.2222222222222222,
              "#7201a8"
             ],
             [
              0.3333333333333333,
              "#9c179e"
             ],
             [
              0.4444444444444444,
              "#bd3786"
             ],
             [
              0.5555555555555556,
              "#d8576b"
             ],
             [
              0.6666666666666666,
              "#ed7953"
             ],
             [
              0.7777777777777778,
              "#fb9f3a"
             ],
             [
              0.8888888888888888,
              "#fdca26"
             ],
             [
              1,
              "#f0f921"
             ]
            ],
            "type": "histogram2d"
           }
          ],
          "histogram2dcontour": [
           {
            "colorbar": {
             "outlinewidth": 0,
             "ticks": ""
            },
            "colorscale": [
             [
              0,
              "#0d0887"
             ],
             [
              0.1111111111111111,
              "#46039f"
             ],
             [
              0.2222222222222222,
              "#7201a8"
             ],
             [
              0.3333333333333333,
              "#9c179e"
             ],
             [
              0.4444444444444444,
              "#bd3786"
             ],
             [
              0.5555555555555556,
              "#d8576b"
             ],
             [
              0.6666666666666666,
              "#ed7953"
             ],
             [
              0.7777777777777778,
              "#fb9f3a"
             ],
             [
              0.8888888888888888,
              "#fdca26"
             ],
             [
              1,
              "#f0f921"
             ]
            ],
            "type": "histogram2dcontour"
           }
          ],
          "mesh3d": [
           {
            "colorbar": {
             "outlinewidth": 0,
             "ticks": ""
            },
            "type": "mesh3d"
           }
          ],
          "parcoords": [
           {
            "line": {
             "colorbar": {
              "outlinewidth": 0,
              "ticks": ""
             }
            },
            "type": "parcoords"
           }
          ],
          "pie": [
           {
            "automargin": true,
            "type": "pie"
           }
          ],
          "scatter": [
           {
            "fillpattern": {
             "fillmode": "overlay",
             "size": 10,
             "solidity": 0.2
            },
            "type": "scatter"
           }
          ],
          "scatter3d": [
           {
            "line": {
             "colorbar": {
              "outlinewidth": 0,
              "ticks": ""
             }
            },
            "marker": {
             "colorbar": {
              "outlinewidth": 0,
              "ticks": ""
             }
            },
            "type": "scatter3d"
           }
          ],
          "scattercarpet": [
           {
            "marker": {
             "colorbar": {
              "outlinewidth": 0,
              "ticks": ""
             }
            },
            "type": "scattercarpet"
           }
          ],
          "scattergeo": [
           {
            "marker": {
             "colorbar": {
              "outlinewidth": 0,
              "ticks": ""
             }
            },
            "type": "scattergeo"
           }
          ],
          "scattergl": [
           {
            "marker": {
             "colorbar": {
              "outlinewidth": 0,
              "ticks": ""
             }
            },
            "type": "scattergl"
           }
          ],
          "scattermapbox": [
           {
            "marker": {
             "colorbar": {
              "outlinewidth": 0,
              "ticks": ""
             }
            },
            "type": "scattermapbox"
           }
          ],
          "scatterpolar": [
           {
            "marker": {
             "colorbar": {
              "outlinewidth": 0,
              "ticks": ""
             }
            },
            "type": "scatterpolar"
           }
          ],
          "scatterpolargl": [
           {
            "marker": {
             "colorbar": {
              "outlinewidth": 0,
              "ticks": ""
             }
            },
            "type": "scatterpolargl"
           }
          ],
          "scatterternary": [
           {
            "marker": {
             "colorbar": {
              "outlinewidth": 0,
              "ticks": ""
             }
            },
            "type": "scatterternary"
           }
          ],
          "surface": [
           {
            "colorbar": {
             "outlinewidth": 0,
             "ticks": ""
            },
            "colorscale": [
             [
              0,
              "#0d0887"
             ],
             [
              0.1111111111111111,
              "#46039f"
             ],
             [
              0.2222222222222222,
              "#7201a8"
             ],
             [
              0.3333333333333333,
              "#9c179e"
             ],
             [
              0.4444444444444444,
              "#bd3786"
             ],
             [
              0.5555555555555556,
              "#d8576b"
             ],
             [
              0.6666666666666666,
              "#ed7953"
             ],
             [
              0.7777777777777778,
              "#fb9f3a"
             ],
             [
              0.8888888888888888,
              "#fdca26"
             ],
             [
              1,
              "#f0f921"
             ]
            ],
            "type": "surface"
           }
          ],
          "table": [
           {
            "cells": {
             "fill": {
              "color": "#EBF0F8"
             },
             "line": {
              "color": "white"
             }
            },
            "header": {
             "fill": {
              "color": "#C8D4E3"
             },
             "line": {
              "color": "white"
             }
            },
            "type": "table"
           }
          ]
         },
         "layout": {
          "annotationdefaults": {
           "arrowcolor": "#2a3f5f",
           "arrowhead": 0,
           "arrowwidth": 1
          },
          "autotypenumbers": "strict",
          "coloraxis": {
           "colorbar": {
            "outlinewidth": 0,
            "ticks": ""
           }
          },
          "colorscale": {
           "diverging": [
            [
             0,
             "#8e0152"
            ],
            [
             0.1,
             "#c51b7d"
            ],
            [
             0.2,
             "#de77ae"
            ],
            [
             0.3,
             "#f1b6da"
            ],
            [
             0.4,
             "#fde0ef"
            ],
            [
             0.5,
             "#f7f7f7"
            ],
            [
             0.6,
             "#e6f5d0"
            ],
            [
             0.7,
             "#b8e186"
            ],
            [
             0.8,
             "#7fbc41"
            ],
            [
             0.9,
             "#4d9221"
            ],
            [
             1,
             "#276419"
            ]
           ],
           "sequential": [
            [
             0,
             "#0d0887"
            ],
            [
             0.1111111111111111,
             "#46039f"
            ],
            [
             0.2222222222222222,
             "#7201a8"
            ],
            [
             0.3333333333333333,
             "#9c179e"
            ],
            [
             0.4444444444444444,
             "#bd3786"
            ],
            [
             0.5555555555555556,
             "#d8576b"
            ],
            [
             0.6666666666666666,
             "#ed7953"
            ],
            [
             0.7777777777777778,
             "#fb9f3a"
            ],
            [
             0.8888888888888888,
             "#fdca26"
            ],
            [
             1,
             "#f0f921"
            ]
           ],
           "sequentialminus": [
            [
             0,
             "#0d0887"
            ],
            [
             0.1111111111111111,
             "#46039f"
            ],
            [
             0.2222222222222222,
             "#7201a8"
            ],
            [
             0.3333333333333333,
             "#9c179e"
            ],
            [
             0.4444444444444444,
             "#bd3786"
            ],
            [
             0.5555555555555556,
             "#d8576b"
            ],
            [
             0.6666666666666666,
             "#ed7953"
            ],
            [
             0.7777777777777778,
             "#fb9f3a"
            ],
            [
             0.8888888888888888,
             "#fdca26"
            ],
            [
             1,
             "#f0f921"
            ]
           ]
          },
          "colorway": [
           "#636efa",
           "#EF553B",
           "#00cc96",
           "#ab63fa",
           "#FFA15A",
           "#19d3f3",
           "#FF6692",
           "#B6E880",
           "#FF97FF",
           "#FECB52"
          ],
          "font": {
           "color": "#2a3f5f"
          },
          "geo": {
           "bgcolor": "white",
           "lakecolor": "white",
           "landcolor": "#E5ECF6",
           "showlakes": true,
           "showland": true,
           "subunitcolor": "white"
          },
          "hoverlabel": {
           "align": "left"
          },
          "hovermode": "closest",
          "mapbox": {
           "style": "light"
          },
          "paper_bgcolor": "white",
          "plot_bgcolor": "#E5ECF6",
          "polar": {
           "angularaxis": {
            "gridcolor": "white",
            "linecolor": "white",
            "ticks": ""
           },
           "bgcolor": "#E5ECF6",
           "radialaxis": {
            "gridcolor": "white",
            "linecolor": "white",
            "ticks": ""
           }
          },
          "scene": {
           "xaxis": {
            "backgroundcolor": "#E5ECF6",
            "gridcolor": "white",
            "gridwidth": 2,
            "linecolor": "white",
            "showbackground": true,
            "ticks": "",
            "zerolinecolor": "white"
           },
           "yaxis": {
            "backgroundcolor": "#E5ECF6",
            "gridcolor": "white",
            "gridwidth": 2,
            "linecolor": "white",
            "showbackground": true,
            "ticks": "",
            "zerolinecolor": "white"
           },
           "zaxis": {
            "backgroundcolor": "#E5ECF6",
            "gridcolor": "white",
            "gridwidth": 2,
            "linecolor": "white",
            "showbackground": true,
            "ticks": "",
            "zerolinecolor": "white"
           }
          },
          "shapedefaults": {
           "line": {
            "color": "#2a3f5f"
           }
          },
          "ternary": {
           "aaxis": {
            "gridcolor": "white",
            "linecolor": "white",
            "ticks": ""
           },
           "baxis": {
            "gridcolor": "white",
            "linecolor": "white",
            "ticks": ""
           },
           "bgcolor": "#E5ECF6",
           "caxis": {
            "gridcolor": "white",
            "linecolor": "white",
            "ticks": ""
           }
          },
          "title": {
           "x": 0.05
          },
          "xaxis": {
           "automargin": true,
           "gridcolor": "white",
           "linecolor": "white",
           "ticks": "",
           "title": {
            "standoff": 15
           },
           "zerolinecolor": "white",
           "zerolinewidth": 2
          },
          "yaxis": {
           "automargin": true,
           "gridcolor": "white",
           "linecolor": "white",
           "ticks": "",
           "title": {
            "standoff": 15
           },
           "zerolinecolor": "white",
           "zerolinewidth": 2
          }
         }
        },
        "title": {
         "font": {
          "color": "black",
          "size": 24
         },
         "text": "Fires by state",
         "x": 0.5
        }
       }
      }
     },
     "metadata": {},
     "output_type": "display_data"
    }
   ],
   "source": [
    "fig,ax=plt.subplots(figsize=(8,5))\n",
    "\n",
    "# list of Alpha for the opacity of bars to fade out as the value decr. in barH\n",
    "\n",
    "Alpha=[0.25,0.29,0.35,0.4,0.44,0.47,0.48,0.50,0.52,0.55,0.57,0.59,0.65,0.66,0.68,0.69,0.70,0.71,0.75,0.78,0.79,0.85,1]\n",
    "plt.barh(grp_stt,grp_sum,color=[to_rgba('darkred',alpha=s)for s in Alpha])\n",
    "plt.ylabel('States',fontsize=12,weight='bold',color='black')\n",
    "plt.yticks(size=8,weight=\"bold\")\n",
    "plt.xlabel(\"No. of fires each state (1998 to 2017)\",size=12,weight='bold',color='black')\n",
    "plt.xticks(size=10,weight=\"bold\")\n",
    "ax.bar_label(ax.containers[0],weight=\"bold\",size=8)\n",
    "plt.grid(False)\n",
    "plt.show()\n",
    "\n",
    "# calculations\n",
    "\n",
    "by_state = df.groupby('state', as_index = False).agg({'number' : 'sum'}).sort_values('number', ascending = False)\n",
    "by_state['latitude'] = by_state['state'].map(latitude)\n",
    "by_state['longitude'] = by_state['state'].map(longitude)\n",
    "\n",
    "# viz\n",
    "fig = px.scatter_geo(data_frame= by_state, scope='south america',lat = 'latitude',lon = 'longitude',size= 'number' , color = 'state', projection= 'hammer', hover_name = 'state')\n",
    "fig.update_layout(title = dict(text='Fires by state',x=0.5,font=dict(color='black',size=24)))\n",
    "fig.show()"
   ]
  },
  {
   "cell_type": "markdown",
   "metadata": {},
   "source": [
    "Now we calculate the number of fired each year by using aggregate function to calculate the no. of fires for each year"
   ]
  },
  {
   "cell_type": "code",
   "execution_count": 136,
   "metadata": {},
   "outputs": [
    {
     "data": {
      "image/png": "[encoded data removed]",
      "text/plain": [
       "<Figure size 1000x600 with 1 Axes>"
      ]
     },
     "metadata": {},
     "output_type": "display_data"
    }
   ],
   "source": [
    "# calculation for grouping by year\n",
    "\n",
    "group_by_year = df.groupby('year', as_index = False).agg({'number' : 'sum'}).reset_index().drop('index', axis = 1)\n",
    "\n",
    "# viz\n",
    "\n",
    "fig = plt.figure(figsize = (10, 6))\n",
    "ax = fig.add_axes([0, 0, 1, 1])\n",
    "\n",
    "sns.lineplot(x = group_by_year['year'], y = group_by_year['number'], lw = 3)\n",
    "plt.scatter(x = group_by_year['year'] , y = group_by_year['number'], color = 'black', zorder = 3, lw = 2)\n",
    "\n",
    "# Scatter plt for ten major years where fire is more than avg.\n",
    "\n",
    "major_year=group_by_year[['year','number']].nlargest(10,columns='number').sort_values(by='number',ascending=True)\n",
    "plt.scatter(x =major_year['year'] , y =major_year['number'] , color = 'firebrick', zorder = 3, lw = 12)\n",
    "plt.axhline(y = group_by_year['number'].mean(), color = 'firebrick', ls = '--', lw = 2,)\n",
    "\n",
    "# ticks\n",
    "\n",
    "plt.xticks(rotation=70)\n",
    "plt.yticks(range(0, 45001, 5000))\n",
    "plt.tick_params(direction='out', length=6, width=3, colors='black', grid_color='black', labelsize = 16)\n",
    "\n",
    "# labels\n",
    "\n",
    "plt.xlabel('Year', color = 'black', fontsize = 16, fontweight = 'bold')\n",
    "plt.ylabel('No. of fires', color = 'black', fontsize = 16, fontweight = 'bold')\n",
    "\n",
    "# title\n",
    "\n",
    "plt.title('Number of fires by year', color = 'black', fontsize = 20,\n",
    "fontweight = 'bold')\n",
    "plt.grid(False)\n",
    "plt.show()"
   ]
  },
  {
   "cell_type": "code",
   "execution_count": 137,
   "metadata": {},
   "outputs": [
    {
     "data": {
      "image/png": "[encoded data removed]",
      "text/plain": [
       "<Figure size 1000x600 with 1 Axes>"
      ]
     },
     "metadata": {},
     "output_type": "display_data"
    }
   ],
   "source": [
    "# calculations for months in 2003\n",
    "by_monthN_2003 = df.query('year == \"2003\"').groupby('month_num', as_index = False).agg({'number' : 'sum'}).sort_values('month_num', ascending = True)\n",
    "\n",
    "# viz\n",
    "fig = plt.figure(figsize = (10, 6))\n",
    "ax = fig.add_axes([0, 0, 1, 1])\n",
    "\n",
    "sns.lineplot(x = by_monthN_2003['month_num'].astype(str), y = by_monthN_2003['number'], lw = 3)\n",
    "plt.scatter(x = by_monthN_2003['month_num'].astype(str) , y = by_monthN_2003['number'], color = 'black', zorder = 3, lw = 2)\n",
    "\n",
    "# Scatter plt for ten major years where fire is more than avg.\n",
    "\n",
    "major_month=by_monthN_2003[['month_num','number']].nlargest(6,columns='number').sort_values(by='number',ascending=True)\n",
    "plt.scatter(x =major_month['month_num'].astype(str) , y =major_month['number'] , color = 'firebrick', zorder = 3, lw = 12)\n",
    "plt.axhline(y = by_monthN_2003['number'].mean(), color = 'firebrick', ls = '--', lw = 2,)\n",
    "\n",
    "# ticks\n",
    "\n",
    "plt.yticks(range(0, 6000, 800))\n",
    "plt.tick_params(direction='out', length=6, width=3, colors='black', grid_color='black', labelsize = 16)\n",
    "\n",
    "# labels\n",
    "\n",
    "plt.xlabel('Month', color = 'black', fontsize = 16, fontweight = 'bold')\n",
    "plt.ylabel('No. of fires', color = 'black', fontsize = 16, fontweight = 'bold')\n",
    "\n",
    "# title\n",
    "\n",
    "plt.title('Number of fires by monthly trend (in 2003)', color = 'black', fontsize = 20,\n",
    "fontweight = 'bold')\n",
    "plt.grid(False)\n",
    "plt.show()\n",
    "\n"
   ]
  },
  {
   "cell_type": "markdown",
   "metadata": {},
   "source": [
    "### Calculation of visual representation of the year's in which max. no. of fires occured. "
   ]
  },
  {
   "cell_type": "markdown",
   "metadata": {},
   "source": [
    "we have shown the states where maximum fire occured in year 2003 and 2016"
   ]
  },
  {
   "cell_type": "code",
   "execution_count": 150,
   "metadata": {},
   "outputs": [
    {
     "data": {
      "application/vnd.plotly.v1+json": {
       "config": {
        "plotlyServerURL": "https://plot.ly"
       },
       "data": [
        {
         "geo": "geo",
         "hovertemplate": "<b>%{hovertext}</b><br><br>state=Mato Grosso<br>number=%{marker.size}<br>latitude=%{lat}<br>longitude=%{lon}<extra></extra>",
         "hovertext": [
          "Mato Grosso"
         ],
         "lat": [
          -14
         ],
         "legendgroup": "Mato Grosso",
         "lon": [
          -55
         ],
         "marker": {
          "color": "#636efa",
          "size": [
           6919
          ],
          "sizemode": "area",
          "sizeref": 17.2975,
          "symbol": "circle"
         },
         "mode": "markers",
         "name": "Mato Grosso",
         "showlegend": true,
         "type": "scattergeo"
        },
        {
         "geo": "geo",
         "hovertemplate": "<b>%{hovertext}</b><br><br>state=Rio<br>number=%{marker.size}<br>latitude=%{lat}<br>longitude=%{lon}<extra></extra>",
         "hovertext": [
          "Rio"
         ],
         "lat": [
          -22.9
         ],
         "legendgroup": "Rio",
         "lon": [
          -43.17
         ],
         "marker": {
          "color": "#EF553B",
          "size": [
           3391
          ],
          "sizemode": "area",
          "sizeref": 17.2975,
          "symbol": "circle"
         },
         "mode": "markers",
         "name": "Rio",
         "showlegend": true,
         "type": "scattergeo"
        },
        {
         "geo": "geo",
         "hovertemplate": "<b>%{hovertext}</b><br><br>state=Sao Paulo<br>number=%{marker.size}<br>latitude=%{lat}<br>longitude=%{lon}<extra></extra>",
         "hovertext": [
          "Sao Paulo"
         ],
         "lat": [
          -23.32
         ],
         "legendgroup": "Sao Paulo",
         "lon": [
          -46.37
         ],
         "marker": {
          "color": "#00cc96",
          "size": [
           3306
          ],
          "sizemode": "area",
          "sizeref": 17.2975,
          "symbol": "circle"
         },
         "mode": "markers",
         "name": "Sao Paulo",
         "showlegend": true,
         "type": "scattergeo"
        },
        {
         "geo": "geo",
         "hovertemplate": "<b>%{hovertext}</b><br><br>state=Bahia<br>number=%{marker.size}<br>latitude=%{lat}<br>longitude=%{lon}<extra></extra>",
         "hovertext": [
          "Bahia"
         ],
         "lat": [
          -12
         ],
         "legendgroup": "Bahia",
         "lon": [
          -42
         ],
         "marker": {
          "color": "#ab63fa",
          "size": [
           3062
          ],
          "sizemode": "area",
          "sizeref": 17.2975,
          "symbol": "circle"
         },
         "mode": "markers",
         "name": "Bahia",
         "showlegend": true,
         "type": "scattergeo"
        },
        {
         "geo": "geo",
         "hovertemplate": "<b>%{hovertext}</b><br><br>state=Paraiba<br>number=%{marker.size}<br>latitude=%{lat}<br>longitude=%{lon}<extra></extra>",
         "hovertext": [
          "Paraiba"
         ],
         "lat": [
          -7
         ],
         "legendgroup": "Paraiba",
         "lon": [
          -36
         ],
         "marker": {
          "color": "#FFA15A",
          "size": [
           2782
          ],
          "sizemode": "area",
          "sizeref": 17.2975,
          "symbol": "circle"
         },
         "mode": "markers",
         "name": "Paraiba",
         "showlegend": true,
         "type": "scattergeo"
        },
        {
         "geo": "geo",
         "hovertemplate": "<b>%{hovertext}</b><br><br>state=Pernambuco<br>number=%{marker.size}<br>latitude=%{lat}<br>longitude=%{lon}<extra></extra>",
         "hovertext": [
          "Pernambuco"
         ],
         "lat": [
          -8
         ],
         "legendgroup": "Pernambuco",
         "lon": [
          -37
         ],
         "marker": {
          "color": "#19d3f3",
          "size": [
           2407
          ],
          "sizemode": "area",
          "sizeref": 17.2975,
          "symbol": "circle"
         },
         "mode": "markers",
         "name": "Pernambuco",
         "showlegend": true,
         "type": "scattergeo"
        },
        {
         "geo": "geo",
         "hovertemplate": "<b>%{hovertext}</b><br><br>state=Goias<br>number=%{marker.size}<br>latitude=%{lat}<br>longitude=%{lon}<extra></extra>",
         "hovertext": [
          "Goias"
         ],
         "lat": [
          -15.55
         ],
         "legendgroup": "Goias",
         "lon": [
          -50.1
         ],
         "marker": {
          "color": "#FF6692",
          "size": [
           2076
          ],
          "sizemode": "area",
          "sizeref": 17.2975,
          "symbol": "circle"
         },
         "mode": "markers",
         "name": "Goias",
         "showlegend": true,
         "type": "scattergeo"
        },
        {
         "geo": "geo",
         "hovertemplate": "<b>%{hovertext}</b><br><br>state=Piau<br>number=%{marker.size}<br>latitude=%{lat}<br>longitude=%{lon}<extra></extra>",
         "hovertext": [
          "Piau"
         ],
         "lat": [
          -7
         ],
         "legendgroup": "Piau",
         "lon": [
          -73
         ],
         "marker": {
          "color": "#B6E880",
          "size": [
           1954
          ],
          "sizemode": "area",
          "sizeref": 17.2975,
          "symbol": "circle"
         },
         "mode": "markers",
         "name": "Piau",
         "showlegend": true,
         "type": "scattergeo"
        },
        {
         "geo": "geo",
         "hovertemplate": "<b>%{hovertext}</b><br><br>state=Minas Gerais<br>number=%{marker.size}<br>latitude=%{lat}<br>longitude=%{lon}<extra></extra>",
         "hovertext": [
          "Minas Gerais"
         ],
         "lat": [
          -18.5
         ],
         "legendgroup": "Minas Gerais",
         "lon": [
          -46
         ],
         "marker": {
          "color": "#FF97FF",
          "size": [
           1810
          ],
          "sizemode": "area",
          "sizeref": 17.2975,
          "symbol": "circle"
         },
         "mode": "markers",
         "name": "Minas Gerais",
         "showlegend": true,
         "type": "scattergeo"
        },
        {
         "geo": "geo",
         "hovertemplate": "<b>%{hovertext}</b><br><br>state=Roraima<br>number=%{marker.size}<br>latitude=%{lat}<br>longitude=%{lon}<extra></extra>",
         "hovertext": [
          "Roraima"
         ],
         "lat": [
          -2
         ],
         "legendgroup": "Roraima",
         "lon": [
          -61.3
         ],
         "marker": {
          "color": "#FECB52",
          "size": [
           1780
          ],
          "sizemode": "area",
          "sizeref": 17.2975,
          "symbol": "circle"
         },
         "mode": "markers",
         "name": "Roraima",
         "showlegend": true,
         "type": "scattergeo"
        },
        {
         "geo": "geo",
         "hovertemplate": "<b>%{hovertext}</b><br><br>state=Amapa<br>number=%{marker.size}<br>latitude=%{lat}<br>longitude=%{lon}<extra></extra>",
         "hovertext": [
          "Amapa"
         ],
         "lat": [
          -2.05
         ],
         "legendgroup": "Amapa",
         "lon": [
          -50.5
         ],
         "marker": {
          "color": "#636efa",
          "size": [
           1649
          ],
          "sizemode": "area",
          "sizeref": 17.2975,
          "symbol": "circle"
         },
         "mode": "markers",
         "name": "Amapa",
         "showlegend": true,
         "type": "scattergeo"
        },
        {
         "geo": "geo",
         "hovertemplate": "<b>%{hovertext}</b><br><br>state=Santa Catarina<br>number=%{marker.size}<br>latitude=%{lat}<br>longitude=%{lon}<extra></extra>",
         "hovertext": [
          "Santa Catarina"
         ],
         "lat": [
          -27.25
         ],
         "legendgroup": "Santa Catarina",
         "lon": [
          -48.3
         ],
         "marker": {
          "color": "#EF553B",
          "size": [
           1606
          ],
          "sizemode": "area",
          "sizeref": 17.2975,
          "symbol": "circle"
         },
         "mode": "markers",
         "name": "Santa Catarina",
         "showlegend": true,
         "type": "scattergeo"
        },
        {
         "geo": "geo",
         "hovertemplate": "<b>%{hovertext}</b><br><br>state=Tocantins<br>number=%{marker.size}<br>latitude=%{lat}<br>longitude=%{lon}<extra></extra>",
         "hovertext": [
          "Tocantins"
         ],
         "lat": [
          -10
         ],
         "legendgroup": "Tocantins",
         "lon": [
          -48
         ],
         "marker": {
          "color": "#00cc96",
          "size": [
           1575
          ],
          "sizemode": "area",
          "sizeref": 17.2975,
          "symbol": "circle"
         },
         "mode": "markers",
         "name": "Tocantins",
         "showlegend": true,
         "type": "scattergeo"
        },
        {
         "geo": "geo",
         "hovertemplate": "<b>%{hovertext}</b><br><br>state=Amazonas<br>number=%{marker.size}<br>latitude=%{lat}<br>longitude=%{lon}<extra></extra>",
         "hovertext": [
          "Amazonas"
         ],
         "lat": [
          -5
         ],
         "legendgroup": "Amazonas",
         "lon": [
          -65
         ],
         "marker": {
          "color": "#ab63fa",
          "size": [
           1516
          ],
          "sizemode": "area",
          "sizeref": 17.2975,
          "symbol": "circle"
         },
         "mode": "markers",
         "name": "Amazonas",
         "showlegend": true,
         "type": "scattergeo"
        },
        {
         "geo": "geo",
         "hovertemplate": "<b>%{hovertext}</b><br><br>state=Rondonia<br>number=%{marker.size}<br>latitude=%{lat}<br>longitude=%{lon}<extra></extra>",
         "hovertext": [
          "Rondonia"
         ],
         "lat": [
          -11
         ],
         "legendgroup": "Rondonia",
         "lon": [
          -63
         ],
         "marker": {
          "color": "#FFA15A",
          "size": [
           1426
          ],
          "sizemode": "area",
          "sizeref": 17.2975,
          "symbol": "circle"
         },
         "mode": "markers",
         "name": "Rondonia",
         "showlegend": true,
         "type": "scattergeo"
        },
        {
         "geo": "geo",
         "hovertemplate": "<b>%{hovertext}</b><br><br>state=Pará<br>number=%{marker.size}<br>latitude=%{lat}<br>longitude=%{lon}<extra></extra>",
         "hovertext": [
          "Pará"
         ],
         "lat": [
          -3.2
         ],
         "legendgroup": "Pará",
         "lon": [
          -52
         ],
         "marker": {
          "color": "#19d3f3",
          "size": [
           1039
          ],
          "sizemode": "area",
          "sizeref": 17.2975,
          "symbol": "circle"
         },
         "mode": "markers",
         "name": "Pará",
         "showlegend": true,
         "type": "scattergeo"
        },
        {
         "geo": "geo",
         "hovertemplate": "<b>%{hovertext}</b><br><br>state=Maranhao<br>number=%{marker.size}<br>latitude=%{lat}<br>longitude=%{lon}<extra></extra>",
         "hovertext": [
          "Maranhao"
         ],
         "lat": [
          -5
         ],
         "legendgroup": "Maranhao",
         "lon": [
          -46
         ],
         "marker": {
          "color": "#FF6692",
          "size": [
           940
          ],
          "sizemode": "area",
          "sizeref": 17.2975,
          "symbol": "circle"
         },
         "mode": "markers",
         "name": "Maranhao",
         "showlegend": true,
         "type": "scattergeo"
        },
        {
         "geo": "geo",
         "hovertemplate": "<b>%{hovertext}</b><br><br>state=Acre<br>number=%{marker.size}<br>latitude=%{lat}<br>longitude=%{lon}<extra></extra>",
         "hovertext": [
          "Acre"
         ],
         "lat": [
          -9.02
         ],
         "legendgroup": "Acre",
         "lon": [
          -70.812
         ],
         "marker": {
          "color": "#B6E880",
          "size": [
           923
          ],
          "sizemode": "area",
          "sizeref": 17.2975,
          "symbol": "circle"
         },
         "mode": "markers",
         "name": "Acre",
         "showlegend": true,
         "type": "scattergeo"
        },
        {
         "geo": "geo",
         "hovertemplate": "<b>%{hovertext}</b><br><br>state=Ceara<br>number=%{marker.size}<br>latitude=%{lat}<br>longitude=%{lon}<extra></extra>",
         "hovertext": [
          "Ceara"
         ],
         "lat": [
          -5
         ],
         "legendgroup": "Ceara",
         "lon": [
          -40
         ],
         "marker": {
          "color": "#FF97FF",
          "size": [
           771
          ],
          "sizemode": "area",
          "sizeref": 17.2975,
          "symbol": "circle"
         },
         "mode": "markers",
         "name": "Ceara",
         "showlegend": true,
         "type": "scattergeo"
        },
        {
         "geo": "geo",
         "hovertemplate": "<b>%{hovertext}</b><br><br>state=Espirito Santo<br>number=%{marker.size}<br>latitude=%{lat}<br>longitude=%{lon}<extra></extra>",
         "hovertext": [
          "Espirito Santo"
         ],
         "lat": [
          -20
         ],
         "legendgroup": "Espirito Santo",
         "lon": [
          -40.45
         ],
         "marker": {
          "color": "#FECB52",
          "size": [
           703
          ],
          "sizemode": "area",
          "sizeref": 17.2975,
          "symbol": "circle"
         },
         "mode": "markers",
         "name": "Espirito Santo",
         "showlegend": true,
         "type": "scattergeo"
        },
        {
         "geo": "geo",
         "hovertemplate": "<b>%{hovertext}</b><br><br>state=Sergipe<br>number=%{marker.size}<br>latitude=%{lat}<br>longitude=%{lon}<extra></extra>",
         "hovertext": [
          "Sergipe"
         ],
         "lat": [
          -10.3
         ],
         "legendgroup": "Sergipe",
         "lon": [
          -37.3
         ],
         "marker": {
          "color": "#636efa",
          "size": [
           394
          ],
          "sizemode": "area",
          "sizeref": 17.2975,
          "symbol": "circle"
         },
         "mode": "markers",
         "name": "Sergipe",
         "showlegend": true,
         "type": "scattergeo"
        },
        {
         "geo": "geo",
         "hovertemplate": "<b>%{hovertext}</b><br><br>state=Alagoas<br>number=%{marker.size}<br>latitude=%{lat}<br>longitude=%{lon}<extra></extra>",
         "hovertext": [
          "Alagoas"
         ],
         "lat": [
          -9.57
         ],
         "legendgroup": "Alagoas",
         "lon": [
          -36.782
         ],
         "marker": {
          "color": "#EF553B",
          "size": [
           278
          ],
          "sizemode": "area",
          "sizeref": 17.2975,
          "symbol": "circle"
         },
         "mode": "markers",
         "name": "Alagoas",
         "showlegend": true,
         "type": "scattergeo"
        },
        {
         "geo": "geo",
         "hovertemplate": "<b>%{hovertext}</b><br><br>state=Distrito Federal<br>number=%{marker.size}<br>latitude=%{lat}<br>longitude=%{lon}<extra></extra>",
         "hovertext": [
          "Distrito Federal"
         ],
         "lat": [
          -15.45
         ],
         "legendgroup": "Distrito Federal",
         "lon": [
          -47.45
         ],
         "marker": {
          "color": "#00cc96",
          "size": [
           95
          ],
          "sizemode": "area",
          "sizeref": 17.2975,
          "symbol": "circle"
         },
         "mode": "markers",
         "name": "Distrito Federal",
         "showlegend": true,
         "type": "scattergeo"
        }
       ],
       "layout": {
        "geo": {
         "center": {},
         "domain": {
          "x": [
           0,
           1
          ],
          "y": [
           0,
           1
          ]
         },
         "projection": {
          "type": "hammer"
         },
         "scope": "south america"
        },
        "legend": {
         "itemsizing": "constant",
         "title": {
          "text": "state"
         },
         "tracegroupgap": 0
        },
        "margin": {
         "t": 60
        },
        "template": {
         "data": {
          "bar": [
           {
            "error_x": {
             "color": "#2a3f5f"
            },
            "error_y": {
             "color": "#2a3f5f"
            },
            "marker": {
             "line": {
              "color": "#E5ECF6",
              "width": 0.5
             },
             "pattern": {
              "fillmode": "overlay",
              "size": 10,
              "solidity": 0.2
             }
            },
            "type": "bar"
           }
          ],
          "barpolar": [
           {
            "marker": {
             "line": {
              "color": "#E5ECF6",
              "width": 0.5
             },
             "pattern": {
              "fillmode": "overlay",
              "size": 10,
              "solidity": 0.2
             }
            },
            "type": "barpolar"
           }
          ],
          "carpet": [
           {
            "aaxis": {
             "endlinecolor": "#2a3f5f",
             "gridcolor": "white",
             "linecolor": "white",
             "minorgridcolor": "white",
             "startlinecolor": "#2a3f5f"
            },
            "baxis": {
             "endlinecolor": "#2a3f5f",
             "gridcolor": "white",
             "linecolor": "white",
             "minorgridcolor": "white",
             "startlinecolor": "#2a3f5f"
            },
            "type": "carpet"
           }
          ],
          "choropleth": [
           {
            "colorbar": {
             "outlinewidth": 0,
             "ticks": ""
            },
            "type": "choropleth"
           }
          ],
          "contour": [
           {
            "colorbar": {
             "outlinewidth": 0,
             "ticks": ""
            },
            "colorscale": [
             [
              0,
              "#0d0887"
             ],
             [
              0.1111111111111111,
              "#46039f"
             ],
             [
              0.2222222222222222,
              "#7201a8"
             ],
             [
              0.3333333333333333,
              "#9c179e"
             ],
             [
              0.4444444444444444,
              "#bd3786"
             ],
             [
              0.5555555555555556,
              "#d8576b"
             ],
             [
              0.6666666666666666,
              "#ed7953"
             ],
             [
              0.7777777777777778,
              "#fb9f3a"
             ],
             [
              0.8888888888888888,
              "#fdca26"
             ],
             [
              1,
              "#f0f921"
             ]
            ],
            "type": "contour"
           }
          ],
          "contourcarpet": [
           {
            "colorbar": {
             "outlinewidth": 0,
             "ticks": ""
            },
            "type": "contourcarpet"
           }
          ],
          "heatmap": [
           {
            "colorbar": {
             "outlinewidth": 0,
             "ticks": ""
            },
            "colorscale": [
             [
              0,
              "#0d0887"
             ],
             [
              0.1111111111111111,
              "#46039f"
             ],
             [
              0.2222222222222222,
              "#7201a8"
             ],
             [
              0.3333333333333333,
              "#9c179e"
             ],
             [
              0.4444444444444444,
              "#bd3786"
             ],
             [
              0.5555555555555556,
              "#d8576b"
             ],
             [
              0.6666666666666666,
              "#ed7953"
             ],
             [
              0.7777777777777778,
              "#fb9f3a"
             ],
             [
              0.8888888888888888,
              "#fdca26"
             ],
             [
              1,
              "#f0f921"
             ]
            ],
            "type": "heatmap"
           }
          ],
          "heatmapgl": [
           {
            "colorbar": {
             "outlinewidth": 0,
             "ticks": ""
            },
            "colorscale": [
             [
              0,
              "#0d0887"
             ],
             [
              0.1111111111111111,
              "#46039f"
             ],
             [
              0.2222222222222222,
              "#7201a8"
             ],
             [
              0.3333333333333333,
              "#9c179e"
             ],
             [
              0.4444444444444444,
              "#bd3786"
             ],
             [
              0.5555555555555556,
              "#d8576b"
             ],
             [
              0.6666666666666666,
              "#ed7953"
             ],
             [
              0.7777777777777778,
              "#fb9f3a"
             ],
             [
              0.8888888888888888,
              "#fdca26"
             ],
             [
              1,
              "#f0f921"
             ]
            ],
            "type": "heatmapgl"
           }
          ],
          "histogram": [
           {
            "marker": {
             "pattern": {
              "fillmode": "overlay",
              "size": 10,
              "solidity": 0.2
             }
            },
            "type": "histogram"
           }
          ],
          "histogram2d": [
           {
            "colorbar": {
             "outlinewidth": 0,
             "ticks": ""
            },
            "colorscale": [
             [
              0,
              "#0d0887"
             ],
             [
              0.1111111111111111,
              "#46039f"
             ],
             [
              0.2222222222222222,
              "#7201a8"
             ],
             [
              0.3333333333333333,
              "#9c179e"
             ],
             [
              0.4444444444444444,
              "#bd3786"
             ],
             [
              0.5555555555555556,
              "#d8576b"
             ],
             [
              0.6666666666666666,
              "#ed7953"
             ],
             [
              0.7777777777777778,
              "#fb9f3a"
             ],
             [
              0.8888888888888888,
              "#fdca26"
             ],
             [
              1,
              "#f0f921"
             ]
            ],
            "type": "histogram2d"
           }
          ],
          "histogram2dcontour": [
           {
            "colorbar": {
             "outlinewidth": 0,
             "ticks": ""
            },
            "colorscale": [
             [
              0,
              "#0d0887"
             ],
             [
              0.1111111111111111,
              "#46039f"
             ],
             [
              0.2222222222222222,
              "#7201a8"
             ],
             [
              0.3333333333333333,
              "#9c179e"
             ],
             [
              0.4444444444444444,
              "#bd3786"
             ],
             [
              0.5555555555555556,
              "#d8576b"
             ],
             [
              0.6666666666666666,
              "#ed7953"
             ],
             [
              0.7777777777777778,
              "#fb9f3a"
             ],
             [
              0.8888888888888888,
              "#fdca26"
             ],
             [
              1,
              "#f0f921"
             ]
            ],
            "type": "histogram2dcontour"
           }
          ],
          "mesh3d": [
           {
            "colorbar": {
             "outlinewidth": 0,
             "ticks": ""
            },
            "type": "mesh3d"
           }
          ],
          "parcoords": [
           {
            "line": {
             "colorbar": {
              "outlinewidth": 0,
              "ticks": ""
             }
            },
            "type": "parcoords"
           }
          ],
          "pie": [
           {
            "automargin": true,
            "type": "pie"
           }
          ],
          "scatter": [
           {
            "fillpattern": {
             "fillmode": "overlay",
             "size": 10,
             "solidity": 0.2
            },
            "type": "scatter"
           }
          ],
          "scatter3d": [
           {
            "line": {
             "colorbar": {
              "outlinewidth": 0,
              "ticks": ""
             }
            },
            "marker": {
             "colorbar": {
              "outlinewidth": 0,
              "ticks": ""
             }
            },
            "type": "scatter3d"
           }
          ],
          "scattercarpet": [
           {
            "marker": {
             "colorbar": {
              "outlinewidth": 0,
              "ticks": ""
             }
            },
            "type": "scattercarpet"
           }
          ],
          "scattergeo": [
           {
            "marker": {
             "colorbar": {
              "outlinewidth": 0,
              "ticks": ""
             }
            },
            "type": "scattergeo"
           }
          ],
          "scattergl": [
           {
            "marker": {
             "colorbar": {
              "outlinewidth": 0,
              "ticks": ""
             }
            },
            "type": "scattergl"
           }
          ],
          "scattermapbox": [
           {
            "marker": {
             "colorbar": {
              "outlinewidth": 0,
              "ticks": ""
             }
            },
            "type": "scattermapbox"
           }
          ],
          "scatterpolar": [
           {
            "marker": {
             "colorbar": {
              "outlinewidth": 0,
              "ticks": ""
             }
            },
            "type": "scatterpolar"
           }
          ],
          "scatterpolargl": [
           {
            "marker": {
             "colorbar": {
              "outlinewidth": 0,
              "ticks": ""
             }
            },
            "type": "scatterpolargl"
           }
          ],
          "scatterternary": [
           {
            "marker": {
             "colorbar": {
              "outlinewidth": 0,
              "ticks": ""
             }
            },
            "type": "scatterternary"
           }
          ],
          "surface": [
           {
            "colorbar": {
             "outlinewidth": 0,
             "ticks": ""
            },
            "colorscale": [
             [
              0,
              "#0d0887"
             ],
             [
              0.1111111111111111,
              "#46039f"
             ],
             [
              0.2222222222222222,
              "#7201a8"
             ],
             [
              0.3333333333333333,
              "#9c179e"
             ],
             [
              0.4444444444444444,
              "#bd3786"
             ],
             [
              0.5555555555555556,
              "#d8576b"
             ],
             [
              0.6666666666666666,
              "#ed7953"
             ],
             [
              0.7777777777777778,
              "#fb9f3a"
             ],
             [
              0.8888888888888888,
              "#fdca26"
             ],
             [
              1,
              "#f0f921"
             ]
            ],
            "type": "surface"
           }
          ],
          "table": [
           {
            "cells": {
             "fill": {
              "color": "#EBF0F8"
             },
             "line": {
              "color": "white"
             }
            },
            "header": {
             "fill": {
              "color": "#C8D4E3"
             },
             "line": {
              "color": "white"
             }
            },
            "type": "table"
           }
          ]
         },
         "layout": {
          "annotationdefaults": {
           "arrowcolor": "#2a3f5f",
           "arrowhead": 0,
           "arrowwidth": 1
          },
          "autotypenumbers": "strict",
          "coloraxis": {
           "colorbar": {
            "outlinewidth": 0,
            "ticks": ""
           }
          },
          "colorscale": {
           "diverging": [
            [
             0,
             "#8e0152"
            ],
            [
             0.1,
             "#c51b7d"
            ],
            [
             0.2,
             "#de77ae"
            ],
            [
             0.3,
             "#f1b6da"
            ],
            [
             0.4,
             "#fde0ef"
            ],
            [
             0.5,
             "#f7f7f7"
            ],
            [
             0.6,
             "#e6f5d0"
            ],
            [
             0.7,
             "#b8e186"
            ],
            [
             0.8,
             "#7fbc41"
            ],
            [
             0.9,
             "#4d9221"
            ],
            [
             1,
             "#276419"
            ]
           ],
           "sequential": [
            [
             0,
             "#0d0887"
            ],
            [
             0.1111111111111111,
             "#46039f"
            ],
            [
             0.2222222222222222,
             "#7201a8"
            ],
            [
             0.3333333333333333,
             "#9c179e"
            ],
            [
             0.4444444444444444,
             "#bd3786"
            ],
            [
             0.5555555555555556,
             "#d8576b"
            ],
            [
             0.6666666666666666,
             "#ed7953"
            ],
            [
             0.7777777777777778,
             "#fb9f3a"
            ],
            [
             0.8888888888888888,
             "#fdca26"
            ],
            [
             1,
             "#f0f921"
            ]
           ],
           "sequentialminus": [
            [
             0,
             "#0d0887"
            ],
            [
             0.1111111111111111,
             "#46039f"
            ],
            [
             0.2222222222222222,
             "#7201a8"
            ],
            [
             0.3333333333333333,
             "#9c179e"
            ],
            [
             0.4444444444444444,
             "#bd3786"
            ],
            [
             0.5555555555555556,
             "#d8576b"
            ],
            [
             0.6666666666666666,
             "#ed7953"
            ],
            [
             0.7777777777777778,
             "#fb9f3a"
            ],
            [
             0.8888888888888888,
             "#fdca26"
            ],
            [
             1,
             "#f0f921"
            ]
           ]
          },
          "colorway": [
           "#636efa",
           "#EF553B",
           "#00cc96",
           "#ab63fa",
           "#FFA15A",
           "#19d3f3",
           "#FF6692",
           "#B6E880",
           "#FF97FF",
           "#FECB52"
          ],
          "font": {
           "color": "#2a3f5f"
          },
          "geo": {
           "bgcolor": "white",
           "lakecolor": "white",
           "landcolor": "#E5ECF6",
           "showlakes": true,
           "showland": true,
           "subunitcolor": "white"
          },
          "hoverlabel": {
           "align": "left"
          },
          "hovermode": "closest",
          "mapbox": {
           "style": "light"
          },
          "paper_bgcolor": "white",
          "plot_bgcolor": "#E5ECF6",
          "polar": {
           "angularaxis": {
            "gridcolor": "white",
            "linecolor": "white",
            "ticks": ""
           },
           "bgcolor": "#E5ECF6",
           "radialaxis": {
            "gridcolor": "white",
            "linecolor": "white",
            "ticks": ""
           }
          },
          "scene": {
           "xaxis": {
            "backgroundcolor": "#E5ECF6",
            "gridcolor": "white",
            "gridwidth": 2,
            "linecolor": "white",
            "showbackground": true,
            "ticks": "",
            "zerolinecolor": "white"
           },
           "yaxis": {
            "backgroundcolor": "#E5ECF6",
            "gridcolor": "white",
            "gridwidth": 2,
            "linecolor": "white",
            "showbackground": true,
            "ticks": "",
            "zerolinecolor": "white"
           },
           "zaxis": {
            "backgroundcolor": "#E5ECF6",
            "gridcolor": "white",
            "gridwidth": 2,
            "linecolor": "white",
            "showbackground": true,
            "ticks": "",
            "zerolinecolor": "white"
           }
          },
          "shapedefaults": {
           "line": {
            "color": "#2a3f5f"
           }
          },
          "ternary": {
           "aaxis": {
            "gridcolor": "white",
            "linecolor": "white",
            "ticks": ""
           },
           "baxis": {
            "gridcolor": "white",
            "linecolor": "white",
            "ticks": ""
           },
           "bgcolor": "#E5ECF6",
           "caxis": {
            "gridcolor": "white",
            "linecolor": "white",
            "ticks": ""
           }
          },
          "title": {
           "x": 0.05
          },
          "xaxis": {
           "automargin": true,
           "gridcolor": "white",
           "linecolor": "white",
           "ticks": "",
           "title": {
            "standoff": 15
           },
           "zerolinecolor": "white",
           "zerolinewidth": 2
          },
          "yaxis": {
           "automargin": true,
           "gridcolor": "white",
           "linecolor": "white",
           "ticks": "",
           "title": {
            "standoff": 15
           },
           "zerolinecolor": "white",
           "zerolinewidth": 2
          }
         }
        },
        "title": {
         "font": {
          "color": "black",
          "size": 24
         },
         "text": "Fires in 2003 by state",
         "x": 0.5
        }
       }
      }
     },
     "metadata": {},
     "output_type": "display_data"
    },
    {
     "data": {
      "application/vnd.plotly.v1+json": {
       "config": {
        "plotlyServerURL": "https://plot.ly"
       },
       "data": [
        {
         "geo": "geo",
         "hovertemplate": "<b>%{hovertext}</b><br><br>state=Mato Grosso<br>number=%{marker.size}<br>latitude=%{lat}<br>longitude=%{lon}<extra></extra>",
         "hovertext": [
          "Mato Grosso"
         ],
         "lat": [
          -14
         ],
         "legendgroup": "Mato Grosso",
         "lon": [
          -55
         ],
         "marker": {
          "color": "#636efa",
          "size": [
           3620
          ],
          "sizemode": "area",
          "sizeref": 9.05,
          "symbol": "circle"
         },
         "mode": "markers",
         "name": "Mato Grosso",
         "showlegend": true,
         "type": "scattergeo"
        },
        {
         "geo": "geo",
         "hovertemplate": "<b>%{hovertext}</b><br><br>state=Bahia<br>number=%{marker.size}<br>latitude=%{lat}<br>longitude=%{lon}<extra></extra>",
         "hovertext": [
          "Bahia"
         ],
         "lat": [
          -12
         ],
         "legendgroup": "Bahia",
         "lon": [
          -42
         ],
         "marker": {
          "color": "#EF553B",
          "size": [
           3517
          ],
          "sizemode": "area",
          "sizeref": 9.05,
          "symbol": "circle"
         },
         "mode": "markers",
         "name": "Bahia",
         "showlegend": true,
         "type": "scattergeo"
        },
        {
         "geo": "geo",
         "hovertemplate": "<b>%{hovertext}</b><br><br>state=Rio<br>number=%{marker.size}<br>latitude=%{lat}<br>longitude=%{lon}<extra></extra>",
         "hovertext": [
          "Rio"
         ],
         "lat": [
          -22.9
         ],
         "legendgroup": "Rio",
         "lon": [
          -43.17
         ],
         "marker": {
          "color": "#00cc96",
          "size": [
           3406
          ],
          "sizemode": "area",
          "sizeref": 9.05,
          "symbol": "circle"
         },
         "mode": "markers",
         "name": "Rio",
         "showlegend": true,
         "type": "scattergeo"
        },
        {
         "geo": "geo",
         "hovertemplate": "<b>%{hovertext}</b><br><br>state=Sao Paulo<br>number=%{marker.size}<br>latitude=%{lat}<br>longitude=%{lon}<extra></extra>",
         "hovertext": [
          "Sao Paulo"
         ],
         "lat": [
          -23.32
         ],
         "legendgroup": "Sao Paulo",
         "lon": [
          -46.37
         ],
         "marker": {
          "color": "#ab63fa",
          "size": [
           3235
          ],
          "sizemode": "area",
          "sizeref": 9.05,
          "symbol": "circle"
         },
         "mode": "markers",
         "name": "Sao Paulo",
         "showlegend": true,
         "type": "scattergeo"
        },
        {
         "geo": "geo",
         "hovertemplate": "<b>%{hovertext}</b><br><br>state=Goias<br>number=%{marker.size}<br>latitude=%{lat}<br>longitude=%{lon}<extra></extra>",
         "hovertext": [
          "Goias"
         ],
         "lat": [
          -15.55
         ],
         "legendgroup": "Goias",
         "lon": [
          -50.1
         ],
         "marker": {
          "color": "#FFA15A",
          "size": [
           2540
          ],
          "sizemode": "area",
          "sizeref": 9.05,
          "symbol": "circle"
         },
         "mode": "markers",
         "name": "Goias",
         "showlegend": true,
         "type": "scattergeo"
        },
        {
         "geo": "geo",
         "hovertemplate": "<b>%{hovertext}</b><br><br>state=Tocantins<br>number=%{marker.size}<br>latitude=%{lat}<br>longitude=%{lon}<extra></extra>",
         "hovertext": [
          "Tocantins"
         ],
         "lat": [
          -10
         ],
         "legendgroup": "Tocantins",
         "lon": [
          -48
         ],
         "marker": {
          "color": "#19d3f3",
          "size": [
           2479
          ],
          "sizemode": "area",
          "sizeref": 9.05,
          "symbol": "circle"
         },
         "mode": "markers",
         "name": "Tocantins",
         "showlegend": true,
         "type": "scattergeo"
        },
        {
         "geo": "geo",
         "hovertemplate": "<b>%{hovertext}</b><br><br>state=Paraiba<br>number=%{marker.size}<br>latitude=%{lat}<br>longitude=%{lon}<extra></extra>",
         "hovertext": [
          "Paraiba"
         ],
         "lat": [
          -7
         ],
         "legendgroup": "Paraiba",
         "lon": [
          -36
         ],
         "marker": {
          "color": "#FF6692",
          "size": [
           2358
          ],
          "sizemode": "area",
          "sizeref": 9.05,
          "symbol": "circle"
         },
         "mode": "markers",
         "name": "Paraiba",
         "showlegend": true,
         "type": "scattergeo"
        },
        {
         "geo": "geo",
         "hovertemplate": "<b>%{hovertext}</b><br><br>state=Santa Catarina<br>number=%{marker.size}<br>latitude=%{lat}<br>longitude=%{lon}<extra></extra>",
         "hovertext": [
          "Santa Catarina"
         ],
         "lat": [
          -27.25
         ],
         "legendgroup": "Santa Catarina",
         "lon": [
          -48.3
         ],
         "marker": {
          "color": "#B6E880",
          "size": [
           2336
          ],
          "sizemode": "area",
          "sizeref": 9.05,
          "symbol": "circle"
         },
         "mode": "markers",
         "name": "Santa Catarina",
         "showlegend": true,
         "type": "scattergeo"
        },
        {
         "geo": "geo",
         "hovertemplate": "<b>%{hovertext}</b><br><br>state=Minas Gerais<br>number=%{marker.size}<br>latitude=%{lat}<br>longitude=%{lon}<extra></extra>",
         "hovertext": [
          "Minas Gerais"
         ],
         "lat": [
          -18.5
         ],
         "legendgroup": "Minas Gerais",
         "lon": [
          -46
         ],
         "marker": {
          "color": "#FF97FF",
          "size": [
           2177
          ],
          "sizemode": "area",
          "sizeref": 9.05,
          "symbol": "circle"
         },
         "mode": "markers",
         "name": "Minas Gerais",
         "showlegend": true,
         "type": "scattergeo"
        },
        {
         "geo": "geo",
         "hovertemplate": "<b>%{hovertext}</b><br><br>state=Amazonas<br>number=%{marker.size}<br>latitude=%{lat}<br>longitude=%{lon}<extra></extra>",
         "hovertext": [
          "Amazonas"
         ],
         "lat": [
          -5
         ],
         "legendgroup": "Amazonas",
         "lon": [
          -65
         ],
         "marker": {
          "color": "#FECB52",
          "size": [
           2051
          ],
          "sizemode": "area",
          "sizeref": 9.05,
          "symbol": "circle"
         },
         "mode": "markers",
         "name": "Amazonas",
         "showlegend": true,
         "type": "scattergeo"
        },
        {
         "geo": "geo",
         "hovertemplate": "<b>%{hovertext}</b><br><br>state=Rondonia<br>number=%{marker.size}<br>latitude=%{lat}<br>longitude=%{lon}<extra></extra>",
         "hovertext": [
          "Rondonia"
         ],
         "lat": [
          -11
         ],
         "legendgroup": "Rondonia",
         "lon": [
          -63
         ],
         "marker": {
          "color": "#636efa",
          "size": [
           1997
          ],
          "sizemode": "area",
          "sizeref": 9.05,
          "symbol": "circle"
         },
         "mode": "markers",
         "name": "Rondonia",
         "showlegend": true,
         "type": "scattergeo"
        },
        {
         "geo": "geo",
         "hovertemplate": "<b>%{hovertext}</b><br><br>state=Maranhao<br>number=%{marker.size}<br>latitude=%{lat}<br>longitude=%{lon}<extra></extra>",
         "hovertext": [
          "Maranhao"
         ],
         "lat": [
          -5
         ],
         "legendgroup": "Maranhao",
         "lon": [
          -46
         ],
         "marker": {
          "color": "#EF553B",
          "size": [
           1871
          ],
          "sizemode": "area",
          "sizeref": 9.05,
          "symbol": "circle"
         },
         "mode": "markers",
         "name": "Maranhao",
         "showlegend": true,
         "type": "scattergeo"
        },
        {
         "geo": "geo",
         "hovertemplate": "<b>%{hovertext}</b><br><br>state=Ceara<br>number=%{marker.size}<br>latitude=%{lat}<br>longitude=%{lon}<extra></extra>",
         "hovertext": [
          "Ceara"
         ],
         "lat": [
          -5
         ],
         "legendgroup": "Ceara",
         "lon": [
          -40
         ],
         "marker": {
          "color": "#00cc96",
          "size": [
           1764
          ],
          "sizemode": "area",
          "sizeref": 9.05,
          "symbol": "circle"
         },
         "mode": "markers",
         "name": "Ceara",
         "showlegend": true,
         "type": "scattergeo"
        },
        {
         "geo": "geo",
         "hovertemplate": "<b>%{hovertext}</b><br><br>state=Piau<br>number=%{marker.size}<br>latitude=%{lat}<br>longitude=%{lon}<extra></extra>",
         "hovertext": [
          "Piau"
         ],
         "lat": [
          -7
         ],
         "legendgroup": "Piau",
         "lon": [
          -73
         ],
         "marker": {
          "color": "#ab63fa",
          "size": [
           1620
          ],
          "sizemode": "area",
          "sizeref": 9.05,
          "symbol": "circle"
         },
         "mode": "markers",
         "name": "Piau",
         "showlegend": true,
         "type": "scattergeo"
        },
        {
         "geo": "geo",
         "hovertemplate": "<b>%{hovertext}</b><br><br>state=Amapa<br>number=%{marker.size}<br>latitude=%{lat}<br>longitude=%{lon}<extra></extra>",
         "hovertext": [
          "Amapa"
         ],
         "lat": [
          -2.05
         ],
         "legendgroup": "Amapa",
         "lon": [
          -50.5
         ],
         "marker": {
          "color": "#FFA15A",
          "size": [
           1482
          ],
          "sizemode": "area",
          "sizeref": 9.05,
          "symbol": "circle"
         },
         "mode": "markers",
         "name": "Amapa",
         "showlegend": true,
         "type": "scattergeo"
        },
        {
         "geo": "geo",
         "hovertemplate": "<b>%{hovertext}</b><br><br>state=Pará<br>number=%{marker.size}<br>latitude=%{lat}<br>longitude=%{lon}<extra></extra>",
         "hovertext": [
          "Pará"
         ],
         "lat": [
          -3.2
         ],
         "legendgroup": "Pará",
         "lon": [
          -52
         ],
         "marker": {
          "color": "#19d3f3",
          "size": [
           1233
          ],
          "sizemode": "area",
          "sizeref": 9.05,
          "symbol": "circle"
         },
         "mode": "markers",
         "name": "Pará",
         "showlegend": true,
         "type": "scattergeo"
        },
        {
         "geo": "geo",
         "hovertemplate": "<b>%{hovertext}</b><br><br>state=Acre<br>number=%{marker.size}<br>latitude=%{lat}<br>longitude=%{lon}<extra></extra>",
         "hovertext": [
          "Acre"
         ],
         "lat": [
          -9.02
         ],
         "legendgroup": "Acre",
         "lon": [
          -70.812
         ],
         "marker": {
          "color": "#FF6692",
          "size": [
           1208
          ],
          "sizemode": "area",
          "sizeref": 9.05,
          "symbol": "circle"
         },
         "mode": "markers",
         "name": "Acre",
         "showlegend": true,
         "type": "scattergeo"
        },
        {
         "geo": "geo",
         "hovertemplate": "<b>%{hovertext}</b><br><br>state=Pernambuco<br>number=%{marker.size}<br>latitude=%{lat}<br>longitude=%{lon}<extra></extra>",
         "hovertext": [
          "Pernambuco"
         ],
         "lat": [
          -8
         ],
         "legendgroup": "Pernambuco",
         "lon": [
          -37
         ],
         "marker": {
          "color": "#B6E880",
          "size": [
           944
          ],
          "sizemode": "area",
          "sizeref": 9.05,
          "symbol": "circle"
         },
         "mode": "markers",
         "name": "Pernambuco",
         "showlegend": true,
         "type": "scattergeo"
        },
        {
         "geo": "geo",
         "hovertemplate": "<b>%{hovertext}</b><br><br>state=Roraima<br>number=%{marker.size}<br>latitude=%{lat}<br>longitude=%{lon}<extra></extra>",
         "hovertext": [
          "Roraima"
         ],
         "lat": [
          -2
         ],
         "legendgroup": "Roraima",
         "lon": [
          -61.3
         ],
         "marker": {
          "color": "#FF97FF",
          "size": [
           657
          ],
          "sizemode": "area",
          "sizeref": 9.05,
          "symbol": "circle"
         },
         "mode": "markers",
         "name": "Roraima",
         "showlegend": true,
         "type": "scattergeo"
        },
        {
         "geo": "geo",
         "hovertemplate": "<b>%{hovertext}</b><br><br>state=Espirito Santo<br>number=%{marker.size}<br>latitude=%{lat}<br>longitude=%{lon}<extra></extra>",
         "hovertext": [
          "Espirito Santo"
         ],
         "lat": [
          -20
         ],
         "legendgroup": "Espirito Santo",
         "lon": [
          -40.45
         ],
         "marker": {
          "color": "#FECB52",
          "size": [
           646
          ],
          "sizemode": "area",
          "sizeref": 9.05,
          "symbol": "circle"
         },
         "mode": "markers",
         "name": "Espirito Santo",
         "showlegend": true,
         "type": "scattergeo"
        },
        {
         "geo": "geo",
         "hovertemplate": "<b>%{hovertext}</b><br><br>state=Alagoas<br>number=%{marker.size}<br>latitude=%{lat}<br>longitude=%{lon}<extra></extra>",
         "hovertext": [
          "Alagoas"
         ],
         "lat": [
          -9.57
         ],
         "legendgroup": "Alagoas",
         "lon": [
          -36.782
         ],
         "marker": {
          "color": "#636efa",
          "size": [
           374
          ],
          "sizemode": "area",
          "sizeref": 9.05,
          "symbol": "circle"
         },
         "mode": "markers",
         "name": "Alagoas",
         "showlegend": true,
         "type": "scattergeo"
        },
        {
         "geo": "geo",
         "hovertemplate": "<b>%{hovertext}</b><br><br>state=Distrito Federal<br>number=%{marker.size}<br>latitude=%{lat}<br>longitude=%{lon}<extra></extra>",
         "hovertext": [
          "Distrito Federal"
         ],
         "lat": [
          -15.45
         ],
         "legendgroup": "Distrito Federal",
         "lon": [
          -47.45
         ],
         "marker": {
          "color": "#EF553B",
          "size": [
           223
          ],
          "sizemode": "area",
          "sizeref": 9.05,
          "symbol": "circle"
         },
         "mode": "markers",
         "name": "Distrito Federal",
         "showlegend": true,
         "type": "scattergeo"
        },
        {
         "geo": "geo",
         "hovertemplate": "<b>%{hovertext}</b><br><br>state=Sergipe<br>number=%{marker.size}<br>latitude=%{lat}<br>longitude=%{lon}<extra></extra>",
         "hovertext": [
          "Sergipe"
         ],
         "lat": [
          -10.3
         ],
         "legendgroup": "Sergipe",
         "lon": [
          -37.3
         ],
         "marker": {
          "color": "#00cc96",
          "size": [
           115
          ],
          "sizemode": "area",
          "sizeref": 9.05,
          "symbol": "circle"
         },
         "mode": "markers",
         "name": "Sergipe",
         "showlegend": true,
         "type": "scattergeo"
        }
       ],
       "layout": {
        "geo": {
         "center": {},
         "domain": {
          "x": [
           0,
           1
          ],
          "y": [
           0,
           1
          ]
         },
         "projection": {
          "type": "hammer"
         },
         "scope": "south america"
        },
        "legend": {
         "itemsizing": "constant",
         "title": {
          "text": "state"
         },
         "tracegroupgap": 0
        },
        "margin": {
         "t": 60
        },
        "template": {
         "data": {
          "bar": [
           {
            "error_x": {
             "color": "#2a3f5f"
            },
            "error_y": {
             "color": "#2a3f5f"
            },
            "marker": {
             "line": {
              "color": "#E5ECF6",
              "width": 0.5
             },
             "pattern": {
              "fillmode": "overlay",
              "size": 10,
              "solidity": 0.2
             }
            },
            "type": "bar"
           }
          ],
          "barpolar": [
           {
            "marker": {
             "line": {
              "color": "#E5ECF6",
              "width": 0.5
             },
             "pattern": {
              "fillmode": "overlay",
              "size": 10,
              "solidity": 0.2
             }
            },
            "type": "barpolar"
           }
          ],
          "carpet": [
           {
            "aaxis": {
             "endlinecolor": "#2a3f5f",
             "gridcolor": "white",
             "linecolor": "white",
             "minorgridcolor": "white",
             "startlinecolor": "#2a3f5f"
            },
            "baxis": {
             "endlinecolor": "#2a3f5f",
             "gridcolor": "white",
             "linecolor": "white",
             "minorgridcolor": "white",
             "startlinecolor": "#2a3f5f"
            },
            "type": "carpet"
           }
          ],
          "choropleth": [
           {
            "colorbar": {
             "outlinewidth": 0,
             "ticks": ""
            },
            "type": "choropleth"
           }
          ],
          "contour": [
           {
            "colorbar": {
             "outlinewidth": 0,
             "ticks": ""
            },
            "colorscale": [
             [
              0,
              "#0d0887"
             ],
             [
              0.1111111111111111,
              "#46039f"
             ],
             [
              0.2222222222222222,
              "#7201a8"
             ],
             [
              0.3333333333333333,
              "#9c179e"
             ],
             [
              0.4444444444444444,
              "#bd3786"
             ],
             [
              0.5555555555555556,
              "#d8576b"
             ],
             [
              0.6666666666666666,
              "#ed7953"
             ],
             [
              0.7777777777777778,
              "#fb9f3a"
             ],
             [
              0.8888888888888888,
              "#fdca26"
             ],
             [
              1,
              "#f0f921"
             ]
            ],
            "type": "contour"
           }
          ],
          "contourcarpet": [
           {
            "colorbar": {
             "outlinewidth": 0,
             "ticks": ""
            },
            "type": "contourcarpet"
           }
          ],
          "heatmap": [
           {
            "colorbar": {
             "outlinewidth": 0,
             "ticks": ""
            },
            "colorscale": [
             [
              0,
              "#0d0887"
             ],
             [
              0.1111111111111111,
              "#46039f"
             ],
             [
              0.2222222222222222,
              "#7201a8"
             ],
             [
              0.3333333333333333,
              "#9c179e"
             ],
             [
              0.4444444444444444,
              "#bd3786"
             ],
             [
              0.5555555555555556,
              "#d8576b"
             ],
             [
              0.6666666666666666,
              "#ed7953"
             ],
             [
              0.7777777777777778,
              "#fb9f3a"
             ],
             [
              0.8888888888888888,
              "#fdca26"
             ],
             [
              1,
              "#f0f921"
             ]
            ],
            "type": "heatmap"
           }
          ],
          "heatmapgl": [
           {
            "colorbar": {
             "outlinewidth": 0,
             "ticks": ""
            },
            "colorscale": [
             [
              0,
              "#0d0887"
             ],
             [
              0.1111111111111111,
              "#46039f"
             ],
             [
              0.2222222222222222,
              "#7201a8"
             ],
             [
              0.3333333333333333,
              "#9c179e"
             ],
             [
              0.4444444444444444,
              "#bd3786"
             ],
             [
              0.5555555555555556,
              "#d8576b"
             ],
             [
              0.6666666666666666,
              "#ed7953"
             ],
             [
              0.7777777777777778,
              "#fb9f3a"
             ],
             [
              0.8888888888888888,
              "#fdca26"
             ],
             [
              1,
              "#f0f921"
             ]
            ],
            "type": "heatmapgl"
           }
          ],
          "histogram": [
           {
            "marker": {
             "pattern": {
              "fillmode": "overlay",
              "size": 10,
              "solidity": 0.2
             }
            },
            "type": "histogram"
           }
          ],
          "histogram2d": [
           {
            "colorbar": {
             "outlinewidth": 0,
             "ticks": ""
            },
            "colorscale": [
             [
              0,
              "#0d0887"
             ],
             [
              0.1111111111111111,
              "#46039f"
             ],
             [
              0.2222222222222222,
              "#7201a8"
             ],
             [
              0.3333333333333333,
              "#9c179e"
             ],
             [
              0.4444444444444444,
              "#bd3786"
             ],
             [
              0.5555555555555556,
              "#d8576b"
             ],
             [
              0.6666666666666666,
              "#ed7953"
             ],
             [
              0.7777777777777778,
              "#fb9f3a"
             ],
             [
              0.8888888888888888,
              "#fdca26"
             ],
             [
              1,
              "#f0f921"
             ]
            ],
            "type": "histogram2d"
           }
          ],
          "histogram2dcontour": [
           {
            "colorbar": {
             "outlinewidth": 0,
             "ticks": ""
            },
            "colorscale": [
             [
              0,
              "#0d0887"
             ],
             [
              0.1111111111111111,
              "#46039f"
             ],
             [
              0.2222222222222222,
              "#7201a8"
             ],
             [
              0.3333333333333333,
              "#9c179e"
             ],
             [
              0.4444444444444444,
              "#bd3786"
             ],
             [
              0.5555555555555556,
              "#d8576b"
             ],
             [
              0.6666666666666666,
              "#ed7953"
             ],
             [
              0.7777777777777778,
              "#fb9f3a"
             ],
             [
              0.8888888888888888,
              "#fdca26"
             ],
             [
              1,
              "#f0f921"
             ]
            ],
            "type": "histogram2dcontour"
           }
          ],
          "mesh3d": [
           {
            "colorbar": {
             "outlinewidth": 0,
             "ticks": ""
            },
            "type": "mesh3d"
           }
          ],
          "parcoords": [
           {
            "line": {
             "colorbar": {
              "outlinewidth": 0,
              "ticks": ""
             }
            },
            "type": "parcoords"
           }
          ],
          "pie": [
           {
            "automargin": true,
            "type": "pie"
           }
          ],
          "scatter": [
           {
            "fillpattern": {
             "fillmode": "overlay",
             "size": 10,
             "solidity": 0.2
            },
            "type": "scatter"
           }
          ],
          "scatter3d": [
           {
            "line": {
             "colorbar": {
              "outlinewidth": 0,
              "ticks": ""
             }
            },
            "marker": {
             "colorbar": {
              "outlinewidth": 0,
              "ticks": ""
             }
            },
            "type": "scatter3d"
           }
          ],
          "scattercarpet": [
           {
            "marker": {
             "colorbar": {
              "outlinewidth": 0,
              "ticks": ""
             }
            },
            "type": "scattercarpet"
           }
          ],
          "scattergeo": [
           {
            "marker": {
             "colorbar": {
              "outlinewidth": 0,
              "ticks": ""
             }
            },
            "type": "scattergeo"
           }
          ],
          "scattergl": [
           {
            "marker": {
             "colorbar": {
              "outlinewidth": 0,
              "ticks": ""
             }
            },
            "type": "scattergl"
           }
          ],
          "scattermapbox": [
           {
            "marker": {
             "colorbar": {
              "outlinewidth": 0,
              "ticks": ""
             }
            },
            "type": "scattermapbox"
           }
          ],
          "scatterpolar": [
           {
            "marker": {
             "colorbar": {
              "outlinewidth": 0,
              "ticks": ""
             }
            },
            "type": "scatterpolar"
           }
          ],
          "scatterpolargl": [
           {
            "marker": {
             "colorbar": {
              "outlinewidth": 0,
              "ticks": ""
             }
            },
            "type": "scatterpolargl"
           }
          ],
          "scatterternary": [
           {
            "marker": {
             "colorbar": {
              "outlinewidth": 0,
              "ticks": ""
             }
            },
            "type": "scatterternary"
           }
          ],
          "surface": [
           {
            "colorbar": {
             "outlinewidth": 0,
             "ticks": ""
            },
            "colorscale": [
             [
              0,
              "#0d0887"
             ],
             [
              0.1111111111111111,
              "#46039f"
             ],
             [
              0.2222222222222222,
              "#7201a8"
             ],
             [
              0.3333333333333333,
              "#9c179e"
             ],
             [
              0.4444444444444444,
              "#bd3786"
             ],
             [
              0.5555555555555556,
              "#d8576b"
             ],
             [
              0.6666666666666666,
              "#ed7953"
             ],
             [
              0.7777777777777778,
              "#fb9f3a"
             ],
             [
              0.8888888888888888,
              "#fdca26"
             ],
             [
              1,
              "#f0f921"
             ]
            ],
            "type": "surface"
           }
          ],
          "table": [
           {
            "cells": {
             "fill": {
              "color": "#EBF0F8"
             },
             "line": {
              "color": "white"
             }
            },
            "header": {
             "fill": {
              "color": "#C8D4E3"
             },
             "line": {
              "color": "white"
             }
            },
            "type": "table"
           }
          ]
         },
         "layout": {
          "annotationdefaults": {
           "arrowcolor": "#2a3f5f",
           "arrowhead": 0,
           "arrowwidth": 1
          },
          "autotypenumbers": "strict",
          "coloraxis": {
           "colorbar": {
            "outlinewidth": 0,
            "ticks": ""
           }
          },
          "colorscale": {
           "diverging": [
            [
             0,
             "#8e0152"
            ],
            [
             0.1,
             "#c51b7d"
            ],
            [
             0.2,
             "#de77ae"
            ],
            [
             0.3,
             "#f1b6da"
            ],
            [
             0.4,
             "#fde0ef"
            ],
            [
             0.5,
             "#f7f7f7"
            ],
            [
             0.6,
             "#e6f5d0"
            ],
            [
             0.7,
             "#b8e186"
            ],
            [
             0.8,
             "#7fbc41"
            ],
            [
             0.9,
             "#4d9221"
            ],
            [
             1,
             "#276419"
            ]
           ],
           "sequential": [
            [
             0,
             "#0d0887"
            ],
            [
             0.1111111111111111,
             "#46039f"
            ],
            [
             0.2222222222222222,
             "#7201a8"
            ],
            [
             0.3333333333333333,
             "#9c179e"
            ],
            [
             0.4444444444444444,
             "#bd3786"
            ],
            [
             0.5555555555555556,
             "#d8576b"
            ],
            [
             0.6666666666666666,
             "#ed7953"
            ],
            [
             0.7777777777777778,
             "#fb9f3a"
            ],
            [
             0.8888888888888888,
             "#fdca26"
            ],
            [
             1,
             "#f0f921"
            ]
           ],
           "sequentialminus": [
            [
             0,
             "#0d0887"
            ],
            [
             0.1111111111111111,
             "#46039f"
            ],
            [
             0.2222222222222222,
             "#7201a8"
            ],
            [
             0.3333333333333333,
             "#9c179e"
            ],
            [
             0.4444444444444444,
             "#bd3786"
            ],
            [
             0.5555555555555556,
             "#d8576b"
            ],
            [
             0.6666666666666666,
             "#ed7953"
            ],
            [
             0.7777777777777778,
             "#fb9f3a"
            ],
            [
             0.8888888888888888,
             "#fdca26"
            ],
            [
             1,
             "#f0f921"
            ]
           ]
          },
          "colorway": [
           "#636efa",
           "#EF553B",
           "#00cc96",
           "#ab63fa",
           "#FFA15A",
           "#19d3f3",
           "#FF6692",
           "#B6E880",
           "#FF97FF",
           "#FECB52"
          ],
          "font": {
           "color": "#2a3f5f"
          },
          "geo": {
           "bgcolor": "white",
           "lakecolor": "white",
           "landcolor": "#E5ECF6",
           "showlakes": true,
           "showland": true,
           "subunitcolor": "white"
          },
          "hoverlabel": {
           "align": "left"
          },
          "hovermode": "closest",
          "mapbox": {
           "style": "light"
          },
          "paper_bgcolor": "white",
          "plot_bgcolor": "#E5ECF6",
          "polar": {
           "angularaxis": {
            "gridcolor": "white",
            "linecolor": "white",
            "ticks": ""
           },
           "bgcolor": "#E5ECF6",
           "radialaxis": {
            "gridcolor": "white",
            "linecolor": "white",
            "ticks": ""
           }
          },
          "scene": {
           "xaxis": {
            "backgroundcolor": "#E5ECF6",
            "gridcolor": "white",
            "gridwidth": 2,
            "linecolor": "white",
            "showbackground": true,
            "ticks": "",
            "zerolinecolor": "white"
           },
           "yaxis": {
            "backgroundcolor": "#E5ECF6",
            "gridcolor": "white",
            "gridwidth": 2,
            "linecolor": "white",
            "showbackground": true,
            "ticks": "",
            "zerolinecolor": "white"
           },
           "zaxis": {
            "backgroundcolor": "#E5ECF6",
            "gridcolor": "white",
            "gridwidth": 2,
            "linecolor": "white",
            "showbackground": true,
            "ticks": "",
            "zerolinecolor": "white"
           }
          },
          "shapedefaults": {
           "line": {
            "color": "#2a3f5f"
           }
          },
          "ternary": {
           "aaxis": {
            "gridcolor": "white",
            "linecolor": "white",
            "ticks": ""
           },
           "baxis": {
            "gridcolor": "white",
            "linecolor": "white",
            "ticks": ""
           },
           "bgcolor": "#E5ECF6",
           "caxis": {
            "gridcolor": "white",
            "linecolor": "white",
            "ticks": ""
           }
          },
          "title": {
           "x": 0.05
          },
          "xaxis": {
           "automargin": true,
           "gridcolor": "white",
           "linecolor": "white",
           "ticks": "",
           "title": {
            "standoff": 15
           },
           "zerolinecolor": "white",
           "zerolinewidth": 2
          },
          "yaxis": {
           "automargin": true,
           "gridcolor": "white",
           "linecolor": "white",
           "ticks": "",
           "title": {
            "standoff": 15
           },
           "zerolinecolor": "white",
           "zerolinewidth": 2
          }
         }
        },
        "title": {
         "font": {
          "color": "black",
          "size": 24
         },
         "text": "Fires in 2016 by state",
         "x": 0.5
        }
       }
      }
     },
     "metadata": {},
     "output_type": "display_data"
    }
   ],
   "source": [
    "# calculations for year 2003\n",
    "by_state_2003 = df.query('year == \"2003\"').groupby('state', as_index = False).agg({'number' : 'sum'}).sort_values('number', ascending = False)\n",
    "by_state_2003['latitude'] = by_state_2003['state'].map(latitude)\n",
    "by_state_2003['longitude'] = by_state_2003['state'].map(longitude)\n",
    "\n",
    "# viz\n",
    "fig1 = px.scatter_geo(data_frame= by_state_2003, scope='south america',lat = 'latitude',lon = 'longitude',size= 'number' , color = 'state', projection= 'hammer', hover_name = 'state')\n",
    "fig1.update_layout(title = dict(text='Fires in 2003 by state',x=0.5,font=dict(color='black',size=24)))\n",
    "fig1.show()\n",
    "\n",
    "# Calculation for year 2016\n",
    "by_state_2016 = df .query('year == \"2016\"').groupby('state', as_index = False).agg({'number' : 'sum'}).sort_values('number', ascending = False)\n",
    "by_state_2016['latitude'] = by_state_2016['state'].map(latitude)\n",
    "by_state_2016['longitude'] = by_state_2016['state'].map(longitude)\n",
    "\n",
    "# vizual of Figure 2 of (2016)\n",
    "fig2 = px.scatter_geo(data_frame= by_state_2016, scope='south america',lat = 'latitude',lon = 'longitude',size= 'number' , color = 'state', projection= 'hammer', hover_name = 'state')\n",
    "fig2.update_layout(title = dict(text='Fires in 2016 by state',x=0.5,font=dict(color='black',size=24)))\n",
    "fig2.show()"
   ]
  },
  {
   "cell_type": "code",
   "execution_count": 139,
   "metadata": {},
   "outputs": [
    {
     "data": {
      "text/html": [
       "<div>\n",
       "<style scoped>\n",
       "    .dataframe tbody tr th:only-of-type {\n",
       "        vertical-align: middle;\n",
       "    }\n",
       "\n",
       "    .dataframe tbody tr th {\n",
       "        vertical-align: top;\n",
       "    }\n",
       "\n",
       "    .dataframe thead th {\n",
       "        text-align: right;\n",
       "    }\n",
       "</style>\n",
       "<table border=\"1\" class=\"dataframe\">\n",
       "  <thead>\n",
       "    <tr style=\"text-align: right;\">\n",
       "      <th></th>\n",
       "      <th>year</th>\n",
       "      <th>number</th>\n",
       "    </tr>\n",
       "  </thead>\n",
       "  <tbody>\n",
       "    <tr>\n",
       "      <th>0</th>\n",
       "      <td>1998</td>\n",
       "      <td>2392</td>\n",
       "    </tr>\n",
       "    <tr>\n",
       "      <th>1</th>\n",
       "      <td>1999</td>\n",
       "      <td>2954</td>\n",
       "    </tr>\n",
       "    <tr>\n",
       "      <th>2</th>\n",
       "      <td>2000</td>\n",
       "      <td>3872</td>\n",
       "    </tr>\n",
       "    <tr>\n",
       "      <th>3</th>\n",
       "      <td>2001</td>\n",
       "      <td>3052</td>\n",
       "    </tr>\n",
       "    <tr>\n",
       "      <th>4</th>\n",
       "      <td>2002</td>\n",
       "      <td>3626</td>\n",
       "    </tr>\n",
       "  </tbody>\n",
       "</table>\n",
       "</div>"
      ],
      "text/plain": [
       "   year  number\n",
       "0  1998    2392\n",
       "1  1999    2954\n",
       "2  2000    3872\n",
       "3  2001    3052\n",
       "4  2002    3626"
      ]
     },
     "execution_count": 139,
     "metadata": {},
     "output_type": "execute_result"
    }
   ],
   "source": [
    "max_fire_stt=df.query('state== \"Mato Grosso\"').groupby('year', as_index = False).agg({'number' : 'sum'}).sort_values('year', ascending = True)\n",
    "max_fire_stt.head()"
   ]
  },
  {
   "cell_type": "markdown",
   "metadata": {},
   "source": [
    "Here now we know that the mat grosso state having the maximum fires as per the state now we can calculate what is the total no. of fires each year in MAto Grosso State"
   ]
  },
  {
   "cell_type": "code",
   "execution_count": 140,
   "metadata": {},
   "outputs": [
    {
     "data": {
      "image/png": "[encoded data removed]",
      "text/plain": [
       "<Figure size 1400x600 with 1 Axes>"
      ]
     },
     "metadata": {},
     "output_type": "display_data"
    }
   ],
   "source": [
    "fig,ax=plt.subplots(figsize=(14,6))\n",
    "\n",
    "# list of Alpha for the opacity of bars to fade out as the value decr. in barH\n",
    "\n",
    "Alpha=[0.48,0.50,0.52,0.55,0.57,0.59,0.65,0.66,0.68,0.69,0.70,0.71,0.75]\n",
    "plt.bar(max_fire_stt['year'],max_fire_stt['number'],color=[to_rgba('darkred',alpha=s)for s in Alpha],lw=2,)\n",
    "plt.ylabel('No. of fires',fontsize=22,weight='bold',color='black')\n",
    "plt.xlabel(\"No. of fires in each year (1998 to 2017)\",size=20,weight='bold',color='black')\n",
    "\n",
    "# ticks\n",
    "plt.yticks(size=13,weight=\"bold\")\n",
    "plt.xticks(size=15,weight=\"bold\",rotation=70)\n",
    "ax.bar_label(ax.containers[0],weight=\"bold\",size=11) # bar label is for labelling each bar in the bargraph\n",
    "plt.title('No. of Fires (per year) in Mato Grossa State ',size=23,weight='bold')\n",
    "plt.grid(False)\n",
    "\n",
    "plt.show()"
   ]
  },
  {
   "cell_type": "markdown",
   "metadata": {},
   "source": [
    "Here , in the below section \n",
    "we have add up the columns seasons and half years to show the data grouped by seasons and halves of each year"
   ]
  },
  {
   "cell_type": "code",
   "execution_count": 141,
   "metadata": {},
   "outputs": [
    {
     "data": {
      "image/png": "[encoded data removed]",
      "text/plain": [
       "<Figure size 1000x100 with 1 Axes>"
      ]
     },
     "metadata": {},
     "output_type": "display_data"
    }
   ],
   "source": [
    "# lists\n",
    "\n",
    "seasons = []\n",
    "half_years = []\n",
    "\n",
    "# cycles\n",
    "\n",
    "for i in df['month']:\n",
    "    if i in ['May', 'June', 'July','August']:\n",
    "        season = 'Summer'\n",
    "    elif i in ['March','April']:\n",
    "        season = 'Spring'\n",
    "    elif i in ['December', 'January', 'February']:\n",
    "        season = 'Winter'\n",
    "    else:\n",
    "        season = 'Autumn'\n",
    "    seasons.append(season)\n",
    "\n",
    "for i in df['month']:\n",
    "    if i in ['January','February','March', 'April', 'May', 'June']:\n",
    "        half_year = '1st_half'\n",
    "    else:\n",
    "        half_year = '2nd_half'\n",
    "    half_years.append(half_year)\n",
    "\n",
    "# columns\n",
    "\n",
    "df['season'] = seasons\n",
    "df['half_year'] = half_years\n",
    "\n",
    "# calculations\n",
    "\n",
    "group_by_half_year = df.groupby('half_year', as_index = False).agg({'number' : 'sum'})\n",
    "group_by_half_year['percentage'] = round(group_by_half_year['number'] / sum(group_by_half_year['number']) * 100, 2)\n",
    "\n",
    "# fig\n",
    "\n",
    "fig = plt.figure(figsize = (10,1))\n",
    "ax1 = fig.add_axes([0, 0, 1, 1])\n",
    "\n",
    "# barh\n",
    "ax1.barh(width = group_by_half_year['percentage'][0] + group_by_half_year['percentage'][1], y = 0, color = 'firebrick')\n",
    "ax1.barh(width = group_by_half_year['percentage'][0], y = 0)\n",
    "\n",
    "# group_name\n",
    "ax1.text(group_by_half_year['percentage'][0]/3, 0.45, f\"{group_by_half_year['half_year'][0]}\", color = 'black', fontsize = 14, fontweight = 'bold')\n",
    "ax1.text(group_by_half_year['percentage'][1]/1.1, 0.45, f\"{group_by_half_year['half_year'][1]}\", color = 'black', fontsize = 14, fontweight = 'bold')\n",
    "\n",
    "# # group_percentage\n",
    "ax1.text(group_by_half_year['percentage'][0]/5, 0, f\"{group_by_half_year['percentage'][0]}%,({group_by_half_year['number'][0]})\", color = 'black', fontsize = 15, fontweight = 'bold')\n",
    "ax1.text( group_by_half_year['percentage'][1]/1.2, 0, f\"{group_by_half_year['percentage'][1]}%,({group_by_half_year['number'][1]})\", color = 'black', fontsize = 15, fontweight = 'bold')\n",
    "\n",
    "# axis\n",
    "ax1.axis('off')\n",
    "\n",
    "# # title\n",
    "plt.title('The ratio of half year',y= 1.5, color = 'black', fontsize = 22, fontweight = 'bold')\n",
    "\n",
    "plt.show()"
   ]
  },
  {
   "cell_type": "code",
   "execution_count": 142,
   "metadata": {},
   "outputs": [
    {
     "data": {
      "image/png": "[encoded data removed]",
      "text/plain": [
       "<Figure size 640x480 with 1 Axes>"
      ]
     },
     "metadata": {},
     "output_type": "display_data"
    }
   ],
   "source": [
    "# calculations\n",
    "group_by_season = df.groupby('season', as_index = False).agg({'number' : 'sum'}).sort_values('number', ascending = False)\n",
    "\n",
    "# viz\n",
    "\n",
    "fig = plt.figure()\n",
    "ax = fig.add_axes([0, 0, 1, 1])\n",
    "\n",
    "# chart\n",
    "ax.bar(x = group_by_season['season'], height = group_by_season['number'])\n",
    "plt.xlabel('Seasons',weight='bold',size=16)\n",
    "plt.ylabel('No. of Fires',weight='bold',size=16)\n",
    "\n",
    "# annotate\n",
    "ax.bar_label(ax.containers[0],weight=\"bold\",size=14)\n",
    "\n",
    "# ticks\n",
    "plt.yticks(range(0, 250001, 25000))\n",
    "plt.tick_params(direction='out', length=6, width=3, colors='black', grid_color='black', labelsize = 16)\n",
    "\n",
    "# title\n",
    "plt.title('Number of fires by season', fontsize = 20, fontweight = 'bold')\n",
    "plt.grid(False)\n",
    "plt.show()"
   ]
  },
  {
   "cell_type": "code",
   "execution_count": 143,
   "metadata": {},
   "outputs": [
    {
     "data": {
      "application/vnd.plotly.v1+json": {
       "config": {
        "plotlyServerURL": "https://plot.ly"
       },
       "data": [
        {
         "geo": "geo",
         "hovertemplate": "<b>%{hovertext}</b><br><br>state=Acre<br>number=%{marker.size}<br>latitude=%{lat}<br>longitude=%{lon}<extra></extra>",
         "hovertext": [
          "Acre"
         ],
         "lat": [
          -9.02
         ],
         "legendgroup": "Acre",
         "lon": [
          -70.812
         ],
         "marker": {
          "color": "#636efa",
          "size": [
           8907
          ],
          "sizemode": "area",
          "sizeref": 73.08,
          "symbol": "circle"
         },
         "mode": "markers",
         "name": "Acre",
         "showlegend": true,
         "type": "scattergeo"
        },
        {
         "geo": "geo",
         "hovertemplate": "<b>%{hovertext}</b><br><br>state=Alagoas<br>number=%{marker.size}<br>latitude=%{lat}<br>longitude=%{lon}<extra></extra>",
         "hovertext": [
          "Alagoas"
         ],
         "lat": [
          -9.57
         ],
         "legendgroup": "Alagoas",
         "lon": [
          -36.782
         ],
         "marker": {
          "color": "#EF553B",
          "size": [
           39
          ],
          "sizemode": "area",
          "sizeref": 73.08,
          "symbol": "circle"
         },
         "mode": "markers",
         "name": "Alagoas",
         "showlegend": true,
         "type": "scattergeo"
        },
        {
         "geo": "geo",
         "hovertemplate": "<b>%{hovertext}</b><br><br>state=Amapa<br>number=%{marker.size}<br>latitude=%{lat}<br>longitude=%{lon}<extra></extra>",
         "hovertext": [
          "Amapa"
         ],
         "lat": [
          -2.05
         ],
         "legendgroup": "Amapa",
         "lon": [
          -50.5
         ],
         "marker": {
          "color": "#00cc96",
          "size": [
           238
          ],
          "sizemode": "area",
          "sizeref": 73.08,
          "symbol": "circle"
         },
         "mode": "markers",
         "name": "Amapa",
         "showlegend": true,
         "type": "scattergeo"
        },
        {
         "geo": "geo",
         "hovertemplate": "<b>%{hovertext}</b><br><br>state=Amazonas<br>number=%{marker.size}<br>latitude=%{lat}<br>longitude=%{lon}<extra></extra>",
         "hovertext": [
          "Amazonas"
         ],
         "lat": [
          -5
         ],
         "legendgroup": "Amazonas",
         "lon": [
          -65
         ],
         "marker": {
          "color": "#ab63fa",
          "size": [
           7402
          ],
          "sizemode": "area",
          "sizeref": 73.08,
          "symbol": "circle"
         },
         "mode": "markers",
         "name": "Amazonas",
         "showlegend": true,
         "type": "scattergeo"
        },
        {
         "geo": "geo",
         "hovertemplate": "<b>%{hovertext}</b><br><br>state=Bahia<br>number=%{marker.size}<br>latitude=%{lat}<br>longitude=%{lon}<extra></extra>",
         "hovertext": [
          "Bahia"
         ],
         "lat": [
          -12
         ],
         "legendgroup": "Bahia",
         "lon": [
          -42
         ],
         "marker": {
          "color": "#FFA15A",
          "size": [
           22731
          ],
          "sizemode": "area",
          "sizeref": 73.08,
          "symbol": "circle"
         },
         "mode": "markers",
         "name": "Bahia",
         "showlegend": true,
         "type": "scattergeo"
        },
        {
         "geo": "geo",
         "hovertemplate": "<b>%{hovertext}</b><br><br>state=Ceara<br>number=%{marker.size}<br>latitude=%{lat}<br>longitude=%{lon}<extra></extra>",
         "hovertext": [
          "Ceara"
         ],
         "lat": [
          -5
         ],
         "legendgroup": "Ceara",
         "lon": [
          -40
         ],
         "marker": {
          "color": "#19d3f3",
          "size": [
           3466
          ],
          "sizemode": "area",
          "sizeref": 73.08,
          "symbol": "circle"
         },
         "mode": "markers",
         "name": "Ceara",
         "showlegend": true,
         "type": "scattergeo"
        },
        {
         "geo": "geo",
         "hovertemplate": "<b>%{hovertext}</b><br><br>state=Distrito Federal<br>number=%{marker.size}<br>latitude=%{lat}<br>longitude=%{lon}<extra></extra>",
         "hovertext": [
          "Distrito Federal"
         ],
         "lat": [
          -15.45
         ],
         "legendgroup": "Distrito Federal",
         "lon": [
          -47.45
         ],
         "marker": {
          "color": "#FF6692",
          "size": [
           1952
          ],
          "sizemode": "area",
          "sizeref": 73.08,
          "symbol": "circle"
         },
         "mode": "markers",
         "name": "Distrito Federal",
         "showlegend": true,
         "type": "scattergeo"
        },
        {
         "geo": "geo",
         "hovertemplate": "<b>%{hovertext}</b><br><br>state=Espirito Santo<br>number=%{marker.size}<br>latitude=%{lat}<br>longitude=%{lon}<extra></extra>",
         "hovertext": [
          "Espirito Santo"
         ],
         "lat": [
          -20
         ],
         "legendgroup": "Espirito Santo",
         "lon": [
          -40.45
         ],
         "marker": {
          "color": "#B6E880",
          "size": [
           1510
          ],
          "sizemode": "area",
          "sizeref": 73.08,
          "symbol": "circle"
         },
         "mode": "markers",
         "name": "Espirito Santo",
         "showlegend": true,
         "type": "scattergeo"
        },
        {
         "geo": "geo",
         "hovertemplate": "<b>%{hovertext}</b><br><br>state=Goias<br>number=%{marker.size}<br>latitude=%{lat}<br>longitude=%{lon}<extra></extra>",
         "hovertext": [
          "Goias"
         ],
         "lat": [
          -15.55
         ],
         "legendgroup": "Goias",
         "lon": [
          -50.1
         ],
         "marker": {
          "color": "#FF97FF",
          "size": [
           24307
          ],
          "sizemode": "area",
          "sizeref": 73.08,
          "symbol": "circle"
         },
         "mode": "markers",
         "name": "Goias",
         "showlegend": true,
         "type": "scattergeo"
        },
        {
         "geo": "geo",
         "hovertemplate": "<b>%{hovertext}</b><br><br>state=Maranhao<br>number=%{marker.size}<br>latitude=%{lat}<br>longitude=%{lon}<extra></extra>",
         "hovertext": [
          "Maranhao"
         ],
         "lat": [
          -5
         ],
         "legendgroup": "Maranhao",
         "lon": [
          -46
         ],
         "marker": {
          "color": "#FECB52",
          "size": [
           16765
          ],
          "sizemode": "area",
          "sizeref": 73.08,
          "symbol": "circle"
         },
         "mode": "markers",
         "name": "Maranhao",
         "showlegend": true,
         "type": "scattergeo"
        },
        {
         "geo": "geo",
         "hovertemplate": "<b>%{hovertext}</b><br><br>state=Mato Grosso<br>number=%{marker.size}<br>latitude=%{lat}<br>longitude=%{lon}<extra></extra>",
         "hovertext": [
          "Mato Grosso"
         ],
         "lat": [
          -14
         ],
         "legendgroup": "Mato Grosso",
         "lon": [
          -55
         ],
         "marker": {
          "color": "#636efa",
          "size": [
           29232
          ],
          "sizemode": "area",
          "sizeref": 73.08,
          "symbol": "circle"
         },
         "mode": "markers",
         "name": "Mato Grosso",
         "showlegend": true,
         "type": "scattergeo"
        },
        {
         "geo": "geo",
         "hovertemplate": "<b>%{hovertext}</b><br><br>state=Minas Gerais<br>number=%{marker.size}<br>latitude=%{lat}<br>longitude=%{lon}<extra></extra>",
         "hovertext": [
          "Minas Gerais"
         ],
         "lat": [
          -18.5
         ],
         "legendgroup": "Minas Gerais",
         "lon": [
          -46
         ],
         "marker": {
          "color": "#EF553B",
          "size": [
           21630
          ],
          "sizemode": "area",
          "sizeref": 73.08,
          "symbol": "circle"
         },
         "mode": "markers",
         "name": "Minas Gerais",
         "showlegend": true,
         "type": "scattergeo"
        },
        {
         "geo": "geo",
         "hovertemplate": "<b>%{hovertext}</b><br><br>state=Paraiba<br>number=%{marker.size}<br>latitude=%{lat}<br>longitude=%{lon}<extra></extra>",
         "hovertext": [
          "Paraiba"
         ],
         "lat": [
          -7
         ],
         "legendgroup": "Paraiba",
         "lon": [
          -36
         ],
         "marker": {
          "color": "#00cc96",
          "size": [
           17195
          ],
          "sizemode": "area",
          "sizeref": 73.08,
          "symbol": "circle"
         },
         "mode": "markers",
         "name": "Paraiba",
         "showlegend": true,
         "type": "scattergeo"
        },
        {
         "geo": "geo",
         "hovertemplate": "<b>%{hovertext}</b><br><br>state=Pará<br>number=%{marker.size}<br>latitude=%{lat}<br>longitude=%{lon}<extra></extra>",
         "hovertext": [
          "Pará"
         ],
         "lat": [
          -3.2
         ],
         "legendgroup": "Pará",
         "lon": [
          -52
         ],
         "marker": {
          "color": "#ab63fa",
          "size": [
           13923
          ],
          "sizemode": "area",
          "sizeref": 73.08,
          "symbol": "circle"
         },
         "mode": "markers",
         "name": "Pará",
         "showlegend": true,
         "type": "scattergeo"
        },
        {
         "geo": "geo",
         "hovertemplate": "<b>%{hovertext}</b><br><br>state=Pernambuco<br>number=%{marker.size}<br>latitude=%{lat}<br>longitude=%{lon}<extra></extra>",
         "hovertext": [
          "Pernambuco"
         ],
         "lat": [
          -8
         ],
         "legendgroup": "Pernambuco",
         "lon": [
          -37
         ],
         "marker": {
          "color": "#FFA15A",
          "size": [
           565
          ],
          "sizemode": "area",
          "sizeref": 73.08,
          "symbol": "circle"
         },
         "mode": "markers",
         "name": "Pernambuco",
         "showlegend": true,
         "type": "scattergeo"
        },
        {
         "geo": "geo",
         "hovertemplate": "<b>%{hovertext}</b><br><br>state=Piau<br>number=%{marker.size}<br>latitude=%{lat}<br>longitude=%{lon}<extra></extra>",
         "hovertext": [
          "Piau"
         ],
         "lat": [
          -7
         ],
         "legendgroup": "Piau",
         "lon": [
          -73
         ],
         "marker": {
          "color": "#19d3f3",
          "size": [
           18253
          ],
          "sizemode": "area",
          "sizeref": 73.08,
          "symbol": "circle"
         },
         "mode": "markers",
         "name": "Piau",
         "showlegend": true,
         "type": "scattergeo"
        },
        {
         "geo": "geo",
         "hovertemplate": "<b>%{hovertext}</b><br><br>state=Rio<br>number=%{marker.size}<br>latitude=%{lat}<br>longitude=%{lon}<extra></extra>",
         "hovertext": [
          "Rio"
         ],
         "lat": [
          -22.9
         ],
         "legendgroup": "Rio",
         "lon": [
          -43.17
         ],
         "marker": {
          "color": "#FF6692",
          "size": [
           13594
          ],
          "sizemode": "area",
          "sizeref": 73.08,
          "symbol": "circle"
         },
         "mode": "markers",
         "name": "Rio",
         "showlegend": true,
         "type": "scattergeo"
        },
        {
         "geo": "geo",
         "hovertemplate": "<b>%{hovertext}</b><br><br>state=Rondonia<br>number=%{marker.size}<br>latitude=%{lat}<br>longitude=%{lon}<extra></extra>",
         "hovertext": [
          "Rondonia"
         ],
         "lat": [
          -11
         ],
         "legendgroup": "Rondonia",
         "lon": [
          -63
         ],
         "marker": {
          "color": "#B6E880",
          "size": [
           9479
          ],
          "sizemode": "area",
          "sizeref": 73.08,
          "symbol": "circle"
         },
         "mode": "markers",
         "name": "Rondonia",
         "showlegend": true,
         "type": "scattergeo"
        },
        {
         "geo": "geo",
         "hovertemplate": "<b>%{hovertext}</b><br><br>state=Roraima<br>number=%{marker.size}<br>latitude=%{lat}<br>longitude=%{lon}<extra></extra>",
         "hovertext": [
          "Roraima"
         ],
         "lat": [
          -2
         ],
         "legendgroup": "Roraima",
         "lon": [
          -61.3
         ],
         "marker": {
          "color": "#FF97FF",
          "size": [
           569
          ],
          "sizemode": "area",
          "sizeref": 73.08,
          "symbol": "circle"
         },
         "mode": "markers",
         "name": "Roraima",
         "showlegend": true,
         "type": "scattergeo"
        },
        {
         "geo": "geo",
         "hovertemplate": "<b>%{hovertext}</b><br><br>state=Santa Catarina<br>number=%{marker.size}<br>latitude=%{lat}<br>longitude=%{lon}<extra></extra>",
         "hovertext": [
          "Santa Catarina"
         ],
         "lat": [
          -27.25
         ],
         "legendgroup": "Santa Catarina",
         "lon": [
          -48.3
         ],
         "marker": {
          "color": "#FECB52",
          "size": [
           10610
          ],
          "sizemode": "area",
          "sizeref": 73.08,
          "symbol": "circle"
         },
         "mode": "markers",
         "name": "Santa Catarina",
         "showlegend": true,
         "type": "scattergeo"
        },
        {
         "geo": "geo",
         "hovertemplate": "<b>%{hovertext}</b><br><br>state=Sao Paulo<br>number=%{marker.size}<br>latitude=%{lat}<br>longitude=%{lon}<extra></extra>",
         "hovertext": [
          "Sao Paulo"
         ],
         "lat": [
          -23.32
         ],
         "legendgroup": "Sao Paulo",
         "lon": [
          -46.37
         ],
         "marker": {
          "color": "#636efa",
          "size": [
           25528
          ],
          "sizemode": "area",
          "sizeref": 73.08,
          "symbol": "circle"
         },
         "mode": "markers",
         "name": "Sao Paulo",
         "showlegend": true,
         "type": "scattergeo"
        },
        {
         "geo": "geo",
         "hovertemplate": "<b>%{hovertext}</b><br><br>state=Sergipe<br>number=%{marker.size}<br>latitude=%{lat}<br>longitude=%{lon}<extra></extra>",
         "hovertext": [
          "Sergipe"
         ],
         "lat": [
          -10.3
         ],
         "legendgroup": "Sergipe",
         "lon": [
          -37.3
         ],
         "marker": {
          "color": "#EF553B",
          "size": [
           28
          ],
          "sizemode": "area",
          "sizeref": 73.08,
          "symbol": "circle"
         },
         "mode": "markers",
         "name": "Sergipe",
         "showlegend": true,
         "type": "scattergeo"
        },
        {
         "geo": "geo",
         "hovertemplate": "<b>%{hovertext}</b><br><br>state=Tocantins<br>number=%{marker.size}<br>latitude=%{lat}<br>longitude=%{lon}<extra></extra>",
         "hovertext": [
          "Tocantins"
         ],
         "lat": [
          -10
         ],
         "legendgroup": "Tocantins",
         "lon": [
          -48
         ],
         "marker": {
          "color": "#00cc96",
          "size": [
           20648
          ],
          "sizemode": "area",
          "sizeref": 73.08,
          "symbol": "circle"
         },
         "mode": "markers",
         "name": "Tocantins",
         "showlegend": true,
         "type": "scattergeo"
        }
       ],
       "layout": {
        "geo": {
         "center": {},
         "domain": {
          "x": [
           0,
           1
          ],
          "y": [
           0,
           1
          ]
         },
         "projection": {
          "type": "hammer"
         },
         "scope": "south america"
        },
        "legend": {
         "itemsizing": "constant",
         "title": {
          "text": "state"
         },
         "tracegroupgap": 0
        },
        "margin": {
         "t": 60
        },
        "template": {
         "data": {
          "bar": [
           {
            "error_x": {
             "color": "#2a3f5f"
            },
            "error_y": {
             "color": "#2a3f5f"
            },
            "marker": {
             "line": {
              "color": "#E5ECF6",
              "width": 0.5
             },
             "pattern": {
              "fillmode": "overlay",
              "size": 10,
              "solidity": 0.2
             }
            },
            "type": "bar"
           }
          ],
          "barpolar": [
           {
            "marker": {
             "line": {
              "color": "#E5ECF6",
              "width": 0.5
             },
             "pattern": {
              "fillmode": "overlay",
              "size": 10,
              "solidity": 0.2
             }
            },
            "type": "barpolar"
           }
          ],
          "carpet": [
           {
            "aaxis": {
             "endlinecolor": "#2a3f5f",
             "gridcolor": "white",
             "linecolor": "white",
             "minorgridcolor": "white",
             "startlinecolor": "#2a3f5f"
            },
            "baxis": {
             "endlinecolor": "#2a3f5f",
             "gridcolor": "white",
             "linecolor": "white",
             "minorgridcolor": "white",
             "startlinecolor": "#2a3f5f"
            },
            "type": "carpet"
           }
          ],
          "choropleth": [
           {
            "colorbar": {
             "outlinewidth": 0,
             "ticks": ""
            },
            "type": "choropleth"
           }
          ],
          "contour": [
           {
            "colorbar": {
             "outlinewidth": 0,
             "ticks": ""
            },
            "colorscale": [
             [
              0,
              "#0d0887"
             ],
             [
              0.1111111111111111,
              "#46039f"
             ],
             [
              0.2222222222222222,
              "#7201a8"
             ],
             [
              0.3333333333333333,
              "#9c179e"
             ],
             [
              0.4444444444444444,
              "#bd3786"
             ],
             [
              0.5555555555555556,
              "#d8576b"
             ],
             [
              0.6666666666666666,
              "#ed7953"
             ],
             [
              0.7777777777777778,
              "#fb9f3a"
             ],
             [
              0.8888888888888888,
              "#fdca26"
             ],
             [
              1,
              "#f0f921"
             ]
            ],
            "type": "contour"
           }
          ],
          "contourcarpet": [
           {
            "colorbar": {
             "outlinewidth": 0,
             "ticks": ""
            },
            "type": "contourcarpet"
           }
          ],
          "heatmap": [
           {
            "colorbar": {
             "outlinewidth": 0,
             "ticks": ""
            },
            "colorscale": [
             [
              0,
              "#0d0887"
             ],
             [
              0.1111111111111111,
              "#46039f"
             ],
             [
              0.2222222222222222,
              "#7201a8"
             ],
             [
              0.3333333333333333,
              "#9c179e"
             ],
             [
              0.4444444444444444,
              "#bd3786"
             ],
             [
              0.5555555555555556,
              "#d8576b"
             ],
             [
              0.6666666666666666,
              "#ed7953"
             ],
             [
              0.7777777777777778,
              "#fb9f3a"
             ],
             [
              0.8888888888888888,
              "#fdca26"
             ],
             [
              1,
              "#f0f921"
             ]
            ],
            "type": "heatmap"
           }
          ],
          "heatmapgl": [
           {
            "colorbar": {
             "outlinewidth": 0,
             "ticks": ""
            },
            "colorscale": [
             [
              0,
              "#0d0887"
             ],
             [
              0.1111111111111111,
              "#46039f"
             ],
             [
              0.2222222222222222,
              "#7201a8"
             ],
             [
              0.3333333333333333,
              "#9c179e"
             ],
             [
              0.4444444444444444,
              "#bd3786"
             ],
             [
              0.5555555555555556,
              "#d8576b"
             ],
             [
              0.6666666666666666,
              "#ed7953"
             ],
             [
              0.7777777777777778,
              "#fb9f3a"
             ],
             [
              0.8888888888888888,
              "#fdca26"
             ],
             [
              1,
              "#f0f921"
             ]
            ],
            "type": "heatmapgl"
           }
          ],
          "histogram": [
           {
            "marker": {
             "pattern": {
              "fillmode": "overlay",
              "size": 10,
              "solidity": 0.2
             }
            },
            "type": "histogram"
           }
          ],
          "histogram2d": [
           {
            "colorbar": {
             "outlinewidth": 0,
             "ticks": ""
            },
            "colorscale": [
             [
              0,
              "#0d0887"
             ],
             [
              0.1111111111111111,
              "#46039f"
             ],
             [
              0.2222222222222222,
              "#7201a8"
             ],
             [
              0.3333333333333333,
              "#9c179e"
             ],
             [
              0.4444444444444444,
              "#bd3786"
             ],
             [
              0.5555555555555556,
              "#d8576b"
             ],
             [
              0.6666666666666666,
              "#ed7953"
             ],
             [
              0.7777777777777778,
              "#fb9f3a"
             ],
             [
              0.8888888888888888,
              "#fdca26"
             ],
             [
              1,
              "#f0f921"
             ]
            ],
            "type": "histogram2d"
           }
          ],
          "histogram2dcontour": [
           {
            "colorbar": {
             "outlinewidth": 0,
             "ticks": ""
            },
            "colorscale": [
             [
              0,
              "#0d0887"
             ],
             [
              0.1111111111111111,
              "#46039f"
             ],
             [
              0.2222222222222222,
              "#7201a8"
             ],
             [
              0.3333333333333333,
              "#9c179e"
             ],
             [
              0.4444444444444444,
              "#bd3786"
             ],
             [
              0.5555555555555556,
              "#d8576b"
             ],
             [
              0.6666666666666666,
              "#ed7953"
             ],
             [
              0.7777777777777778,
              "#fb9f3a"
             ],
             [
              0.8888888888888888,
              "#fdca26"
             ],
             [
              1,
              "#f0f921"
             ]
            ],
            "type": "histogram2dcontour"
           }
          ],
          "mesh3d": [
           {
            "colorbar": {
             "outlinewidth": 0,
             "ticks": ""
            },
            "type": "mesh3d"
           }
          ],
          "parcoords": [
           {
            "line": {
             "colorbar": {
              "outlinewidth": 0,
              "ticks": ""
             }
            },
            "type": "parcoords"
           }
          ],
          "pie": [
           {
            "automargin": true,
            "type": "pie"
           }
          ],
          "scatter": [
           {
            "fillpattern": {
             "fillmode": "overlay",
             "size": 10,
             "solidity": 0.2
            },
            "type": "scatter"
           }
          ],
          "scatter3d": [
           {
            "line": {
             "colorbar": {
              "outlinewidth": 0,
              "ticks": ""
             }
            },
            "marker": {
             "colorbar": {
              "outlinewidth": 0,
              "ticks": ""
             }
            },
            "type": "scatter3d"
           }
          ],
          "scattercarpet": [
           {
            "marker": {
             "colorbar": {
              "outlinewidth": 0,
              "ticks": ""
             }
            },
            "type": "scattercarpet"
           }
          ],
          "scattergeo": [
           {
            "marker": {
             "colorbar": {
              "outlinewidth": 0,
              "ticks": ""
             }
            },
            "type": "scattergeo"
           }
          ],
          "scattergl": [
           {
            "marker": {
             "colorbar": {
              "outlinewidth": 0,
              "ticks": ""
             }
            },
            "type": "scattergl"
           }
          ],
          "scattermapbox": [
           {
            "marker": {
             "colorbar": {
              "outlinewidth": 0,
              "ticks": ""
             }
            },
            "type": "scattermapbox"
           }
          ],
          "scatterpolar": [
           {
            "marker": {
             "colorbar": {
              "outlinewidth": 0,
              "ticks": ""
             }
            },
            "type": "scatterpolar"
           }
          ],
          "scatterpolargl": [
           {
            "marker": {
             "colorbar": {
              "outlinewidth": 0,
              "ticks": ""
             }
            },
            "type": "scatterpolargl"
           }
          ],
          "scatterternary": [
           {
            "marker": {
             "colorbar": {
              "outlinewidth": 0,
              "ticks": ""
             }
            },
            "type": "scatterternary"
           }
          ],
          "surface": [
           {
            "colorbar": {
             "outlinewidth": 0,
             "ticks": ""
            },
            "colorscale": [
             [
              0,
              "#0d0887"
             ],
             [
              0.1111111111111111,
              "#46039f"
             ],
             [
              0.2222222222222222,
              "#7201a8"
             ],
             [
              0.3333333333333333,
              "#9c179e"
             ],
             [
              0.4444444444444444,
              "#bd3786"
             ],
             [
              0.5555555555555556,
              "#d8576b"
             ],
             [
              0.6666666666666666,
              "#ed7953"
             ],
             [
              0.7777777777777778,
              "#fb9f3a"
             ],
             [
              0.8888888888888888,
              "#fdca26"
             ],
             [
              1,
              "#f0f921"
             ]
            ],
            "type": "surface"
           }
          ],
          "table": [
           {
            "cells": {
             "fill": {
              "color": "#EBF0F8"
             },
             "line": {
              "color": "white"
             }
            },
            "header": {
             "fill": {
              "color": "#C8D4E3"
             },
             "line": {
              "color": "white"
             }
            },
            "type": "table"
           }
          ]
         },
         "layout": {
          "annotationdefaults": {
           "arrowcolor": "#2a3f5f",
           "arrowhead": 0,
           "arrowwidth": 1
          },
          "autotypenumbers": "strict",
          "coloraxis": {
           "colorbar": {
            "outlinewidth": 0,
            "ticks": ""
           }
          },
          "colorscale": {
           "diverging": [
            [
             0,
             "#8e0152"
            ],
            [
             0.1,
             "#c51b7d"
            ],
            [
             0.2,
             "#de77ae"
            ],
            [
             0.3,
             "#f1b6da"
            ],
            [
             0.4,
             "#fde0ef"
            ],
            [
             0.5,
             "#f7f7f7"
            ],
            [
             0.6,
             "#e6f5d0"
            ],
            [
             0.7,
             "#b8e186"
            ],
            [
             0.8,
             "#7fbc41"
            ],
            [
             0.9,
             "#4d9221"
            ],
            [
             1,
             "#276419"
            ]
           ],
           "sequential": [
            [
             0,
             "#0d0887"
            ],
            [
             0.1111111111111111,
             "#46039f"
            ],
            [
             0.2222222222222222,
             "#7201a8"
            ],
            [
             0.3333333333333333,
             "#9c179e"
            ],
            [
             0.4444444444444444,
             "#bd3786"
            ],
            [
             0.5555555555555556,
             "#d8576b"
            ],
            [
             0.6666666666666666,
             "#ed7953"
            ],
            [
             0.7777777777777778,
             "#fb9f3a"
            ],
            [
             0.8888888888888888,
             "#fdca26"
            ],
            [
             1,
             "#f0f921"
            ]
           ],
           "sequentialminus": [
            [
             0,
             "#0d0887"
            ],
            [
             0.1111111111111111,
             "#46039f"
            ],
            [
             0.2222222222222222,
             "#7201a8"
            ],
            [
             0.3333333333333333,
             "#9c179e"
            ],
            [
             0.4444444444444444,
             "#bd3786"
            ],
            [
             0.5555555555555556,
             "#d8576b"
            ],
            [
             0.6666666666666666,
             "#ed7953"
            ],
            [
             0.7777777777777778,
             "#fb9f3a"
            ],
            [
             0.8888888888888888,
             "#fdca26"
            ],
            [
             1,
             "#f0f921"
            ]
           ]
          },
          "colorway": [
           "#636efa",
           "#EF553B",
           "#00cc96",
           "#ab63fa",
           "#FFA15A",
           "#19d3f3",
           "#FF6692",
           "#B6E880",
           "#FF97FF",
           "#FECB52"
          ],
          "font": {
           "color": "#2a3f5f"
          },
          "geo": {
           "bgcolor": "white",
           "lakecolor": "white",
           "landcolor": "#E5ECF6",
           "showlakes": true,
           "showland": true,
           "subunitcolor": "white"
          },
          "hoverlabel": {
           "align": "left"
          },
          "hovermode": "closest",
          "mapbox": {
           "style": "light"
          },
          "paper_bgcolor": "white",
          "plot_bgcolor": "#E5ECF6",
          "polar": {
           "angularaxis": {
            "gridcolor": "white",
            "linecolor": "white",
            "ticks": ""
           },
           "bgcolor": "#E5ECF6",
           "radialaxis": {
            "gridcolor": "white",
            "linecolor": "white",
            "ticks": ""
           }
          },
          "scene": {
           "xaxis": {
            "backgroundcolor": "#E5ECF6",
            "gridcolor": "white",
            "gridwidth": 2,
            "linecolor": "white",
            "showbackground": true,
            "ticks": "",
            "zerolinecolor": "white"
           },
           "yaxis": {
            "backgroundcolor": "#E5ECF6",
            "gridcolor": "white",
            "gridwidth": 2,
            "linecolor": "white",
            "showbackground": true,
            "ticks": "",
            "zerolinecolor": "white"
           },
           "zaxis": {
            "backgroundcolor": "#E5ECF6",
            "gridcolor": "white",
            "gridwidth": 2,
            "linecolor": "white",
            "showbackground": true,
            "ticks": "",
            "zerolinecolor": "white"
           }
          },
          "shapedefaults": {
           "line": {
            "color": "#2a3f5f"
           }
          },
          "ternary": {
           "aaxis": {
            "gridcolor": "white",
            "linecolor": "white",
            "ticks": ""
           },
           "baxis": {
            "gridcolor": "white",
            "linecolor": "white",
            "ticks": ""
           },
           "bgcolor": "#E5ECF6",
           "caxis": {
            "gridcolor": "white",
            "linecolor": "white",
            "ticks": ""
           }
          },
          "title": {
           "x": 0.05
          },
          "xaxis": {
           "automargin": true,
           "gridcolor": "white",
           "linecolor": "white",
           "ticks": "",
           "title": {
            "standoff": 15
           },
           "zerolinecolor": "white",
           "zerolinewidth": 2
          },
          "yaxis": {
           "automargin": true,
           "gridcolor": "white",
           "linecolor": "white",
           "ticks": "",
           "title": {
            "standoff": 15
           },
           "zerolinecolor": "white",
           "zerolinewidth": 2
          }
         }
        },
        "title": {
         "font": {
          "color": "black",
          "size": 24
         },
         "text": "Fires in Summer season",
         "x": 0.5
        }
       }
      }
     },
     "metadata": {},
     "output_type": "display_data"
    }
   ],
   "source": [
    "# calculations for summer\n",
    "\n",
    "by_state_summer = df.query('season == \"Summer\"').groupby('state', as_index = False).agg({'number' : 'sum'})\n",
    "\n",
    "# calculations for location\n",
    "by_state_summer['latitude'] = by_state_summer['state'].map(latitude)\n",
    "by_state_summer['longitude'] = by_state_summer['state'].map(longitude)\n",
    "\n",
    "# viz\n",
    "\n",
    "fig1 = px.scatter_geo(data_frame= by_state_summer, scope='south america',lat = 'latitude',lon = 'longitude',size= 'number' , color = 'state', projection= 'hammer', hover_name = 'state')\n",
    "fig1.update_layout(title = dict(text='Fires in Summer season',x=0.5,font=dict(\n",
    "color='black',size=24)))\n",
    "fig1.show()"
   ]
  },
  {
   "cell_type": "markdown",
   "metadata": {},
   "source": [
    "Now we calculate the no fires occured in each month of all the years and aggregate the data according and represent it as state wise :"
   ]
  },
  {
   "cell_type": "code",
   "execution_count": 147,
   "metadata": {},
   "outputs": [
    {
     "data": {
      "image/png": "[encoded data removed]",
      "text/plain": [
       "<Figure size 800x600 with 1 Axes>"
      ]
     },
     "metadata": {},
     "output_type": "display_data"
    }
   ],
   "source": [
    "# calculations\n",
    "group_by_month = df.groupby('month', as_index = False).agg({'number' : 'sum'}).sort_values('number',ascending=False)\n",
    "\n",
    "# viz\n",
    "fig = plt.figure(figsize = (8,6))\n",
    "ax = fig.add_axes([0, 0, 1, 1])\n",
    "\n",
    "# chart\n",
    "ax.bar(x = group_by_month.month.unique(), height = group_by_month['number'])\n",
    "\n",
    "# annotate \n",
    "ax.bar_label(ax.containers[0],weight=\"bold\",size=10)\n",
    "plt.xlabel('Months',weight='bold',size=20)\n",
    "plt.ylabel('No. of Fires ocurred',weight='bold',size=20)\n",
    "\n",
    "# ticks\n",
    "plt.xticks(rotation=70)\n",
    "plt.yticks(range(0, 100001, 10000))\n",
    "plt.tick_params(direction='out', length=6, width=3, colors='black', grid_color='black', labelsize = 16)\n",
    "\n",
    "# title\n",
    "plt.title('Number of fires in each month', color = 'black', fontsize = 22, fontweight = 'bold')\n",
    "plt.grid(False)\n",
    "plt.show()"
   ]
  },
  {
   "cell_type": "markdown",
   "metadata": {},
   "source": [
    "As from the bar chart we have just shown we get to know that July is month in whuch maximum fires occured."
   ]
  },
  {
   "cell_type": "markdown",
   "metadata": {},
   "source": [
    "So lets calculate the no . of fires of each state in july month of all the years.\n",
    "Also shown the geographical chart representing it."
   ]
  },
  {
   "cell_type": "code",
   "execution_count": 145,
   "metadata": {},
   "outputs": [
    {
     "data": {
      "application/vnd.plotly.v1+json": {
       "config": {
        "plotlyServerURL": "https://plot.ly"
       },
       "data": [
        {
         "geo": "geo",
         "hovertemplate": "<b>%{hovertext}</b><br><br>state=Acre<br>number=%{marker.size}<br>latitude=%{lat}<br>longitude=%{lon}<extra></extra>",
         "hovertext": [
          "Acre"
         ],
         "lat": [
          -9.02
         ],
         "legendgroup": "Acre",
         "lon": [
          -70.812
         ],
         "marker": {
          "color": "#636efa",
          "size": [
           2291
          ],
          "sizemode": "area",
          "sizeref": 23.9375,
          "symbol": "circle"
         },
         "mode": "markers",
         "name": "Acre",
         "showlegend": true,
         "type": "scattergeo"
        },
        {
         "geo": "geo",
         "hovertemplate": "<b>%{hovertext}</b><br><br>state=Amazonas<br>number=%{marker.size}<br>latitude=%{lat}<br>longitude=%{lon}<extra></extra>",
         "hovertext": [
          "Amazonas"
         ],
         "lat": [
          -9.57
         ],
         "legendgroup": "Amazonas",
         "lon": [
          -36.782
         ],
         "marker": {
          "color": "#EF553B",
          "size": [
           3797
          ],
          "sizemode": "area",
          "sizeref": 23.9375,
          "symbol": "circle"
         },
         "mode": "markers",
         "name": "Amazonas",
         "showlegend": true,
         "type": "scattergeo"
        },
        {
         "geo": "geo",
         "hovertemplate": "<b>%{hovertext}</b><br><br>state=Bahia<br>number=%{marker.size}<br>latitude=%{lat}<br>longitude=%{lon}<extra></extra>",
         "hovertext": [
          "Bahia"
         ],
         "lat": [
          -2.05
         ],
         "legendgroup": "Bahia",
         "lon": [
          -50.5
         ],
         "marker": {
          "color": "#00cc96",
          "size": [
           7362
          ],
          "sizemode": "area",
          "sizeref": 23.9375,
          "symbol": "circle"
         },
         "mode": "markers",
         "name": "Bahia",
         "showlegend": true,
         "type": "scattergeo"
        },
        {
         "geo": "geo",
         "hovertemplate": "<b>%{hovertext}</b><br><br>state=Ceara<br>number=%{marker.size}<br>latitude=%{lat}<br>longitude=%{lon}<extra></extra>",
         "hovertext": [
          "Ceara"
         ],
         "lat": [
          -5
         ],
         "legendgroup": "Ceara",
         "lon": [
          -65
         ],
         "marker": {
          "color": "#ab63fa",
          "size": [
           724
          ],
          "sizemode": "area",
          "sizeref": 23.9375,
          "symbol": "circle"
         },
         "mode": "markers",
         "name": "Ceara",
         "showlegend": true,
         "type": "scattergeo"
        },
        {
         "geo": "geo",
         "hovertemplate": "<b>%{hovertext}</b><br><br>state=Distrito Federal<br>number=%{marker.size}<br>latitude=%{lat}<br>longitude=%{lon}<extra></extra>",
         "hovertext": [
          "Distrito Federal"
         ],
         "lat": [
          -12
         ],
         "legendgroup": "Distrito Federal",
         "lon": [
          -42
         ],
         "marker": {
          "color": "#FFA15A",
          "size": [
           591
          ],
          "sizemode": "area",
          "sizeref": 23.9375,
          "symbol": "circle"
         },
         "mode": "markers",
         "name": "Distrito Federal",
         "showlegend": true,
         "type": "scattergeo"
        },
        {
         "geo": "geo",
         "hovertemplate": "<b>%{hovertext}</b><br><br>state=Espirito Santo<br>number=%{marker.size}<br>latitude=%{lat}<br>longitude=%{lon}<extra></extra>",
         "hovertext": [
          "Espirito Santo"
         ],
         "lat": [
          -5
         ],
         "legendgroup": "Espirito Santo",
         "lon": [
          -40
         ],
         "marker": {
          "color": "#19d3f3",
          "size": [
           303
          ],
          "sizemode": "area",
          "sizeref": 23.9375,
          "symbol": "circle"
         },
         "mode": "markers",
         "name": "Espirito Santo",
         "showlegend": true,
         "type": "scattergeo"
        },
        {
         "geo": "geo",
         "hovertemplate": "<b>%{hovertext}</b><br><br>state=Goias<br>number=%{marker.size}<br>latitude=%{lat}<br>longitude=%{lon}<extra></extra>",
         "hovertext": [
          "Goias"
         ],
         "lat": [
          -15.45
         ],
         "legendgroup": "Goias",
         "lon": [
          -47.45
         ],
         "marker": {
          "color": "#FF6692",
          "size": [
           9575
          ],
          "sizemode": "area",
          "sizeref": 23.9375,
          "symbol": "circle"
         },
         "mode": "markers",
         "name": "Goias",
         "showlegend": true,
         "type": "scattergeo"
        },
        {
         "geo": "geo",
         "hovertemplate": "<b>%{hovertext}</b><br><br>state=Maranhao<br>number=%{marker.size}<br>latitude=%{lat}<br>longitude=%{lon}<extra></extra>",
         "hovertext": [
          "Maranhao"
         ],
         "lat": [
          -20
         ],
         "legendgroup": "Maranhao",
         "lon": [
          -40.45
         ],
         "marker": {
          "color": "#B6E880",
          "size": [
           3300
          ],
          "sizemode": "area",
          "sizeref": 23.9375,
          "symbol": "circle"
         },
         "mode": "markers",
         "name": "Maranhao",
         "showlegend": true,
         "type": "scattergeo"
        },
        {
         "geo": "geo",
         "hovertemplate": "<b>%{hovertext}</b><br><br>state=Mato Grosso<br>number=%{marker.size}<br>latitude=%{lat}<br>longitude=%{lon}<extra></extra>",
         "hovertext": [
          "Mato Grosso"
         ],
         "lat": [
          -15.55
         ],
         "legendgroup": "Mato Grosso",
         "lon": [
          -50.1
         ],
         "marker": {
          "color": "#FF97FF",
          "size": [
           7412
          ],
          "sizemode": "area",
          "sizeref": 23.9375,
          "symbol": "circle"
         },
         "mode": "markers",
         "name": "Mato Grosso",
         "showlegend": true,
         "type": "scattergeo"
        },
        {
         "geo": "geo",
         "hovertemplate": "<b>%{hovertext}</b><br><br>state=Minas Gerais<br>number=%{marker.size}<br>latitude=%{lat}<br>longitude=%{lon}<extra></extra>",
         "hovertext": [
          "Minas Gerais"
         ],
         "lat": [
          -5
         ],
         "legendgroup": "Minas Gerais",
         "lon": [
          -46
         ],
         "marker": {
          "color": "#FECB52",
          "size": [
           8950
          ],
          "sizemode": "area",
          "sizeref": 23.9375,
          "symbol": "circle"
         },
         "mode": "markers",
         "name": "Minas Gerais",
         "showlegend": true,
         "type": "scattergeo"
        },
        {
         "geo": "geo",
         "hovertemplate": "<b>%{hovertext}</b><br><br>state=Paraiba<br>number=%{marker.size}<br>latitude=%{lat}<br>longitude=%{lon}<extra></extra>",
         "hovertext": [
          "Paraiba"
         ],
         "lat": [
          -14
         ],
         "legendgroup": "Paraiba",
         "lon": [
          -55
         ],
         "marker": {
          "color": "#636efa",
          "size": [
           3775
          ],
          "sizemode": "area",
          "sizeref": 23.9375,
          "symbol": "circle"
         },
         "mode": "markers",
         "name": "Paraiba",
         "showlegend": true,
         "type": "scattergeo"
        },
        {
         "geo": "geo",
         "hovertemplate": "<b>%{hovertext}</b><br><br>state=Pará<br>number=%{marker.size}<br>latitude=%{lat}<br>longitude=%{lon}<extra></extra>",
         "hovertext": [
          "Pará"
         ],
         "lat": [
          -18.5
         ],
         "legendgroup": "Pará",
         "lon": [
          -46
         ],
         "marker": {
          "color": "#EF553B",
          "size": [
           9456
          ],
          "sizemode": "area",
          "sizeref": 23.9375,
          "symbol": "circle"
         },
         "mode": "markers",
         "name": "Pará",
         "showlegend": true,
         "type": "scattergeo"
        },
        {
         "geo": "geo",
         "hovertemplate": "<b>%{hovertext}</b><br><br>state=Pernambuco<br>number=%{marker.size}<br>latitude=%{lat}<br>longitude=%{lon}<extra></extra>",
         "hovertext": [
          "Pernambuco"
         ],
         "lat": [
          -7
         ],
         "legendgroup": "Pernambuco",
         "lon": [
          -36
         ],
         "marker": {
          "color": "#00cc96",
          "size": [
           65
          ],
          "sizemode": "area",
          "sizeref": 23.9375,
          "symbol": "circle"
         },
         "mode": "markers",
         "name": "Pernambuco",
         "showlegend": true,
         "type": "scattergeo"
        },
        {
         "geo": "geo",
         "hovertemplate": "<b>%{hovertext}</b><br><br>state=Piau<br>number=%{marker.size}<br>latitude=%{lat}<br>longitude=%{lon}<extra></extra>",
         "hovertext": [
          "Piau"
         ],
         "lat": [
          -3.2
         ],
         "legendgroup": "Piau",
         "lon": [
          -52
         ],
         "marker": {
          "color": "#ab63fa",
          "size": [
           7454
          ],
          "sizemode": "area",
          "sizeref": 23.9375,
          "symbol": "circle"
         },
         "mode": "markers",
         "name": "Piau",
         "showlegend": true,
         "type": "scattergeo"
        },
        {
         "geo": "geo",
         "hovertemplate": "<b>%{hovertext}</b><br><br>state=Rio<br>number=%{marker.size}<br>latitude=%{lat}<br>longitude=%{lon}<extra></extra>",
         "hovertext": [
          "Rio"
         ],
         "lat": [
          -8
         ],
         "legendgroup": "Rio",
         "lon": [
          -37
         ],
         "marker": {
          "color": "#FFA15A",
          "size": [
           3756
          ],
          "sizemode": "area",
          "sizeref": 23.9375,
          "symbol": "circle"
         },
         "mode": "markers",
         "name": "Rio",
         "showlegend": true,
         "type": "scattergeo"
        },
        {
         "geo": "geo",
         "hovertemplate": "<b>%{hovertext}</b><br><br>state=Rondonia<br>number=%{marker.size}<br>latitude=%{lat}<br>longitude=%{lon}<extra></extra>",
         "hovertext": [
          "Rondonia"
         ],
         "lat": [
          -7
         ],
         "legendgroup": "Rondonia",
         "lon": [
          -73
         ],
         "marker": {
          "color": "#19d3f3",
          "size": [
           6239
          ],
          "sizemode": "area",
          "sizeref": 23.9375,
          "symbol": "circle"
         },
         "mode": "markers",
         "name": "Rondonia",
         "showlegend": true,
         "type": "scattergeo"
        },
        {
         "geo": "geo",
         "hovertemplate": "<b>%{hovertext}</b><br><br>state=Roraima<br>number=%{marker.size}<br>latitude=%{lat}<br>longitude=%{lon}<extra></extra>",
         "hovertext": [
          "Roraima"
         ],
         "lat": [
          -22.9
         ],
         "legendgroup": "Roraima",
         "lon": [
          -43.17
         ],
         "marker": {
          "color": "#FF6692",
          "size": [
           18
          ],
          "sizemode": "area",
          "sizeref": 23.9375,
          "symbol": "circle"
         },
         "mode": "markers",
         "name": "Roraima",
         "showlegend": true,
         "type": "scattergeo"
        },
        {
         "geo": "geo",
         "hovertemplate": "<b>%{hovertext}</b><br><br>state=Santa Catarina<br>number=%{marker.size}<br>latitude=%{lat}<br>longitude=%{lon}<extra></extra>",
         "hovertext": [
          "Santa Catarina"
         ],
         "lat": [
          -11
         ],
         "legendgroup": "Santa Catarina",
         "lon": [
          -63
         ],
         "marker": {
          "color": "#B6E880",
          "size": [
           1859
          ],
          "sizemode": "area",
          "sizeref": 23.9375,
          "symbol": "circle"
         },
         "mode": "markers",
         "name": "Santa Catarina",
         "showlegend": true,
         "type": "scattergeo"
        },
        {
         "geo": "geo",
         "hovertemplate": "<b>%{hovertext}</b><br><br>state=Sao Paulo<br>number=%{marker.size}<br>latitude=%{lat}<br>longitude=%{lon}<extra></extra>",
         "hovertext": [
          "Sao Paulo"
         ],
         "lat": [
          -2
         ],
         "legendgroup": "Sao Paulo",
         "lon": [
          -61.3
         ],
         "marker": {
          "color": "#FF97FF",
          "size": [
           7961
          ],
          "sizemode": "area",
          "sizeref": 23.9375,
          "symbol": "circle"
         },
         "mode": "markers",
         "name": "Sao Paulo",
         "showlegend": true,
         "type": "scattergeo"
        },
        {
         "geo": "geo",
         "hovertemplate": "<b>%{hovertext}</b><br><br>state=Tocantins<br>number=%{marker.size}<br>latitude=%{lat}<br>longitude=%{lon}<extra></extra>",
         "hovertext": [
          "Tocantins"
         ],
         "lat": [
          -27.25
         ],
         "legendgroup": "Tocantins",
         "lon": [
          -48.3
         ],
         "marker": {
          "color": "#FECB52",
          "size": [
           6923
          ],
          "sizemode": "area",
          "sizeref": 23.9375,
          "symbol": "circle"
         },
         "mode": "markers",
         "name": "Tocantins",
         "showlegend": true,
         "type": "scattergeo"
        }
       ],
       "layout": {
        "geo": {
         "center": {},
         "domain": {
          "x": [
           0,
           1
          ],
          "y": [
           0,
           1
          ]
         },
         "projection": {
          "type": "hammer"
         },
         "scope": "south america"
        },
        "legend": {
         "itemsizing": "constant",
         "title": {
          "text": "state"
         },
         "tracegroupgap": 0
        },
        "margin": {
         "t": 60
        },
        "template": {
         "data": {
          "bar": [
           {
            "error_x": {
             "color": "#2a3f5f"
            },
            "error_y": {
             "color": "#2a3f5f"
            },
            "marker": {
             "line": {
              "color": "#E5ECF6",
              "width": 0.5
             },
             "pattern": {
              "fillmode": "overlay",
              "size": 10,
              "solidity": 0.2
             }
            },
            "type": "bar"
           }
          ],
          "barpolar": [
           {
            "marker": {
             "line": {
              "color": "#E5ECF6",
              "width": 0.5
             },
             "pattern": {
              "fillmode": "overlay",
              "size": 10,
              "solidity": 0.2
             }
            },
            "type": "barpolar"
           }
          ],
          "carpet": [
           {
            "aaxis": {
             "endlinecolor": "#2a3f5f",
             "gridcolor": "white",
             "linecolor": "white",
             "minorgridcolor": "white",
             "startlinecolor": "#2a3f5f"
            },
            "baxis": {
             "endlinecolor": "#2a3f5f",
             "gridcolor": "white",
             "linecolor": "white",
             "minorgridcolor": "white",
             "startlinecolor": "#2a3f5f"
            },
            "type": "carpet"
           }
          ],
          "choropleth": [
           {
            "colorbar": {
             "outlinewidth": 0,
             "ticks": ""
            },
            "type": "choropleth"
           }
          ],
          "contour": [
           {
            "colorbar": {
             "outlinewidth": 0,
             "ticks": ""
            },
            "colorscale": [
             [
              0,
              "#0d0887"
             ],
             [
              0.1111111111111111,
              "#46039f"
             ],
             [
              0.2222222222222222,
              "#7201a8"
             ],
             [
              0.3333333333333333,
              "#9c179e"
             ],
             [
              0.4444444444444444,
              "#bd3786"
             ],
             [
              0.5555555555555556,
              "#d8576b"
             ],
             [
              0.6666666666666666,
              "#ed7953"
             ],
             [
              0.7777777777777778,
              "#fb9f3a"
             ],
             [
              0.8888888888888888,
              "#fdca26"
             ],
             [
              1,
              "#f0f921"
             ]
            ],
            "type": "contour"
           }
          ],
          "contourcarpet": [
           {
            "colorbar": {
             "outlinewidth": 0,
             "ticks": ""
            },
            "type": "contourcarpet"
           }
          ],
          "heatmap": [
           {
            "colorbar": {
             "outlinewidth": 0,
             "ticks": ""
            },
            "colorscale": [
             [
              0,
              "#0d0887"
             ],
             [
              0.1111111111111111,
              "#46039f"
             ],
             [
              0.2222222222222222,
              "#7201a8"
             ],
             [
              0.3333333333333333,
              "#9c179e"
             ],
             [
              0.4444444444444444,
              "#bd3786"
             ],
             [
              0.5555555555555556,
              "#d8576b"
             ],
             [
              0.6666666666666666,
              "#ed7953"
             ],
             [
              0.7777777777777778,
              "#fb9f3a"
             ],
             [
              0.8888888888888888,
              "#fdca26"
             ],
             [
              1,
              "#f0f921"
             ]
            ],
            "type": "heatmap"
           }
          ],
          "heatmapgl": [
           {
            "colorbar": {
             "outlinewidth": 0,
             "ticks": ""
            },
            "colorscale": [
             [
              0,
              "#0d0887"
             ],
             [
              0.1111111111111111,
              "#46039f"
             ],
             [
              0.2222222222222222,
              "#7201a8"
             ],
             [
              0.3333333333333333,
              "#9c179e"
             ],
             [
              0.4444444444444444,
              "#bd3786"
             ],
             [
              0.5555555555555556,
              "#d8576b"
             ],
             [
              0.6666666666666666,
              "#ed7953"
             ],
             [
              0.7777777777777778,
              "#fb9f3a"
             ],
             [
              0.8888888888888888,
              "#fdca26"
             ],
             [
              1,
              "#f0f921"
             ]
            ],
            "type": "heatmapgl"
           }
          ],
          "histogram": [
           {
            "marker": {
             "pattern": {
              "fillmode": "overlay",
              "size": 10,
              "solidity": 0.2
             }
            },
            "type": "histogram"
           }
          ],
          "histogram2d": [
           {
            "colorbar": {
             "outlinewidth": 0,
             "ticks": ""
            },
            "colorscale": [
             [
              0,
              "#0d0887"
             ],
             [
              0.1111111111111111,
              "#46039f"
             ],
             [
              0.2222222222222222,
              "#7201a8"
             ],
             [
              0.3333333333333333,
              "#9c179e"
             ],
             [
              0.4444444444444444,
              "#bd3786"
             ],
             [
              0.5555555555555556,
              "#d8576b"
             ],
             [
              0.6666666666666666,
              "#ed7953"
             ],
             [
              0.7777777777777778,
              "#fb9f3a"
             ],
             [
              0.8888888888888888,
              "#fdca26"
             ],
             [
              1,
              "#f0f921"
             ]
            ],
            "type": "histogram2d"
           }
          ],
          "histogram2dcontour": [
           {
            "colorbar": {
             "outlinewidth": 0,
             "ticks": ""
            },
            "colorscale": [
             [
              0,
              "#0d0887"
             ],
             [
              0.1111111111111111,
              "#46039f"
             ],
             [
              0.2222222222222222,
              "#7201a8"
             ],
             [
              0.3333333333333333,
              "#9c179e"
             ],
             [
              0.4444444444444444,
              "#bd3786"
             ],
             [
              0.5555555555555556,
              "#d8576b"
             ],
             [
              0.6666666666666666,
              "#ed7953"
             ],
             [
              0.7777777777777778,
              "#fb9f3a"
             ],
             [
              0.8888888888888888,
              "#fdca26"
             ],
             [
              1,
              "#f0f921"
             ]
            ],
            "type": "histogram2dcontour"
           }
          ],
          "mesh3d": [
           {
            "colorbar": {
             "outlinewidth": 0,
             "ticks": ""
            },
            "type": "mesh3d"
           }
          ],
          "parcoords": [
           {
            "line": {
             "colorbar": {
              "outlinewidth": 0,
              "ticks": ""
             }
            },
            "type": "parcoords"
           }
          ],
          "pie": [
           {
            "automargin": true,
            "type": "pie"
           }
          ],
          "scatter": [
           {
            "fillpattern": {
             "fillmode": "overlay",
             "size": 10,
             "solidity": 0.2
            },
            "type": "scatter"
           }
          ],
          "scatter3d": [
           {
            "line": {
             "colorbar": {
              "outlinewidth": 0,
              "ticks": ""
             }
            },
            "marker": {
             "colorbar": {
              "outlinewidth": 0,
              "ticks": ""
             }
            },
            "type": "scatter3d"
           }
          ],
          "scattercarpet": [
           {
            "marker": {
             "colorbar": {
              "outlinewidth": 0,
              "ticks": ""
             }
            },
            "type": "scattercarpet"
           }
          ],
          "scattergeo": [
           {
            "marker": {
             "colorbar": {
              "outlinewidth": 0,
              "ticks": ""
             }
            },
            "type": "scattergeo"
           }
          ],
          "scattergl": [
           {
            "marker": {
             "colorbar": {
              "outlinewidth": 0,
              "ticks": ""
             }
            },
            "type": "scattergl"
           }
          ],
          "scattermapbox": [
           {
            "marker": {
             "colorbar": {
              "outlinewidth": 0,
              "ticks": ""
             }
            },
            "type": "scattermapbox"
           }
          ],
          "scatterpolar": [
           {
            "marker": {
             "colorbar": {
              "outlinewidth": 0,
              "ticks": ""
             }
            },
            "type": "scatterpolar"
           }
          ],
          "scatterpolargl": [
           {
            "marker": {
             "colorbar": {
              "outlinewidth": 0,
              "ticks": ""
             }
            },
            "type": "scatterpolargl"
           }
          ],
          "scatterternary": [
           {
            "marker": {
             "colorbar": {
              "outlinewidth": 0,
              "ticks": ""
             }
            },
            "type": "scatterternary"
           }
          ],
          "surface": [
           {
            "colorbar": {
             "outlinewidth": 0,
             "ticks": ""
            },
            "colorscale": [
             [
              0,
              "#0d0887"
             ],
             [
              0.1111111111111111,
              "#46039f"
             ],
             [
              0.2222222222222222,
              "#7201a8"
             ],
             [
              0.3333333333333333,
              "#9c179e"
             ],
             [
              0.4444444444444444,
              "#bd3786"
             ],
             [
              0.5555555555555556,
              "#d8576b"
             ],
             [
              0.6666666666666666,
              "#ed7953"
             ],
             [
              0.7777777777777778,
              "#fb9f3a"
             ],
             [
              0.8888888888888888,
              "#fdca26"
             ],
             [
              1,
              "#f0f921"
             ]
            ],
            "type": "surface"
           }
          ],
          "table": [
           {
            "cells": {
             "fill": {
              "color": "#EBF0F8"
             },
             "line": {
              "color": "white"
             }
            },
            "header": {
             "fill": {
              "color": "#C8D4E3"
             },
             "line": {
              "color": "white"
             }
            },
            "type": "table"
           }
          ]
         },
         "layout": {
          "annotationdefaults": {
           "arrowcolor": "#2a3f5f",
           "arrowhead": 0,
           "arrowwidth": 1
          },
          "autotypenumbers": "strict",
          "coloraxis": {
           "colorbar": {
            "outlinewidth": 0,
            "ticks": ""
           }
          },
          "colorscale": {
           "diverging": [
            [
             0,
             "#8e0152"
            ],
            [
             0.1,
             "#c51b7d"
            ],
            [
             0.2,
             "#de77ae"
            ],
            [
             0.3,
             "#f1b6da"
            ],
            [
             0.4,
             "#fde0ef"
            ],
            [
             0.5,
             "#f7f7f7"
            ],
            [
             0.6,
             "#e6f5d0"
            ],
            [
             0.7,
             "#b8e186"
            ],
            [
             0.8,
             "#7fbc41"
            ],
            [
             0.9,
             "#4d9221"
            ],
            [
             1,
             "#276419"
            ]
           ],
           "sequential": [
            [
             0,
             "#0d0887"
            ],
            [
             0.1111111111111111,
             "#46039f"
            ],
            [
             0.2222222222222222,
             "#7201a8"
            ],
            [
             0.3333333333333333,
             "#9c179e"
            ],
            [
             0.4444444444444444,
             "#bd3786"
            ],
            [
             0.5555555555555556,
             "#d8576b"
            ],
            [
             0.6666666666666666,
             "#ed7953"
            ],
            [
             0.7777777777777778,
             "#fb9f3a"
            ],
            [
             0.8888888888888888,
             "#fdca26"
            ],
            [
             1,
             "#f0f921"
            ]
           ],
           "sequentialminus": [
            [
             0,
             "#0d0887"
            ],
            [
             0.1111111111111111,
             "#46039f"
            ],
            [
             0.2222222222222222,
             "#7201a8"
            ],
            [
             0.3333333333333333,
             "#9c179e"
            ],
            [
             0.4444444444444444,
             "#bd3786"
            ],
            [
             0.5555555555555556,
             "#d8576b"
            ],
            [
             0.6666666666666666,
             "#ed7953"
            ],
            [
             0.7777777777777778,
             "#fb9f3a"
            ],
            [
             0.8888888888888888,
             "#fdca26"
            ],
            [
             1,
             "#f0f921"
            ]
           ]
          },
          "colorway": [
           "#636efa",
           "#EF553B",
           "#00cc96",
           "#ab63fa",
           "#FFA15A",
           "#19d3f3",
           "#FF6692",
           "#B6E880",
           "#FF97FF",
           "#FECB52"
          ],
          "font": {
           "color": "#2a3f5f"
          },
          "geo": {
           "bgcolor": "white",
           "lakecolor": "white",
           "landcolor": "#E5ECF6",
           "showlakes": true,
           "showland": true,
           "subunitcolor": "white"
          },
          "hoverlabel": {
           "align": "left"
          },
          "hovermode": "closest",
          "mapbox": {
           "style": "light"
          },
          "paper_bgcolor": "white",
          "plot_bgcolor": "#E5ECF6",
          "polar": {
           "angularaxis": {
            "gridcolor": "white",
            "linecolor": "white",
            "ticks": ""
           },
           "bgcolor": "#E5ECF6",
           "radialaxis": {
            "gridcolor": "white",
            "linecolor": "white",
            "ticks": ""
           }
          },
          "scene": {
           "xaxis": {
            "backgroundcolor": "#E5ECF6",
            "gridcolor": "white",
            "gridwidth": 2,
            "linecolor": "white",
            "showbackground": true,
            "ticks": "",
            "zerolinecolor": "white"
           },
           "yaxis": {
            "backgroundcolor": "#E5ECF6",
            "gridcolor": "white",
            "gridwidth": 2,
            "linecolor": "white",
            "showbackground": true,
            "ticks": "",
            "zerolinecolor": "white"
           },
           "zaxis": {
            "backgroundcolor": "#E5ECF6",
            "gridcolor": "white",
            "gridwidth": 2,
            "linecolor": "white",
            "showbackground": true,
            "ticks": "",
            "zerolinecolor": "white"
           }
          },
          "shapedefaults": {
           "line": {
            "color": "#2a3f5f"
           }
          },
          "ternary": {
           "aaxis": {
            "gridcolor": "white",
            "linecolor": "white",
            "ticks": ""
           },
           "baxis": {
            "gridcolor": "white",
            "linecolor": "white",
            "ticks": ""
           },
           "bgcolor": "#E5ECF6",
           "caxis": {
            "gridcolor": "white",
            "linecolor": "white",
            "ticks": ""
           }
          },
          "title": {
           "x": 0.05
          },
          "xaxis": {
           "automargin": true,
           "gridcolor": "white",
           "linecolor": "white",
           "ticks": "",
           "title": {
            "standoff": 15
           },
           "zerolinecolor": "white",
           "zerolinewidth": 2
          },
          "yaxis": {
           "automargin": true,
           "gridcolor": "white",
           "linecolor": "white",
           "ticks": "",
           "title": {
            "standoff": 15
           },
           "zerolinecolor": "white",
           "zerolinewidth": 2
          }
         }
        },
        "title": {
         "font": {
          "color": "black",
          "size": 24
         },
         "text": "Fires in July by state",
         "x": 0.5
        }
       }
      }
     },
     "metadata": {},
     "output_type": "display_data"
    }
   ],
   "source": [
    "# calculations for July\n",
    "by_state_july = df.query('month == \"July\"').groupby('state', as_index = False).agg({'number' : 'sum'})\n",
    "# calculations for location\n",
    "by_state_july['latitude'] = by_state_2003['state'].map(latitude)\n",
    "by_state_july['longitude'] = by_state_2003['state'].map(longitude)\n",
    "\n",
    "# viz\n",
    "fig1 = px.scatter_geo(data_frame= by_state_july, scope='south america',lat = 'latitude',lon = 'longitude',size= 'number' , color = 'state', projection= 'hammer', hover_name = 'state')\n",
    "fig1.update_layout(title = dict(text='Fires in July by state',x=0.5,font=dict(\n",
    "color='black',size=24)))\n",
    "fig1.show()\n"
   ]
  },
  {
   "cell_type": "markdown",
   "metadata": {},
   "source": [
    "## Conclusion: \n",
    "### After examining the data we have concluded or found these info's about the wildfires:\n",
    "##### 1.State with the most fires - Mato Grosso;\n",
    "##### 2.The largest number of fires was in 2003, 2015 and 2016, during these years there were different top 3 states by the number of fires;\n",
    "##### 3.Almost 2/3 of the fires occurred in the second half of the year, the top 5 states, depending on the half of the year, are different;\n",
    "##### 4.The greatest number of fires was in summer and autumn;\n",
    "##### 5.The highest number of fires was in July."
   ]
  }
 ],
 "metadata": {
  "kernelspec": {
   "display_name": "Python 3",
   "language": "python",
   "name": "python3"
  },
  "language_info": {
   "codemirror_mode": {
    "name": "ipython",
    "version": 3
   },
   "file_extension": ".py",
   "mimetype": "text/x-python",
   "name": "python",
   "nbconvert_exporter": "python",
   "pygments_lexer": "ipython3",
   "version": "3.10.7"
  },
  "orig_nbformat": 4,
  "vscode": {
   "interpreter": {
    "hash": "26de051ba29f2982a8de78e945f0abaf191376122a1563185a90213a26c5da77"
   }
  }
 },
 "nbformat": 4,
 "nbformat_minor": 2
}
